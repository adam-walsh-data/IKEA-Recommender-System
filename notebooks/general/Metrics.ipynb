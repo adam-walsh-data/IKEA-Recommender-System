{
 "cells": [
  {
   "attachments": {},
   "cell_type": "markdown",
   "metadata": {},
   "source": [
    "## Novelty"
   ]
  },
  {
   "cell_type": "code",
   "execution_count": 45,
   "metadata": {},
   "outputs": [],
   "source": [
    "import pandas as pd\n",
    "\n",
    "# Load sampled data\n",
    "all_events = pd.read_csv('../data/RetailRocket/sorted_events.csv')"
   ]
  },
  {
   "cell_type": "code",
   "execution_count": 2,
   "metadata": {},
   "outputs": [
    {
     "data": {
      "text/plain": [
       "[]"
      ]
     },
     "execution_count": 2,
     "metadata": {},
     "output_type": "execute_result"
    },
    {
     "data": {
      "image/png": "[encoded data removed]",
      "text/plain": [
       "<Figure size 640x480 with 1 Axes>"
      ]
     },
     "metadata": {},
     "output_type": "display_data"
    }
   ],
   "source": [
    "import matplotlib.pyplot as plt\n",
    "import numpy as np\n",
    "\n",
    "# Plot item frequency with 90% quantile\n",
    "freqs = all_events.item_id.value_counts().sort_values(ascending=False)\n",
    "quant = np.quantile(freqs, q=0.9)\n",
    "idx_first_smaller = np.argmax(freqs < quant)\n",
    "plt.plot(range(len(all_events.item_id.unique())), freqs)\n",
    "plt.vlines(x=idx_first_smaller, ymin=0, ymax=2000, colors=\"r\")\n",
    "#plt.ylim(0,30)\n",
    "plt.plot()"
   ]
  },
  {
   "cell_type": "code",
   "execution_count": 3,
   "metadata": {},
   "outputs": [
    {
     "data": {
      "text/plain": [
       "70852"
      ]
     },
     "execution_count": 3,
     "metadata": {},
     "output_type": "execute_result"
    }
   ],
   "source": [
    "len(all_events.item_id.unique())  # 70852 items"
   ]
  },
  {
   "cell_type": "code",
   "execution_count": 4,
   "metadata": {},
   "outputs": [
    {
     "data": {
      "text/plain": [
       "array([60408, 13988, 37540, ..., 51933, 50544,  1368])"
      ]
     },
     "execution_count": 4,
     "metadata": {},
     "output_type": "execute_result"
    }
   ],
   "source": [
    "# Check on GPU!\n",
    "freqs = all_events.item_id.value_counts().sort_values(ascending=False)\n",
    "quant = np.quantile(freqs, q=0.9)\n",
    "freqs[freqs<quant].index.values"
   ]
  },
  {
   "cell_type": "code",
   "execution_count": 5,
   "metadata": {},
   "outputs": [
    {
     "data": {
      "text/plain": [
       "False"
      ]
     },
     "execution_count": 5,
     "metadata": {},
     "output_type": "execute_result"
    }
   ],
   "source": [
    "(freqs<quant)[70075]"
   ]
  },
  {
   "cell_type": "code",
   "execution_count": 6,
   "metadata": {},
   "outputs": [
    {
     "data": {
      "text/plain": [
       "True"
      ]
     },
     "execution_count": 6,
     "metadata": {},
     "output_type": "execute_result"
    }
   ],
   "source": [
    "import pathlib\n",
    "\"df\" in str(pathlib.Path(\"../data/RetailRocket/data_statis.df\").absolute())"
   ]
  },
  {
   "cell_type": "code",
   "execution_count": 2,
   "metadata": {},
   "outputs": [
    {
     "data": {
      "text/plain": [
       "63562"
      ]
     },
     "execution_count": 2,
     "metadata": {},
     "output_type": "execute_result"
    }
   ],
   "source": [
    "\n",
    "from recommenders.data_utils.item_frequency import load_unpopular_items\n",
    "data_path = \"../data/SMORL-RetailRocket/unpopular_items.pkl\"\n",
    "unpop_set = load_unpopular_items(data_dir=data_path)\n",
    "len(unpop_set)"
   ]
  },
  {
   "cell_type": "code",
   "execution_count": 8,
   "metadata": {},
   "outputs": [],
   "source": [
    "# Check if included\n",
    "import torch \n",
    "a = torch.tensor([[1,2,3,4], [10,11,12,13],[-1,-1,-1,1]])"
   ]
  },
  {
   "cell_type": "code",
   "execution_count": 9,
   "metadata": {},
   "outputs": [
    {
     "data": {
      "text/plain": [
       "array([1.  , 1.  , 0.25])"
      ]
     },
     "execution_count": 9,
     "metadata": {},
     "output_type": "execute_result"
    }
   ],
   "source": [
    "#%%timeit\n",
    "def compare(array, l):\n",
    "    return array in l\n",
    "func = np.vectorize(compare, excluded=[\"l\"])\n",
    "res =func(a, l=less_popular_items).astype(int)\n",
    "np.mean(res, axis=1)"
   ]
  },
  {
   "cell_type": "markdown",
   "metadata": {},
   "source": [
    "## Diversity\n",
    "\n",
    "In the paper they use only the top prediction to get the diversity reward. Let's integrate at least an option asame for novelty to get the average reward based on the topX preds. "
   ]
  },
  {
   "cell_type": "code",
   "execution_count": 13,
   "metadata": {},
   "outputs": [],
   "source": [
    "# Load it and use it for diversity computation\n",
    "import torch\n",
    "emb = torch.nn.Embedding.from_pretrained(torch.load(\"../experiments/GRU4Rec/GRU_end_opt1/embedding_weights.pt\"), freeze=True)"
   ]
  },
  {
   "cell_type": "code",
   "execution_count": 14,
   "metadata": {},
   "outputs": [
    {
     "data": {
      "text/plain": [
       "tensor([[ 4],\n",
       "        [14]])"
      ]
     },
     "execution_count": 14,
     "metadata": {},
     "output_type": "execute_result"
    }
   ],
   "source": [
    "# Gather the right values\n",
    "state_back = torch.tensor([[1,2,3,4,0,0], [12,13,14,0,0,0]])\n",
    "state_back.gather(index=torch.tensor([3,2]).unsqueeze(1), dim=1)"
   ]
  },
  {
   "cell_type": "code",
   "execution_count": 15,
   "metadata": {},
   "outputs": [
    {
     "name": "stdout",
     "output_type": "stream",
     "text": [
      "tensor([3, 2])\n",
      "tensor([3, 2])\n"
     ]
    }
   ],
   "source": [
    "preds = torch.tensor([[100, 50, 0, 0, 0], [100, -10, 10, 0, 0]])\n",
    "state_front = torch.tensor([[0,0,1,2,3,3], [0,0,0,12,13,2]])\n",
    "state_back = torch.tensor([[1,2,3,3,0,0], [12,13,2,0,0,0]])\n",
    "leng = torch.tensor([4,3])\n",
    "\n",
    "# Extract last click from state\n",
    "def get_last_action(s, padding_pos, s_len=None):\n",
    "    if padding_pos==\"end\":\n",
    "        idx=s_len-1\n",
    "        return s.gather(index=idx.unsqueeze(1), dim=1).squeeze()\n",
    "    else:\n",
    "        return s[:,-1]\n",
    "    \n",
    "print(get_last_action(state_back, padding_pos=\"end\", s_len=leng))\n",
    "print(get_last_action(s=state_front, padding_pos=\"beg\", ))"
   ]
  },
  {
   "cell_type": "code",
   "execution_count": 35,
   "metadata": {},
   "outputs": [
    {
     "name": "stdout",
     "output_type": "stream",
     "text": [
      "tensor([3, 2])\n",
      "torch.Size([2, 64])\n",
      "torch.Size([2, 3, 64])\n",
      "tensor([[ 0.0163,  0.0192,  1.0000],\n",
      "        [-0.2763,  1.0000, -0.1198]])\n",
      "tensor([[ 0.0163],\n",
      "        [-0.2763]])\n"
     ]
    }
   ],
   "source": [
    "# Cosine similarity as in paper\n",
    "sim = torch.nn.CosineSimilarity(dim=2, eps=1e-6)\n",
    "\n",
    "preds = torch.tensor([[100, 50, 0,25], [0,3,2, 1]])\n",
    "last_a = get_last_action(state_back, padding_pos=\"end\", s_len=leng)\n",
    "print(last_a)\n",
    "#last_a = torch.tensor([ 3, 2])\n",
    "embedded_last_a = emb(last_a)  # (bs, emb_s)\n",
    "\n",
    "_, preds_1 = torch.topk(preds, k=1)\n",
    "_, preds_3 = torch.topk(preds, k=3)\n",
    "embedded_preds_top1 = emb(preds_1)\n",
    "embedded_preds_top3 = emb(preds_3)  # top3\n",
    "print(embedded_last_a.shape)\n",
    "print(embedded_preds_top3.shape)\n",
    "\n",
    "res_top3 = sim(embedded_last_a.unsqueeze(1), embedded_preds_top3)  \n",
    "res_top1 = sim(embedded_last_a.unsqueeze(1), embedded_preds_top1)  \n",
    "print(res_top3)\n",
    "print(res_top1)\n",
    "# Output represents cosine sim for each of topk preds to last action in each batch!\n",
    "# cos_sim((batch_size, 1, embedding_dim), (batch_size, topk, embedding_dim)) -> (batch_size, topk)"
   ]
  },
  {
   "cell_type": "code",
   "execution_count": 41,
   "metadata": {},
   "outputs": [
    {
     "data": {
      "text/plain": [
       "tensor([0.9837, 1.2763])"
      ]
     },
     "execution_count": 41,
     "metadata": {},
     "output_type": "execute_result"
    }
   ],
   "source": [
    "1-torch.mean(res_top1, dim=1)"
   ]
  },
  {
   "cell_type": "code",
   "execution_count": 39,
   "metadata": {},
   "outputs": [
    {
     "data": {
      "text/plain": [
       "tensor([0.9837, 1.2763])"
      ]
     },
     "execution_count": 39,
     "metadata": {},
     "output_type": "execute_result"
    }
   ],
   "source": [
    "from recommenders.evaluate.diversity import get_batch_diversity_rewards\n",
    "emb.to(\"cpu\")\n",
    "get_batch_diversity_rewards(state_back, preds, len_states=leng, padding_pos=\"end\", topk_to_consider=1, embedding_layer=emb)"
   ]
  },
  {
   "cell_type": "code",
   "execution_count": 20,
   "metadata": {},
   "outputs": [
    {
     "data": {
      "text/plain": [
       "0.03535191"
      ]
     },
     "execution_count": 20,
     "metadata": {},
     "output_type": "execute_result"
    }
   ],
   "source": [
    "import numpy as np\n",
    "a = embedded_last_a[0,:]\n",
    "b = embedded_preds[1, 1,:]\n",
    "np.dot(a, b)/(np.linalg.norm(a)*np.linalg.norm(b))"
   ]
  },
  {
   "cell_type": "code",
   "execution_count": 21,
   "metadata": {},
   "outputs": [
    {
     "data": {
      "text/plain": [
       "0.03535191"
      ]
     },
     "execution_count": 21,
     "metadata": {},
     "output_type": "execute_result"
    }
   ],
   "source": [
    "import numpy as np\n",
    "a = embedded_last_a[0,:]\n",
    "b = embedded_preds[1, 1,:]\n",
    "np.dot(a, b)/(np.linalg.norm(a)*np.linalg.norm(b))"
   ]
  },
  {
   "cell_type": "code",
   "execution_count": 22,
   "metadata": {},
   "outputs": [
    {
     "name": "stdout",
     "output_type": "stream",
     "text": [
      "tensor([[0.1661, 0.2022, 1.0000],\n",
      "        [0.0166, 1.0000, 0.0354]])\n"
     ]
    },
    {
     "data": {
      "text/plain": [
       "tensor([0.5439, 0.6494])"
      ]
     },
     "execution_count": 22,
     "metadata": {},
     "output_type": "execute_result"
    }
   ],
   "source": [
    "simila = sim(embedded_last_a.unsqueeze(1), embedded_preds)\n",
    "print(simila)\n",
    "\n",
    "# Avergae \n",
    "1- torch.mean(simila, dim=1)"
   ]
  },
  {
   "cell_type": "code",
   "execution_count": 23,
   "metadata": {},
   "outputs": [
    {
     "ename": "TypeError",
     "evalue": "unsupported operand type(s) for -: 'builtin_function_or_method' and 'int'",
     "output_type": "error",
     "traceback": [
      "\u001b[0;31m---------------------------------------------------------------------------\u001b[0m",
      "\u001b[0;31mTypeError\u001b[0m                                 Traceback (most recent call last)",
      "Cell \u001b[0;32mIn[23], line 26\u001b[0m\n\u001b[1;32m     22\u001b[0m     batch_rewards \u001b[39m=\u001b[39m \u001b[39m1\u001b[39m \u001b[39m-\u001b[39m mean_sim\n\u001b[1;32m     24\u001b[0m     \u001b[39mreturn\u001b[39;00m batch_rewards\n\u001b[0;32m---> 26\u001b[0m get_batch_diversity_rewards(state_back, preds, \u001b[39mlen\u001b[39;49m, padding_pos\u001b[39m=\u001b[39;49m\u001b[39m\"\u001b[39;49m\u001b[39mend\u001b[39;49m\u001b[39m\"\u001b[39;49m, topk_to_consider\u001b[39m=\u001b[39;49m\u001b[39m3\u001b[39;49m, embedding_layer\u001b[39m=\u001b[39;49memb)\n",
      "Cell \u001b[0;32mIn[23], line 8\u001b[0m, in \u001b[0;36mget_batch_diversity_rewards\u001b[0;34m(s, predictions, len_states, padding_pos, topk_to_consider, embedding_layer)\u001b[0m\n\u001b[1;32m      5\u001b[0m cos_sim \u001b[39m=\u001b[39m torch\u001b[39m.\u001b[39mnn\u001b[39m.\u001b[39mCosineSimilarity(dim\u001b[39m=\u001b[39m\u001b[39m2\u001b[39m, eps\u001b[39m=\u001b[39m\u001b[39m1e-6\u001b[39m)\n\u001b[1;32m      7\u001b[0m \u001b[39m# Get tensor (batch_size) of last actions\u001b[39;00m\n\u001b[0;32m----> 8\u001b[0m last_actions \u001b[39m=\u001b[39m get_last_action(s\u001b[39m=\u001b[39;49ms, padding_pos\u001b[39m=\u001b[39;49mpadding_pos, s_len\u001b[39m=\u001b[39;49mlen_states)\n\u001b[1;32m     10\u001b[0m \u001b[39m# Choose topk preds to consider\u001b[39;00m\n\u001b[1;32m     11\u001b[0m _, action_idx \u001b[39m=\u001b[39m torch\u001b[39m.\u001b[39mtopk(predictions, k\u001b[39m=\u001b[39mtopk_to_consider)\n",
      "Cell \u001b[0;32mIn[12], line 9\u001b[0m, in \u001b[0;36mget_last_action\u001b[0;34m(s, padding_pos, s_len)\u001b[0m\n\u001b[1;32m      7\u001b[0m \u001b[39mdef\u001b[39;00m \u001b[39mget_last_action\u001b[39m(s, padding_pos, s_len\u001b[39m=\u001b[39m\u001b[39mNone\u001b[39;00m):\n\u001b[1;32m      8\u001b[0m     \u001b[39mif\u001b[39;00m padding_pos\u001b[39m==\u001b[39m\u001b[39m\"\u001b[39m\u001b[39mend\u001b[39m\u001b[39m\"\u001b[39m:\n\u001b[0;32m----> 9\u001b[0m         idx\u001b[39m=\u001b[39ms_len\u001b[39m-\u001b[39;49m\u001b[39m1\u001b[39;49m\n\u001b[1;32m     10\u001b[0m         \u001b[39mreturn\u001b[39;00m s\u001b[39m.\u001b[39mgather(index\u001b[39m=\u001b[39midx\u001b[39m.\u001b[39munsqueeze(\u001b[39m1\u001b[39m), dim\u001b[39m=\u001b[39m\u001b[39m1\u001b[39m)\u001b[39m.\u001b[39msqueeze()\n\u001b[1;32m     11\u001b[0m     \u001b[39melse\u001b[39;00m:\n",
      "\u001b[0;31mTypeError\u001b[0m: unsupported operand type(s) for -: 'builtin_function_or_method' and 'int'"
     ]
    }
   ],
   "source": [
    "preds = torch.tensor([[30, 20, 5,10], [0, 10,5, 2]])\n",
    "\n",
    "def get_batch_diversity_rewards(s, predictions, len_states, padding_pos, topk_to_consider, embedding_layer):\n",
    "    # Init cosine similarity func\n",
    "    cos_sim = torch.nn.CosineSimilarity(dim=2, eps=1e-6)\n",
    "\n",
    "    # Get tensor (batch_size) of last actions\n",
    "    last_actions = get_last_action(s=s, padding_pos=padding_pos, s_len=len_states)\n",
    "\n",
    "    # Choose topk preds to consider\n",
    "    _, action_idx = torch.topk(predictions, k=topk_to_consider)\n",
    "\n",
    "    # Embed last action and predicted actions\n",
    "    embed_last_a = embedding_layer(last_actions).unsqueeze(1)\n",
    "    embed_preds = embedding_layer(action_idx)\n",
    "\n",
    "    # Get similarity [-1, 1] so r [0, 2]\n",
    "    similarity = cos_sim(embed_last_a, embed_preds)\n",
    "\n",
    "    # Take mean over rows to get avg sim of top preds to last a\n",
    "    mean_sim = torch.mean(similarity, dim=1)\n",
    "    batch_rewards = 1 - mean_sim\n",
    "\n",
    "    return batch_rewards\n",
    "\n",
    "get_batch_diversity_rewards(state_back, preds, len, padding_pos=\"end\", topk_to_consider=3, embedding_layer=emb)"
   ]
  },
  {
   "attachments": {},
   "cell_type": "markdown",
   "metadata": {},
   "source": [
    "## Coverage"
   ]
  },
  {
   "cell_type": "code",
   "execution_count": 24,
   "metadata": {},
   "outputs": [
    {
     "data": {
      "text/plain": [
       "True"
      ]
     },
     "execution_count": 24,
     "metadata": {},
     "output_type": "execute_result"
    }
   ],
   "source": [
    "a = set([1,2,3]).union(set([-1]))\n",
    "-1 in a"
   ]
  },
  {
   "cell_type": "code",
   "execution_count": 92,
   "metadata": {},
   "outputs": [
    {
     "data": {
      "text/plain": [
       "(0.6, 0.6)"
      ]
     },
     "execution_count": 92,
     "metadata": {},
     "output_type": "execute_result"
    }
   ],
   "source": [
    "unique_top20 = set([1,2,3,10,20,30])\n",
    "allc = [1,2,3,4,5,10,20,30,40,50]\n",
    "unpop = set([1,2,3,4,5])\n",
    "item_num = 10\n",
    "\n",
    "def get_coverage(unique_topk_actions, unpopular_items, num_actions):\n",
    "    \"\"\"\n",
    "    Compute coverage for a given set of unique top-k actions accumulated \n",
    "    over the whole epoch (either during training or during evaluation). \n",
    "\n",
    "    Important: dtype is set here.\n",
    "    \"\"\"\n",
    "    assert isinstance(unique_topk_actions, set) & isinstance(unpopular_items, set)\n",
    "\n",
    "    # Intersect the two sets and return percentages\n",
    "    intersect_unpop = unique_topk_actions.intersection(unpopular_items)\n",
    "    unpopular_coverage = len(intersect_unpop)/len(unpopular_items)\n",
    "    all_coverage = len(unique_topk_actions)/num_actions\n",
    "\n",
    "    return unpopular_coverage, all_coverage\n",
    "\n",
    "get_coverage(unique_top20, unpop, num_actions=10)"
   ]
  },
  {
   "attachments": {},
   "cell_type": "markdown",
   "metadata": {},
   "source": [
    "## Repetition\n",
    "\n",
    "Different definition compared to paper. In the paper they loop over the evaluation/test set and compute the average repetitions@k per session. We cannot do that since the loader does not yield session ids and it is not useful/representative in general I would say. The sessions are still sampled by the old agent - no influence on next states. You measure offline repetition but in reality we would need online repetition. Maybe later on can be tested with simulation? \n",
    "\n",
    "What we measure: Just based on the evaluation trajectories, in total how many % of the shown items were repetitions?\n",
    "We could do that but a loooot of overhead - yield session_id in loader, keep track of all unique_items per session, ...\n",
    "\n",
    "195K extra vals. Let's just do simulation!\n",
    "\n",
    "Choose arbitrary val"
   ]
  },
  {
   "cell_type": "code",
   "execution_count": 52,
   "metadata": {},
   "outputs": [],
   "source": [
    "pass"
   ]
  },
  {
   "attachments": {},
   "cell_type": "markdown",
   "metadata": {},
   "source": [
    "## SMORL preprocessing and ReplayBuffer"
   ]
  },
  {
   "cell_type": "code",
   "execution_count": 2,
   "metadata": {},
   "outputs": [],
   "source": [
    "import pandas as pd \n",
    "\n",
    "#df_all = pd.read_pickle(\"../data/SMORL-RetailRocket/sorted_events.df\")\n",
    "df_train = pd.read_pickle(\"../data/RetailRocket/sampled_train.df\")\n",
    "#df_val = pd.read_pickle(\"../data/SMORL-RetailRocket/sampled_val.df\")\n",
    "#df_test = pd.read_pickle(\"../data/SMORL-RetailRocket/sampled_test.df\")"
   ]
  },
  {
   "cell_type": "code",
   "execution_count": 8,
   "metadata": {},
   "outputs": [
    {
     "data": {
      "text/html": [
       "<div>\n",
       "<style scoped>\n",
       "    .dataframe tbody tr th:only-of-type {\n",
       "        vertical-align: middle;\n",
       "    }\n",
       "\n",
       "    .dataframe tbody tr th {\n",
       "        vertical-align: top;\n",
       "    }\n",
       "\n",
       "    .dataframe thead th {\n",
       "        text-align: right;\n",
       "    }\n",
       "</style>\n",
       "<table border=\"1\" class=\"dataframe\">\n",
       "  <thead>\n",
       "    <tr style=\"text-align: right;\">\n",
       "      <th></th>\n",
       "      <th>timestamp</th>\n",
       "      <th>session_id</th>\n",
       "      <th>item_id</th>\n",
       "      <th>is_buy</th>\n",
       "      <th>reward</th>\n",
       "    </tr>\n",
       "  </thead>\n",
       "  <tbody>\n",
       "    <tr>\n",
       "      <th>1133190</th>\n",
       "      <td>1440914628202</td>\n",
       "      <td>2</td>\n",
       "      <td>9750</td>\n",
       "      <td>1</td>\n",
       "      <td>1.0</td>\n",
       "    </tr>\n",
       "    <tr>\n",
       "      <th>1357916</th>\n",
       "      <td>1441951937583</td>\n",
       "      <td>20</td>\n",
       "      <td>68635</td>\n",
       "      <td>1</td>\n",
       "      <td>1.0</td>\n",
       "    </tr>\n",
       "    <tr>\n",
       "      <th>1368056</th>\n",
       "      <td>1441951967871</td>\n",
       "      <td>20</td>\n",
       "      <td>27419</td>\n",
       "      <td>1</td>\n",
       "      <td>1.0</td>\n",
       "    </tr>\n",
       "    <tr>\n",
       "      <th>1367869</th>\n",
       "      <td>1441952264613</td>\n",
       "      <td>20</td>\n",
       "      <td>6210</td>\n",
       "      <td>1</td>\n",
       "      <td>1.0</td>\n",
       "    </tr>\n",
       "    <tr>\n",
       "      <th>1366578</th>\n",
       "      <td>1442032680026</td>\n",
       "      <td>20</td>\n",
       "      <td>59354</td>\n",
       "      <td>1</td>\n",
       "      <td>1.0</td>\n",
       "    </tr>\n",
       "  </tbody>\n",
       "</table>\n",
       "</div>"
      ],
      "text/plain": [
       "             timestamp  session_id  item_id  is_buy  reward\n",
       "1133190  1440914628202           2     9750       1     1.0\n",
       "1357916  1441951937583          20    68635       1     1.0\n",
       "1368056  1441951967871          20    27419       1     1.0\n",
       "1367869  1441952264613          20     6210       1     1.0\n",
       "1366578  1442032680026          20    59354       1     1.0"
      ]
     },
     "execution_count": 8,
     "metadata": {},
     "output_type": "execute_result"
    }
   ],
   "source": [
    "df_train[\"reward\"] = 0\n",
    "df_train.reward[df_train.is_buy==1] = 1\n",
    "df_train.reward[df_train.is_buy==0] = 0.2\n",
    "df_train[df_train.is_buy==1].head()"
   ]
  },
  {
   "cell_type": "code",
   "execution_count": 9,
   "metadata": {},
   "outputs": [],
   "source": [
    "# Add reward column - action types are not differentiated\n",
    "#df_all[\"reward\"] = 1\n",
    "# df_train[\"reward\"] = 1\n",
    "#df_val[\"reward\"] = 1\n",
    "#df_test[\"reward\"] = 1\n",
    "#df_all.to_pickle(\"../data/SMORL-RetailRocket/sorted_events_with_rew.df\")\n",
    "df_train.to_pickle(\"../data/SMORL-RetailRocket/sampled_train_with_OGPAPER_rew.df\")\n",
    "#df_val.to_pickle(\"../data/SMORL-RetailRocket/sampled_val_with_rew.df\")\n",
    "#df_test.to_pickle(\"../data/SMORL-RetailRocket/sampled_test_with_rew.df\")"
   ]
  },
  {
   "cell_type": "code",
   "execution_count": 4,
   "metadata": {},
   "outputs": [],
   "source": [
    "import pandas as pd\n",
    "#pd.read_pickle(\"../data/SMORL-RetailRocket/replay_buffer_end_OGPaperRew.df\")"
   ]
  },
  {
   "cell_type": "code",
   "execution_count": 6,
   "metadata": {},
   "outputs": [
    {
     "name": "stdout",
     "output_type": "stream",
     "text": [
      "python: can't open file '/local/data1/pathi619/Recomender-Models/notebooks/scripts/replay_buffer_SMORL_from_file.py': [Errno 2] No such file or directory\n"
     ]
    }
   ],
   "source": [
    "# !python scripts/replay_buffer_SMORL_from_file.py -f data/SMORL-RetailRocket/sampled_train_with_rew.df -p end -n replay_buffer_end"
   ]
  },
  {
   "cell_type": "code",
   "execution_count": null,
   "metadata": {},
   "outputs": [],
   "source": [
    "# python src/data_utils/item_frequency.py -f data/RetailRocket/sorted_events.df -t data/SMORL-RetailRocket/ -q 0.9 -i item_id"
   ]
  },
  {
   "cell_type": "code",
   "execution_count": 2,
   "metadata": {},
   "outputs": [],
   "source": [
    "import pandas as pd\n",
    "rp1 = pd.read_pickle(\"../data/SMORL-RetailRocket/replay_buffer_end_OGPaperRew.df\")\n",
    "rp2 = pd.read_pickle(\"../data/SMORL-RetailRocket/replay_buffer_end.df\")"
   ]
  },
  {
   "cell_type": "code",
   "execution_count": 3,
   "metadata": {},
   "outputs": [
    {
     "data": {
      "text/html": [
       "<div>\n",
       "<style scoped>\n",
       "    .dataframe tbody tr th:only-of-type {\n",
       "        vertical-align: middle;\n",
       "    }\n",
       "\n",
       "    .dataframe tbody tr th {\n",
       "        vertical-align: top;\n",
       "    }\n",
       "\n",
       "    .dataframe thead th {\n",
       "        text-align: right;\n",
       "    }\n",
       "</style>\n",
       "<table border=\"1\" class=\"dataframe\">\n",
       "  <thead>\n",
       "    <tr style=\"text-align: right;\">\n",
       "      <th></th>\n",
       "      <th>state</th>\n",
       "      <th>action</th>\n",
       "      <th>r_act</th>\n",
       "      <th>next_state</th>\n",
       "      <th>true_state_len</th>\n",
       "      <th>true_next_state_len</th>\n",
       "      <th>is_end</th>\n",
       "    </tr>\n",
       "  </thead>\n",
       "  <tbody>\n",
       "    <tr>\n",
       "      <th>742616</th>\n",
       "      <td>[70852, 70852, 70852, 70852, 70852, 70852, 708...</td>\n",
       "      <td>49432</td>\n",
       "      <td>0.2</td>\n",
       "      <td>[49432, 70852, 70852, 70852, 70852, 70852, 708...</td>\n",
       "      <td>1</td>\n",
       "      <td>1</td>\n",
       "      <td>False</td>\n",
       "    </tr>\n",
       "    <tr>\n",
       "      <th>735273</th>\n",
       "      <td>[49432, 70852, 70852, 70852, 70852, 70852, 708...</td>\n",
       "      <td>49432</td>\n",
       "      <td>0.2</td>\n",
       "      <td>[49432, 49432, 70852, 70852, 70852, 70852, 708...</td>\n",
       "      <td>1</td>\n",
       "      <td>2</td>\n",
       "      <td>False</td>\n",
       "    </tr>\n",
       "    <tr>\n",
       "      <th>737711</th>\n",
       "      <td>[49432, 49432, 70852, 70852, 70852, 70852, 708...</td>\n",
       "      <td>39563</td>\n",
       "      <td>0.2</td>\n",
       "      <td>[49432, 49432, 39563, 70852, 70852, 70852, 708...</td>\n",
       "      <td>2</td>\n",
       "      <td>3</td>\n",
       "      <td>False</td>\n",
       "    </tr>\n",
       "    <tr>\n",
       "      <th>726292</th>\n",
       "      <td>[49432, 49432, 39563, 70852, 70852, 70852, 708...</td>\n",
       "      <td>32776</td>\n",
       "      <td>0.2</td>\n",
       "      <td>[49432, 49432, 39563, 32776, 70852, 70852, 708...</td>\n",
       "      <td>3</td>\n",
       "      <td>4</td>\n",
       "      <td>False</td>\n",
       "    </tr>\n",
       "    <tr>\n",
       "      <th>737615</th>\n",
       "      <td>[49432, 49432, 39563, 32776, 70852, 70852, 708...</td>\n",
       "      <td>52161</td>\n",
       "      <td>0.2</td>\n",
       "      <td>[49432, 49432, 39563, 32776, 52161, 70852, 708...</td>\n",
       "      <td>4</td>\n",
       "      <td>5</td>\n",
       "      <td>False</td>\n",
       "    </tr>\n",
       "  </tbody>\n",
       "</table>\n",
       "</div>"
      ],
      "text/plain": [
       "                                                    state  action  r_act  \\\n",
       "742616  [70852, 70852, 70852, 70852, 70852, 70852, 708...   49432    0.2   \n",
       "735273  [49432, 70852, 70852, 70852, 70852, 70852, 708...   49432    0.2   \n",
       "737711  [49432, 49432, 70852, 70852, 70852, 70852, 708...   39563    0.2   \n",
       "726292  [49432, 49432, 39563, 70852, 70852, 70852, 708...   32776    0.2   \n",
       "737615  [49432, 49432, 39563, 32776, 70852, 70852, 708...   52161    0.2   \n",
       "\n",
       "                                               next_state  true_state_len  \\\n",
       "742616  [49432, 70852, 70852, 70852, 70852, 70852, 708...               1   \n",
       "735273  [49432, 49432, 70852, 70852, 70852, 70852, 708...               1   \n",
       "737711  [49432, 49432, 39563, 70852, 70852, 70852, 708...               2   \n",
       "726292  [49432, 49432, 39563, 32776, 70852, 70852, 708...               3   \n",
       "737615  [49432, 49432, 39563, 32776, 52161, 70852, 708...               4   \n",
       "\n",
       "        true_next_state_len  is_end  \n",
       "742616                    1   False  \n",
       "735273                    2   False  \n",
       "737711                    3   False  \n",
       "726292                    4   False  \n",
       "737615                    5   False  "
      ]
     },
     "execution_count": 3,
     "metadata": {},
     "output_type": "execute_result"
    }
   ],
   "source": [
    "rp1.head()"
   ]
  },
  {
   "cell_type": "code",
   "execution_count": 4,
   "metadata": {},
   "outputs": [
    {
     "data": {
      "text/html": [
       "<div>\n",
       "<style scoped>\n",
       "    .dataframe tbody tr th:only-of-type {\n",
       "        vertical-align: middle;\n",
       "    }\n",
       "\n",
       "    .dataframe tbody tr th {\n",
       "        vertical-align: top;\n",
       "    }\n",
       "\n",
       "    .dataframe thead th {\n",
       "        text-align: right;\n",
       "    }\n",
       "</style>\n",
       "<table border=\"1\" class=\"dataframe\">\n",
       "  <thead>\n",
       "    <tr style=\"text-align: right;\">\n",
       "      <th></th>\n",
       "      <th>state</th>\n",
       "      <th>action</th>\n",
       "      <th>r_act</th>\n",
       "      <th>next_state</th>\n",
       "      <th>true_state_len</th>\n",
       "      <th>true_next_state_len</th>\n",
       "      <th>is_end</th>\n",
       "    </tr>\n",
       "  </thead>\n",
       "  <tbody>\n",
       "    <tr>\n",
       "      <th>742616</th>\n",
       "      <td>[70852, 70852, 70852, 70852, 70852, 70852, 708...</td>\n",
       "      <td>49432</td>\n",
       "      <td>1</td>\n",
       "      <td>[49432, 70852, 70852, 70852, 70852, 70852, 708...</td>\n",
       "      <td>1</td>\n",
       "      <td>1</td>\n",
       "      <td>False</td>\n",
       "    </tr>\n",
       "    <tr>\n",
       "      <th>735273</th>\n",
       "      <td>[49432, 70852, 70852, 70852, 70852, 70852, 708...</td>\n",
       "      <td>49432</td>\n",
       "      <td>1</td>\n",
       "      <td>[49432, 49432, 70852, 70852, 70852, 70852, 708...</td>\n",
       "      <td>1</td>\n",
       "      <td>2</td>\n",
       "      <td>False</td>\n",
       "    </tr>\n",
       "    <tr>\n",
       "      <th>737711</th>\n",
       "      <td>[49432, 49432, 70852, 70852, 70852, 70852, 708...</td>\n",
       "      <td>39563</td>\n",
       "      <td>1</td>\n",
       "      <td>[49432, 49432, 39563, 70852, 70852, 70852, 708...</td>\n",
       "      <td>2</td>\n",
       "      <td>3</td>\n",
       "      <td>False</td>\n",
       "    </tr>\n",
       "    <tr>\n",
       "      <th>726292</th>\n",
       "      <td>[49432, 49432, 39563, 70852, 70852, 70852, 708...</td>\n",
       "      <td>32776</td>\n",
       "      <td>1</td>\n",
       "      <td>[49432, 49432, 39563, 32776, 70852, 70852, 708...</td>\n",
       "      <td>3</td>\n",
       "      <td>4</td>\n",
       "      <td>False</td>\n",
       "    </tr>\n",
       "    <tr>\n",
       "      <th>737615</th>\n",
       "      <td>[49432, 49432, 39563, 32776, 70852, 70852, 708...</td>\n",
       "      <td>52161</td>\n",
       "      <td>1</td>\n",
       "      <td>[49432, 49432, 39563, 32776, 52161, 70852, 708...</td>\n",
       "      <td>4</td>\n",
       "      <td>5</td>\n",
       "      <td>False</td>\n",
       "    </tr>\n",
       "  </tbody>\n",
       "</table>\n",
       "</div>"
      ],
      "text/plain": [
       "                                                    state  action  r_act  \\\n",
       "742616  [70852, 70852, 70852, 70852, 70852, 70852, 708...   49432      1   \n",
       "735273  [49432, 70852, 70852, 70852, 70852, 70852, 708...   49432      1   \n",
       "737711  [49432, 49432, 70852, 70852, 70852, 70852, 708...   39563      1   \n",
       "726292  [49432, 49432, 39563, 70852, 70852, 70852, 708...   32776      1   \n",
       "737615  [49432, 49432, 39563, 32776, 70852, 70852, 708...   52161      1   \n",
       "\n",
       "                                               next_state  true_state_len  \\\n",
       "742616  [49432, 70852, 70852, 70852, 70852, 70852, 708...               1   \n",
       "735273  [49432, 49432, 70852, 70852, 70852, 70852, 708...               1   \n",
       "737711  [49432, 49432, 39563, 70852, 70852, 70852, 708...               2   \n",
       "726292  [49432, 49432, 39563, 32776, 70852, 70852, 708...               3   \n",
       "737615  [49432, 49432, 39563, 32776, 52161, 70852, 708...               4   \n",
       "\n",
       "        true_next_state_len  is_end  \n",
       "742616                    1   False  \n",
       "735273                    2   False  \n",
       "737711                    3   False  \n",
       "726292                    4   False  \n",
       "737615                    5   False  "
      ]
     },
     "execution_count": 4,
     "metadata": {},
     "output_type": "execute_result"
    }
   ],
   "source": [
    "rp2.head()"
   ]
  },
  {
   "cell_type": "code",
   "execution_count": 5,
   "metadata": {},
   "outputs": [
    {
     "data": {
      "text/plain": [
       "988719"
      ]
     },
     "execution_count": 5,
     "metadata": {},
     "output_type": "execute_result"
    }
   ],
   "source": [
    "len(rp1)"
   ]
  },
  {
   "cell_type": "code",
   "execution_count": 6,
   "metadata": {},
   "outputs": [
    {
     "data": {
      "text/plain": [
       "988719"
      ]
     },
     "execution_count": 6,
     "metadata": {},
     "output_type": "execute_result"
    }
   ],
   "source": [
    "len(rp2)"
   ]
  },
  {
   "cell_type": "code",
   "execution_count": 3,
   "metadata": {},
   "outputs": [
    {
     "data": {
      "text/plain": [
       "True"
      ]
     },
     "execution_count": 3,
     "metadata": {},
     "output_type": "execute_result"
    }
   ],
   "source": [
    "((not False) & (not False))"
   ]
  },
  {
   "attachments": {},
   "cell_type": "markdown",
   "metadata": {},
   "source": [
    "## Repetition"
   ]
  },
  {
   "cell_type": "code",
   "execution_count": 16,
   "metadata": {},
   "outputs": [],
   "source": [
    "from recommenders.utils.tokenizer import Tokenizer\n",
    "input_tok = Tokenizer.from_file(\"../../data/IKEA/tokenizers/input_tokenizer.json\")\n",
    "out_tok = Tokenizer.from_file(\"../../data/IKEA/tokenizers/output_tokenizer.json\")"
   ]
  },
  {
   "cell_type": "code",
   "execution_count": 5,
   "metadata": {},
   "outputs": [],
   "source": [
    "import torch\n",
    "preds = torch.tensor([[100, 50, 0, 0, 0], [100, -10, 10, 0, 0]])   # 0,1,... 0,2,3,4,1\n",
    "s = torch.tensor([[1,2,3,4,0,0], [12,13,14,0,0,0]])\n",
    "preds = torch.tensor([[100, 50, 0, 0, 0], [100, -10, 10, 0, 0]])"
   ]
  },
  {
   "cell_type": "code",
   "execution_count": 24,
   "metadata": {},
   "outputs": [
    {
     "name": "stdout",
     "output_type": "stream",
     "text": [
      "tensor([[0, 1],\n",
      "        [0, 2]])\n"
     ]
    },
    {
     "data": {
      "text/plain": [
       "tensor([[     1, 127419],\n",
       "        [     1, 127419]])"
      ]
     },
     "execution_count": 24,
     "metadata": {},
     "output_type": "execute_result"
    }
   ],
   "source": [
    "val, ind =  torch.topk(preds, k=2)\n",
    "print(ind)\n",
    "ind.apply_(lambda x: input_tok.stoi(out_tok.itos(x)))"
   ]
  },
  {
   "cell_type": "code",
   "execution_count": 58,
   "metadata": {},
   "outputs": [],
   "source": [
    "preds = torch.tensor([[10, 11], [12, 13], [14,15]])   \n",
    "s = torch.tensor([[1,2,3,10,10], [1,2,3,12,13], [14,14,15,15,1]])"
   ]
  },
  {
   "cell_type": "code",
   "execution_count": 59,
   "metadata": {},
   "outputs": [],
   "source": [
    "preds = preds.numpy()\n",
    "s = s.numpy()"
   ]
  },
  {
   "cell_type": "code",
   "execution_count": 69,
   "metadata": {},
   "outputs": [
    {
     "data": {
      "text/plain": [
       "(3, 1, 2)"
      ]
     },
     "execution_count": 69,
     "metadata": {},
     "output_type": "execute_result"
    }
   ],
   "source": [
    "s.shape\n",
    "np.expand_dims(s, axis=-1).shape\n",
    "np.expand_dims(preds, axis=1).shape"
   ]
  },
  {
   "cell_type": "code",
   "execution_count": 62,
   "metadata": {},
   "outputs": [],
   "source": [
    "s_r = s.reshape(3,5,1)\n",
    "preds_r = preds.reshape(3, 1,2)\n",
    "(s_r==preds_r).sum(-1)"
   ]
  },
  {
   "cell_type": "code",
   "execution_count": null,
   "metadata": {},
   "outputs": [],
   "source": []
  }
 ],
 "metadata": {
  "kernelspec": {
   "display_name": "RecommenderModels",
   "language": "python",
   "name": "python3"
  },
  "language_info": {
   "codemirror_mode": {
    "name": "ipython",
    "version": 3
   },
   "file_extension": ".py",
   "mimetype": "text/x-python",
   "name": "python",
   "nbconvert_exporter": "python",
   "pygments_lexer": "ipython3",
   "version": "3.9.15"
  },
  "orig_nbformat": 4,
  "vscode": {
   "interpreter": {
    "hash": "5d4694e3efbecb028533a2aeae74ebb5567e5e028047fe6b0b12e3037903e247"
   }
  }
 },
 "nbformat": 4,
 "nbformat_minor": 2
}
