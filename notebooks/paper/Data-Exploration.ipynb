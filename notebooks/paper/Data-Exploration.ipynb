{
 "cells": [
  {
   "cell_type": "code",
   "execution_count": 68,
   "metadata": {},
   "outputs": [
    {
     "name": "stdout",
     "output_type": "stream",
     "text": [
      "The autoreload extension is already loaded. To reload it, use:\n",
      "  %reload_ext autoreload\n"
     ]
    }
   ],
   "source": [
    "%load_ext autoreload\n",
    "%autoreload 2\n",
    "\n",
    "import numpy as np\n",
    "import pandas as pd"
   ]
  },
  {
   "attachments": {},
   "cell_type": "markdown",
   "metadata": {},
   "source": [
    "### RetailRocket dataset"
   ]
  },
  {
   "cell_type": "code",
   "execution_count": 3,
   "metadata": {},
   "outputs": [
    {
     "name": "stdout",
     "output_type": "stream",
     "text": [
      "<class 'pandas.core.frame.DataFrame'>\n",
      "RangeIndex: 2756101 entries, 0 to 2756100\n",
      "Data columns (total 5 columns):\n",
      " #   Column         Dtype  \n",
      "---  ------         -----  \n",
      " 0   timestamp      int64  \n",
      " 1   visitorid      int64  \n",
      " 2   event          object \n",
      " 3   itemid         int64  \n",
      " 4   transactionid  float64\n",
      "dtypes: float64(1), int64(3), object(1)\n",
      "memory usage: 244.9 MB\n"
     ]
    }
   ],
   "source": [
    "events = pd.read_csv(\"../data/RetailRocket/events.csv\")\n",
    "events.info(memory_usage=\"deep\")"
   ]
  },
  {
   "cell_type": "code",
   "execution_count": 4,
   "metadata": {},
   "outputs": [
    {
     "data": {
      "text/html": [
       "<div>\n",
       "<style scoped>\n",
       "    .dataframe tbody tr th:only-of-type {\n",
       "        vertical-align: middle;\n",
       "    }\n",
       "\n",
       "    .dataframe tbody tr th {\n",
       "        vertical-align: top;\n",
       "    }\n",
       "\n",
       "    .dataframe thead th {\n",
       "        text-align: right;\n",
       "    }\n",
       "</style>\n",
       "<table border=\"1\" class=\"dataframe\">\n",
       "  <thead>\n",
       "    <tr style=\"text-align: right;\">\n",
       "      <th></th>\n",
       "      <th>timestamp</th>\n",
       "      <th>visitorid</th>\n",
       "      <th>event</th>\n",
       "      <th>itemid</th>\n",
       "      <th>transactionid</th>\n",
       "    </tr>\n",
       "  </thead>\n",
       "  <tbody>\n",
       "    <tr>\n",
       "      <th>0</th>\n",
       "      <td>1433221332117</td>\n",
       "      <td>257597</td>\n",
       "      <td>view</td>\n",
       "      <td>355908</td>\n",
       "      <td>NaN</td>\n",
       "    </tr>\n",
       "    <tr>\n",
       "      <th>1</th>\n",
       "      <td>1433224214164</td>\n",
       "      <td>992329</td>\n",
       "      <td>view</td>\n",
       "      <td>248676</td>\n",
       "      <td>NaN</td>\n",
       "    </tr>\n",
       "    <tr>\n",
       "      <th>2</th>\n",
       "      <td>1433221999827</td>\n",
       "      <td>111016</td>\n",
       "      <td>view</td>\n",
       "      <td>318965</td>\n",
       "      <td>NaN</td>\n",
       "    </tr>\n",
       "    <tr>\n",
       "      <th>3</th>\n",
       "      <td>1433221955914</td>\n",
       "      <td>483717</td>\n",
       "      <td>view</td>\n",
       "      <td>253185</td>\n",
       "      <td>NaN</td>\n",
       "    </tr>\n",
       "    <tr>\n",
       "      <th>4</th>\n",
       "      <td>1433221337106</td>\n",
       "      <td>951259</td>\n",
       "      <td>view</td>\n",
       "      <td>367447</td>\n",
       "      <td>NaN</td>\n",
       "    </tr>\n",
       "  </tbody>\n",
       "</table>\n",
       "</div>"
      ],
      "text/plain": [
       "       timestamp  visitorid event  itemid  transactionid\n",
       "0  1433221332117     257597  view  355908            NaN\n",
       "1  1433224214164     992329  view  248676            NaN\n",
       "2  1433221999827     111016  view  318965            NaN\n",
       "3  1433221955914     483717  view  253185            NaN\n",
       "4  1433221337106     951259  view  367447            NaN"
      ]
     },
     "execution_count": 4,
     "metadata": {},
     "output_type": "execute_result"
    }
   ],
   "source": [
    "events.head()"
   ]
  },
  {
   "cell_type": "code",
   "execution_count": 5,
   "metadata": {},
   "outputs": [
    {
     "data": {
      "text/plain": [
       "array(['transaction'], dtype=object)"
      ]
     },
     "execution_count": 5,
     "metadata": {},
     "output_type": "execute_result"
    }
   ],
   "source": [
    "events[~events.transactionid.isna()].event.unique()  # Transaction = Purchase"
   ]
  },
  {
   "cell_type": "code",
   "execution_count": 6,
   "metadata": {},
   "outputs": [
    {
     "data": {
      "text/plain": [
       "view           0.966696\n",
       "addtocart      0.025156\n",
       "transaction    0.008148\n",
       "Name: event, dtype: float64"
      ]
     },
     "execution_count": 6,
     "metadata": {},
     "output_type": "execute_result"
    }
   ],
   "source": [
    "events.event.value_counts(normalize=True)"
   ]
  },
  {
   "cell_type": "code",
   "execution_count": 7,
   "metadata": {},
   "outputs": [
    {
     "data": {
      "text/plain": [
       "235061"
      ]
     },
     "execution_count": 7,
     "metadata": {},
     "output_type": "execute_result"
    }
   ],
   "source": [
    "len(events.itemid.unique())"
   ]
  },
  {
   "attachments": {},
   "cell_type": "markdown",
   "metadata": {},
   "source": [
    "### Sorted events for RetailRocket\n",
    "\n",
    "- Removed items that were interacted with less than 3 times\n",
    "- Remove sessions with less than 3 interacitons\n",
    "- Views = Clicks, Cart = Purchase, real purchases thrown out\n",
    "- ..."
   ]
  },
  {
   "cell_type": "code",
   "execution_count": 8,
   "metadata": {},
   "outputs": [],
   "source": [
    "# Replicate their preprocessing\n",
    "transformed_ev = events.copy()\n",
    "\n",
    "item_freq_dict = transformed_ev.groupby(\"itemid\").apply(lambda df: len(df)).to_dict()\n",
    "transformed_ev[\"item_freq\"] = transformed_ev.itemid.apply(lambda x: item_freq_dict[x])\n",
    "transformed_ev = transformed_ev[transformed_ev.item_freq>=3]\n",
    "\n",
    "transformed_ev = transformed_ev[transformed_ev.event != \"transaction\"]\n",
    "\n",
    "# Remove session with less than 3 interactions\n",
    "sess_len_dict = transformed_ev.groupby(\"visitorid\").apply(lambda df: len(df)).to_dict()\n",
    "transformed_ev[\"sess_len\"] = transformed_ev.visitorid.apply(lambda x: sess_len_dict[x])\n",
    "transformed_ev = transformed_ev[transformed_ev.sess_len>=3]"
   ]
  },
  {
   "cell_type": "code",
   "execution_count": 9,
   "metadata": {},
   "outputs": [
    {
     "data": {
      "text/html": [
       "<div>\n",
       "<style scoped>\n",
       "    .dataframe tbody tr th:only-of-type {\n",
       "        vertical-align: middle;\n",
       "    }\n",
       "\n",
       "    .dataframe tbody tr th {\n",
       "        vertical-align: top;\n",
       "    }\n",
       "\n",
       "    .dataframe thead th {\n",
       "        text-align: right;\n",
       "    }\n",
       "</style>\n",
       "<table border=\"1\" class=\"dataframe\">\n",
       "  <thead>\n",
       "    <tr style=\"text-align: right;\">\n",
       "      <th></th>\n",
       "      <th>timestamp</th>\n",
       "      <th>session_id</th>\n",
       "      <th>item_id</th>\n",
       "      <th>is_buy</th>\n",
       "    </tr>\n",
       "  </thead>\n",
       "  <tbody>\n",
       "    <tr>\n",
       "      <th>0</th>\n",
       "      <td>1442004589439</td>\n",
       "      <td>0</td>\n",
       "      <td>43511</td>\n",
       "      <td>0</td>\n",
       "    </tr>\n",
       "    <tr>\n",
       "      <th>1</th>\n",
       "      <td>1442004759591</td>\n",
       "      <td>0</td>\n",
       "      <td>54408</td>\n",
       "      <td>0</td>\n",
       "    </tr>\n",
       "    <tr>\n",
       "      <th>2</th>\n",
       "      <td>1442004917175</td>\n",
       "      <td>0</td>\n",
       "      <td>10006</td>\n",
       "      <td>0</td>\n",
       "    </tr>\n",
       "    <tr>\n",
       "      <th>3</th>\n",
       "      <td>1438969904567</td>\n",
       "      <td>1</td>\n",
       "      <td>49432</td>\n",
       "      <td>0</td>\n",
       "    </tr>\n",
       "    <tr>\n",
       "      <th>4</th>\n",
       "      <td>1438970013790</td>\n",
       "      <td>1</td>\n",
       "      <td>49432</td>\n",
       "      <td>0</td>\n",
       "    </tr>\n",
       "  </tbody>\n",
       "</table>\n",
       "</div>"
      ],
      "text/plain": [
       "       timestamp  session_id  item_id  is_buy\n",
       "0  1442004589439           0    43511       0\n",
       "1  1442004759591           0    54408       0\n",
       "2  1442004917175           0    10006       0\n",
       "3  1438969904567           1    49432       0\n",
       "4  1438970013790           1    49432       0"
      ]
     },
     "execution_count": 9,
     "metadata": {},
     "output_type": "execute_result"
    }
   ],
   "source": [
    "sorted_ev = pd.read_csv(\"../data/RetailRocket/sorted_events.csv\")\n",
    "sorted_ev.head()"
   ]
  },
  {
   "cell_type": "code",
   "execution_count": 10,
   "metadata": {},
   "outputs": [
    {
     "name": "stdout",
     "output_type": "stream",
     "text": [
      "Total:              1233949\n",
      "Number of sessions: 195524\n",
      "Number of items:    70852\n",
      "Number of clicks:   1176680\n",
      "Number of buys:     57269\n"
     ]
    }
   ],
   "source": [
    "# Get basic statistics \n",
    "n_sess = len(sorted_ev.session_id.unique())\n",
    "n_items = len(sorted_ev.item_id.unique())\n",
    "n_buys = sorted_ev.is_buy.sum()\n",
    "n_clicks = len(sorted_ev) - n_buys\n",
    "\n",
    "print(f\"Total:              {len(sorted_ev)}\")\n",
    "print(f\"Number of sessions: {n_sess}\")\n",
    "print(f\"Number of items:    {n_items}\")\n",
    "print(f\"Number of clicks:   {n_clicks}\")\n",
    "print(f\"Number of buys:     {n_buys}\")"
   ]
  },
  {
   "cell_type": "code",
   "execution_count": 53,
   "metadata": {},
   "outputs": [
    {
     "name": "stdout",
     "output_type": "stream",
     "text": [
      "Number of instances (1233949): Train - 988719 (80%), Val - 123597 (10%), Test - 121633 (10%)\n"
     ]
    }
   ],
   "source": [
    "import os \n",
    "data_directory = \"../data/RetailRocket\"\n",
    "\n",
    "# They split sorted_events in train, val, test\n",
    "train = pd.read_pickle(os.path.join(data_directory, 'sampled_train.df'))\n",
    "val = pd.read_pickle(os.path.join(data_directory, 'sampled_val.df'))\n",
    "test = pd.read_pickle(os.path.join(data_directory, 'sampled_test.df'))\n",
    "\n",
    "n_train, n_val, n_test = len(train), len(val), len(test)\n",
    "n = n_train + n_test + n_val\n",
    "\n",
    "print(f\"Number of instances ({n}): Train - {n_train} ({100*n_train/n:.0f}%), Val - {n_val} ({100*n_val/n:.0f}%), Test - {n_test} ({100*n_test/n:.0f}%)\")"
   ]
  },
  {
   "cell_type": "code",
   "execution_count": 54,
   "metadata": {},
   "outputs": [
    {
     "data": {
      "text/html": [
       "<div>\n",
       "<style scoped>\n",
       "    .dataframe tbody tr th:only-of-type {\n",
       "        vertical-align: middle;\n",
       "    }\n",
       "\n",
       "    .dataframe tbody tr th {\n",
       "        vertical-align: top;\n",
       "    }\n",
       "\n",
       "    .dataframe thead th {\n",
       "        text-align: right;\n",
       "    }\n",
       "</style>\n",
       "<table border=\"1\" class=\"dataframe\">\n",
       "  <thead>\n",
       "    <tr style=\"text-align: right;\">\n",
       "      <th></th>\n",
       "      <th>timestamp</th>\n",
       "      <th>session_id</th>\n",
       "      <th>item_id</th>\n",
       "      <th>is_buy</th>\n",
       "    </tr>\n",
       "  </thead>\n",
       "  <tbody>\n",
       "    <tr>\n",
       "      <th>742616</th>\n",
       "      <td>1438969904567</td>\n",
       "      <td>1</td>\n",
       "      <td>49432</td>\n",
       "      <td>0</td>\n",
       "    </tr>\n",
       "    <tr>\n",
       "      <th>735273</th>\n",
       "      <td>1438970013790</td>\n",
       "      <td>1</td>\n",
       "      <td>49432</td>\n",
       "      <td>0</td>\n",
       "    </tr>\n",
       "    <tr>\n",
       "      <th>737711</th>\n",
       "      <td>1438970212664</td>\n",
       "      <td>1</td>\n",
       "      <td>39563</td>\n",
       "      <td>0</td>\n",
       "    </tr>\n",
       "    <tr>\n",
       "      <th>726292</th>\n",
       "      <td>1438970468920</td>\n",
       "      <td>1</td>\n",
       "      <td>32776</td>\n",
       "      <td>0</td>\n",
       "    </tr>\n",
       "    <tr>\n",
       "      <th>737615</th>\n",
       "      <td>1438970905669</td>\n",
       "      <td>1</td>\n",
       "      <td>52161</td>\n",
       "      <td>0</td>\n",
       "    </tr>\n",
       "    <tr>\n",
       "      <th>735202</th>\n",
       "      <td>1438971444375</td>\n",
       "      <td>1</td>\n",
       "      <td>52161</td>\n",
       "      <td>0</td>\n",
       "    </tr>\n",
       "    <tr>\n",
       "      <th>742485</th>\n",
       "      <td>1438971463170</td>\n",
       "      <td>1</td>\n",
       "      <td>32776</td>\n",
       "      <td>0</td>\n",
       "    </tr>\n",
       "    <tr>\n",
       "      <th>728288</th>\n",
       "      <td>1438971657845</td>\n",
       "      <td>1</td>\n",
       "      <td>49432</td>\n",
       "      <td>0</td>\n",
       "    </tr>\n",
       "  </tbody>\n",
       "</table>\n",
       "</div>"
      ],
      "text/plain": [
       "            timestamp  session_id  item_id  is_buy\n",
       "742616  1438969904567           1    49432       0\n",
       "735273  1438970013790           1    49432       0\n",
       "737711  1438970212664           1    39563       0\n",
       "726292  1438970468920           1    32776       0\n",
       "737615  1438970905669           1    52161       0\n",
       "735202  1438971444375           1    52161       0\n",
       "742485  1438971463170           1    32776       0\n",
       "728288  1438971657845           1    49432       0"
      ]
     },
     "execution_count": 54,
     "metadata": {},
     "output_type": "execute_result"
    }
   ],
   "source": [
    "train.head()\n",
    "\n",
    "train[train.session_id==1]"
   ]
  },
  {
   "cell_type": "code",
   "execution_count": 55,
   "metadata": {},
   "outputs": [
    {
     "data": {
      "text/html": [
       "<div>\n",
       "<style scoped>\n",
       "    .dataframe tbody tr th:only-of-type {\n",
       "        vertical-align: middle;\n",
       "    }\n",
       "\n",
       "    .dataframe tbody tr th {\n",
       "        vertical-align: top;\n",
       "    }\n",
       "\n",
       "    .dataframe thead th {\n",
       "        text-align: right;\n",
       "    }\n",
       "</style>\n",
       "<table border=\"1\" class=\"dataframe\">\n",
       "  <thead>\n",
       "    <tr style=\"text-align: right;\">\n",
       "      <th></th>\n",
       "      <th>state</th>\n",
       "      <th>len_state</th>\n",
       "      <th>action</th>\n",
       "      <th>is_buy</th>\n",
       "      <th>next_state</th>\n",
       "      <th>len_next_states</th>\n",
       "      <th>is_done</th>\n",
       "    </tr>\n",
       "  </thead>\n",
       "  <tbody>\n",
       "    <tr>\n",
       "      <th>0</th>\n",
       "      <td>[70852, 70852, 70852, 70852, 70852, 70852, 708...</td>\n",
       "      <td>1</td>\n",
       "      <td>49432</td>\n",
       "      <td>0</td>\n",
       "      <td>[49432, 70852, 70852, 70852, 70852, 70852, 708...</td>\n",
       "      <td>1</td>\n",
       "      <td>False</td>\n",
       "    </tr>\n",
       "    <tr>\n",
       "      <th>1</th>\n",
       "      <td>[49432, 70852, 70852, 70852, 70852, 70852, 708...</td>\n",
       "      <td>1</td>\n",
       "      <td>49432</td>\n",
       "      <td>0</td>\n",
       "      <td>[49432, 49432, 70852, 70852, 70852, 70852, 708...</td>\n",
       "      <td>2</td>\n",
       "      <td>False</td>\n",
       "    </tr>\n",
       "    <tr>\n",
       "      <th>2</th>\n",
       "      <td>[49432, 49432, 70852, 70852, 70852, 70852, 708...</td>\n",
       "      <td>2</td>\n",
       "      <td>39563</td>\n",
       "      <td>0</td>\n",
       "      <td>[49432, 49432, 39563, 70852, 70852, 70852, 708...</td>\n",
       "      <td>3</td>\n",
       "      <td>False</td>\n",
       "    </tr>\n",
       "    <tr>\n",
       "      <th>3</th>\n",
       "      <td>[49432, 49432, 39563, 70852, 70852, 70852, 708...</td>\n",
       "      <td>3</td>\n",
       "      <td>32776</td>\n",
       "      <td>0</td>\n",
       "      <td>[49432, 49432, 39563, 32776, 70852, 70852, 708...</td>\n",
       "      <td>4</td>\n",
       "      <td>False</td>\n",
       "    </tr>\n",
       "    <tr>\n",
       "      <th>4</th>\n",
       "      <td>[49432, 49432, 39563, 32776, 70852, 70852, 708...</td>\n",
       "      <td>4</td>\n",
       "      <td>52161</td>\n",
       "      <td>0</td>\n",
       "      <td>[49432, 49432, 39563, 32776, 52161, 70852, 708...</td>\n",
       "      <td>5</td>\n",
       "      <td>False</td>\n",
       "    </tr>\n",
       "    <tr>\n",
       "      <th>5</th>\n",
       "      <td>[49432, 49432, 39563, 32776, 52161, 70852, 708...</td>\n",
       "      <td>5</td>\n",
       "      <td>52161</td>\n",
       "      <td>0</td>\n",
       "      <td>[49432, 49432, 39563, 32776, 52161, 52161, 708...</td>\n",
       "      <td>6</td>\n",
       "      <td>False</td>\n",
       "    </tr>\n",
       "    <tr>\n",
       "      <th>6</th>\n",
       "      <td>[49432, 49432, 39563, 32776, 52161, 52161, 708...</td>\n",
       "      <td>6</td>\n",
       "      <td>32776</td>\n",
       "      <td>0</td>\n",
       "      <td>[49432, 49432, 39563, 32776, 52161, 52161, 327...</td>\n",
       "      <td>7</td>\n",
       "      <td>False</td>\n",
       "    </tr>\n",
       "    <tr>\n",
       "      <th>7</th>\n",
       "      <td>[49432, 49432, 39563, 32776, 52161, 52161, 327...</td>\n",
       "      <td>7</td>\n",
       "      <td>49432</td>\n",
       "      <td>0</td>\n",
       "      <td>[49432, 49432, 39563, 32776, 52161, 52161, 327...</td>\n",
       "      <td>8</td>\n",
       "      <td>True</td>\n",
       "    </tr>\n",
       "    <tr>\n",
       "      <th>8</th>\n",
       "      <td>[70852, 70852, 70852, 70852, 70852, 70852, 708...</td>\n",
       "      <td>1</td>\n",
       "      <td>9750</td>\n",
       "      <td>1</td>\n",
       "      <td>[9750, 70852, 70852, 70852, 70852, 70852, 7085...</td>\n",
       "      <td>1</td>\n",
       "      <td>False</td>\n",
       "    </tr>\n",
       "    <tr>\n",
       "      <th>9</th>\n",
       "      <td>[9750, 70852, 70852, 70852, 70852, 70852, 7085...</td>\n",
       "      <td>1</td>\n",
       "      <td>38594</td>\n",
       "      <td>0</td>\n",
       "      <td>[9750, 38594, 70852, 70852, 70852, 70852, 7085...</td>\n",
       "      <td>2</td>\n",
       "      <td>False</td>\n",
       "    </tr>\n",
       "  </tbody>\n",
       "</table>\n",
       "</div>"
      ],
      "text/plain": [
       "                                               state  len_state  action  \\\n",
       "0  [70852, 70852, 70852, 70852, 70852, 70852, 708...          1   49432   \n",
       "1  [49432, 70852, 70852, 70852, 70852, 70852, 708...          1   49432   \n",
       "2  [49432, 49432, 70852, 70852, 70852, 70852, 708...          2   39563   \n",
       "3  [49432, 49432, 39563, 70852, 70852, 70852, 708...          3   32776   \n",
       "4  [49432, 49432, 39563, 32776, 70852, 70852, 708...          4   52161   \n",
       "5  [49432, 49432, 39563, 32776, 52161, 70852, 708...          5   52161   \n",
       "6  [49432, 49432, 39563, 32776, 52161, 52161, 708...          6   32776   \n",
       "7  [49432, 49432, 39563, 32776, 52161, 52161, 327...          7   49432   \n",
       "8  [70852, 70852, 70852, 70852, 70852, 70852, 708...          1    9750   \n",
       "9  [9750, 70852, 70852, 70852, 70852, 70852, 7085...          1   38594   \n",
       "\n",
       "   is_buy                                         next_state  len_next_states  \\\n",
       "0       0  [49432, 70852, 70852, 70852, 70852, 70852, 708...                1   \n",
       "1       0  [49432, 49432, 70852, 70852, 70852, 70852, 708...                2   \n",
       "2       0  [49432, 49432, 39563, 70852, 70852, 70852, 708...                3   \n",
       "3       0  [49432, 49432, 39563, 32776, 70852, 70852, 708...                4   \n",
       "4       0  [49432, 49432, 39563, 32776, 52161, 70852, 708...                5   \n",
       "5       0  [49432, 49432, 39563, 32776, 52161, 52161, 708...                6   \n",
       "6       0  [49432, 49432, 39563, 32776, 52161, 52161, 327...                7   \n",
       "7       0  [49432, 49432, 39563, 32776, 52161, 52161, 327...                8   \n",
       "8       1  [9750, 70852, 70852, 70852, 70852, 70852, 7085...                1   \n",
       "9       0  [9750, 38594, 70852, 70852, 70852, 70852, 7085...                2   \n",
       "\n",
       "   is_done  \n",
       "0    False  \n",
       "1    False  \n",
       "2    False  \n",
       "3    False  \n",
       "4    False  \n",
       "5    False  \n",
       "6    False  \n",
       "7     True  \n",
       "8    False  \n",
       "9    False  "
      ]
     },
     "execution_count": 55,
     "metadata": {},
     "output_type": "execute_result"
    }
   ],
   "source": [
    "# Replay buffer \n",
    "replay_buffer = pd.read_pickle(os.path.join(data_directory, 'replay_buffer.df'))\n",
    "replay_buffer.head(10)"
   ]
  },
  {
   "cell_type": "code",
   "execution_count": 62,
   "metadata": {},
   "outputs": [
    {
     "name": "stdout",
     "output_type": "stream",
     "text": [
      "988719\n",
      "<class 'pandas.core.frame.DataFrame'>\n",
      "RangeIndex: 988719 entries, 0 to 988718\n",
      "Data columns (total 7 columns):\n",
      " #   Column           Non-Null Count   Dtype \n",
      "---  ------           --------------   ----- \n",
      " 0   state            988719 non-null  object\n",
      " 1   len_state        988719 non-null  int64 \n",
      " 2   action           988719 non-null  int64 \n",
      " 3   is_buy           988719 non-null  int64 \n",
      " 4   next_state       988719 non-null  object\n",
      " 5   len_next_states  988719 non-null  int64 \n",
      " 6   is_done          988719 non-null  bool  \n",
      "dtypes: bool(1), int64(4), object(2)\n",
      "memory usage: 302.7 MB\n"
     ]
    }
   ],
   "source": [
    "# Size of replay buffer:\n",
    "\n",
    "print(len(replay_buffer))\n",
    "replay_buffer.info(memory_usage='deep')\n",
    "\n",
    "# 300 MB in RAM"
   ]
  },
  {
   "attachments": {},
   "cell_type": "markdown",
   "metadata": {},
   "source": [
    "Each item interacted with is an action, inside the replay buffer the current state is saved, then the next action (so item) and the type of action (so reward). \n",
    "\n",
    "What is len_next_states?"
   ]
  },
  {
   "attachments": {},
   "cell_type": "markdown",
   "metadata": {},
   "source": [
    "#### Session length\n",
    "\n",
    "Even though some session"
   ]
  },
  {
   "cell_type": "code",
   "execution_count": 14,
   "metadata": {},
   "outputs": [
    {
     "data": {
      "text/plain": [
       "True"
      ]
     },
     "execution_count": 14,
     "metadata": {},
     "output_type": "execute_result"
    }
   ],
   "source": [
    "# Same length \n",
    "len(replay_buffer) == len(train)"
   ]
  },
  {
   "cell_type": "code",
   "execution_count": 15,
   "metadata": {},
   "outputs": [
    {
     "data": {
      "text/html": [
       "<div>\n",
       "<style scoped>\n",
       "    .dataframe tbody tr th:only-of-type {\n",
       "        vertical-align: middle;\n",
       "    }\n",
       "\n",
       "    .dataframe tbody tr th {\n",
       "        vertical-align: top;\n",
       "    }\n",
       "\n",
       "    .dataframe thead th {\n",
       "        text-align: right;\n",
       "    }\n",
       "</style>\n",
       "<table border=\"1\" class=\"dataframe\">\n",
       "  <thead>\n",
       "    <tr style=\"text-align: right;\">\n",
       "      <th></th>\n",
       "      <th>timestamp</th>\n",
       "      <th>session_id</th>\n",
       "      <th>item_id</th>\n",
       "      <th>is_buy</th>\n",
       "    </tr>\n",
       "  </thead>\n",
       "  <tbody>\n",
       "    <tr>\n",
       "      <th>230843</th>\n",
       "      <td>1434034517389</td>\n",
       "      <td>159953</td>\n",
       "      <td>20186</td>\n",
       "      <td>0</td>\n",
       "    </tr>\n",
       "    <tr>\n",
       "      <th>243885</th>\n",
       "      <td>1434036006651</td>\n",
       "      <td>159953</td>\n",
       "      <td>35162</td>\n",
       "      <td>0</td>\n",
       "    </tr>\n",
       "    <tr>\n",
       "      <th>229405</th>\n",
       "      <td>1434036288806</td>\n",
       "      <td>159953</td>\n",
       "      <td>65016</td>\n",
       "      <td>0</td>\n",
       "    </tr>\n",
       "    <tr>\n",
       "      <th>243973</th>\n",
       "      <td>1434036332155</td>\n",
       "      <td>159953</td>\n",
       "      <td>60616</td>\n",
       "      <td>0</td>\n",
       "    </tr>\n",
       "    <tr>\n",
       "      <th>243884</th>\n",
       "      <td>1434036403191</td>\n",
       "      <td>159953</td>\n",
       "      <td>60616</td>\n",
       "      <td>1</td>\n",
       "    </tr>\n",
       "    <tr>\n",
       "      <th>...</th>\n",
       "      <td>...</td>\n",
       "      <td>...</td>\n",
       "      <td>...</td>\n",
       "      <td>...</td>\n",
       "    </tr>\n",
       "    <tr>\n",
       "      <th>1446226</th>\n",
       "      <td>1442457734973</td>\n",
       "      <td>159953</td>\n",
       "      <td>23804</td>\n",
       "      <td>0</td>\n",
       "    </tr>\n",
       "    <tr>\n",
       "      <th>1450199</th>\n",
       "      <td>1442457747079</td>\n",
       "      <td>159953</td>\n",
       "      <td>3715</td>\n",
       "      <td>0</td>\n",
       "    </tr>\n",
       "    <tr>\n",
       "      <th>1446175</th>\n",
       "      <td>1442458187612</td>\n",
       "      <td>159953</td>\n",
       "      <td>41165</td>\n",
       "      <td>0</td>\n",
       "    </tr>\n",
       "    <tr>\n",
       "      <th>1446187</th>\n",
       "      <td>1442458566120</td>\n",
       "      <td>159953</td>\n",
       "      <td>61907</td>\n",
       "      <td>0</td>\n",
       "    </tr>\n",
       "    <tr>\n",
       "      <th>1447718</th>\n",
       "      <td>1442458631237</td>\n",
       "      <td>159953</td>\n",
       "      <td>60995</td>\n",
       "      <td>0</td>\n",
       "    </tr>\n",
       "  </tbody>\n",
       "</table>\n",
       "<p>7018 rows × 4 columns</p>\n",
       "</div>"
      ],
      "text/plain": [
       "             timestamp  session_id  item_id  is_buy\n",
       "230843   1434034517389      159953    20186       0\n",
       "243885   1434036006651      159953    35162       0\n",
       "229405   1434036288806      159953    65016       0\n",
       "243973   1434036332155      159953    60616       0\n",
       "243884   1434036403191      159953    60616       1\n",
       "...                ...         ...      ...     ...\n",
       "1446226  1442457734973      159953    23804       0\n",
       "1450199  1442457747079      159953     3715       0\n",
       "1446175  1442458187612      159953    41165       0\n",
       "1446187  1442458566120      159953    61907       0\n",
       "1447718  1442458631237      159953    60995       0\n",
       "\n",
       "[7018 rows x 4 columns]"
      ]
     },
     "execution_count": 15,
     "metadata": {},
     "output_type": "execute_result"
    }
   ],
   "source": [
    "# Some sessions are huge (even though this seems to be over multiple weeks/months)\n",
    "# Here >7000 \n",
    "train[train.session_id==159953]"
   ]
  },
  {
   "cell_type": "code",
   "execution_count": 16,
   "metadata": {},
   "outputs": [
    {
     "data": {
      "image/png": "[encoded data removed]",
      "text/plain": [
       "<Figure size 640x480 with 1 Axes>"
      ]
     },
     "metadata": {},
     "output_type": "display_data"
    }
   ],
   "source": [
    "import matplotlib.pyplot as plt\n",
    "\n",
    "# All sessions with lengths > cutoff get assigned cutoff\n",
    "cutoff = 25\n",
    "session_len = train.session_id.value_counts()\n",
    "session_len[session_len>cutoff] = cutoff\n",
    "session_len.value_counts().sort_index().plot(kind=\"bar\")\n",
    "plt.title(f\"Session length (cutoff at {cutoff})\")\n",
    "plt.show()"
   ]
  },
  {
   "cell_type": "code",
   "execution_count": 17,
   "metadata": {},
   "outputs": [
    {
     "data": {
      "text/html": [
       "<div>\n",
       "<style scoped>\n",
       "    .dataframe tbody tr th:only-of-type {\n",
       "        vertical-align: middle;\n",
       "    }\n",
       "\n",
       "    .dataframe tbody tr th {\n",
       "        vertical-align: top;\n",
       "    }\n",
       "\n",
       "    .dataframe thead th {\n",
       "        text-align: right;\n",
       "    }\n",
       "</style>\n",
       "<table border=\"1\" class=\"dataframe\">\n",
       "  <thead>\n",
       "    <tr style=\"text-align: right;\">\n",
       "      <th></th>\n",
       "      <th>state</th>\n",
       "      <th>len_state</th>\n",
       "      <th>action</th>\n",
       "      <th>is_buy</th>\n",
       "      <th>next_state</th>\n",
       "      <th>len_next_states</th>\n",
       "      <th>is_done</th>\n",
       "    </tr>\n",
       "  </thead>\n",
       "  <tbody>\n",
       "    <tr>\n",
       "      <th>12</th>\n",
       "      <td>[9750, 38594, 52427, 52427, 70852, 70852, 7085...</td>\n",
       "      <td>4</td>\n",
       "      <td>52427</td>\n",
       "      <td>0</td>\n",
       "      <td>[9750, 38594, 52427, 52427, 52427, 70852, 7085...</td>\n",
       "      <td>5</td>\n",
       "      <td>False</td>\n",
       "    </tr>\n",
       "    <tr>\n",
       "      <th>13</th>\n",
       "      <td>[9750, 38594, 52427, 52427, 52427, 70852, 7085...</td>\n",
       "      <td>5</td>\n",
       "      <td>52427</td>\n",
       "      <td>0</td>\n",
       "      <td>[9750, 38594, 52427, 52427, 52427, 52427, 7085...</td>\n",
       "      <td>6</td>\n",
       "      <td>True</td>\n",
       "    </tr>\n",
       "    <tr>\n",
       "      <th>14</th>\n",
       "      <td>[70852, 70852, 70852, 70852, 70852, 70852, 708...</td>\n",
       "      <td>1</td>\n",
       "      <td>6610</td>\n",
       "      <td>0</td>\n",
       "      <td>[6610, 70852, 70852, 70852, 70852, 70852, 7085...</td>\n",
       "      <td>1</td>\n",
       "      <td>False</td>\n",
       "    </tr>\n",
       "    <tr>\n",
       "      <th>15</th>\n",
       "      <td>[6610, 70852, 70852, 70852, 70852, 70852, 7085...</td>\n",
       "      <td>1</td>\n",
       "      <td>43203</td>\n",
       "      <td>0</td>\n",
       "      <td>[6610, 43203, 70852, 70852, 70852, 70852, 7085...</td>\n",
       "      <td>2</td>\n",
       "      <td>False</td>\n",
       "    </tr>\n",
       "    <tr>\n",
       "      <th>16</th>\n",
       "      <td>[6610, 43203, 70852, 70852, 70852, 70852, 7085...</td>\n",
       "      <td>2</td>\n",
       "      <td>43203</td>\n",
       "      <td>0</td>\n",
       "      <td>[6610, 43203, 43203, 70852, 70852, 70852, 7085...</td>\n",
       "      <td>3</td>\n",
       "      <td>True</td>\n",
       "    </tr>\n",
       "    <tr>\n",
       "      <th>17</th>\n",
       "      <td>[70852, 70852, 70852, 70852, 70852, 70852, 708...</td>\n",
       "      <td>1</td>\n",
       "      <td>25539</td>\n",
       "      <td>0</td>\n",
       "      <td>[25539, 70852, 70852, 70852, 70852, 70852, 708...</td>\n",
       "      <td>1</td>\n",
       "      <td>False</td>\n",
       "    </tr>\n",
       "  </tbody>\n",
       "</table>\n",
       "</div>"
      ],
      "text/plain": [
       "                                                state  len_state  action  \\\n",
       "12  [9750, 38594, 52427, 52427, 70852, 70852, 7085...          4   52427   \n",
       "13  [9750, 38594, 52427, 52427, 52427, 70852, 7085...          5   52427   \n",
       "14  [70852, 70852, 70852, 70852, 70852, 70852, 708...          1    6610   \n",
       "15  [6610, 70852, 70852, 70852, 70852, 70852, 7085...          1   43203   \n",
       "16  [6610, 43203, 70852, 70852, 70852, 70852, 7085...          2   43203   \n",
       "17  [70852, 70852, 70852, 70852, 70852, 70852, 708...          1   25539   \n",
       "\n",
       "    is_buy                                         next_state  \\\n",
       "12       0  [9750, 38594, 52427, 52427, 52427, 70852, 7085...   \n",
       "13       0  [9750, 38594, 52427, 52427, 52427, 52427, 7085...   \n",
       "14       0  [6610, 70852, 70852, 70852, 70852, 70852, 7085...   \n",
       "15       0  [6610, 43203, 70852, 70852, 70852, 70852, 7085...   \n",
       "16       0  [6610, 43203, 43203, 70852, 70852, 70852, 7085...   \n",
       "17       0  [25539, 70852, 70852, 70852, 70852, 70852, 708...   \n",
       "\n",
       "    len_next_states  is_done  \n",
       "12                5    False  \n",
       "13                6     True  \n",
       "14                1    False  \n",
       "15                2    False  \n",
       "16                3     True  \n",
       "17                1    False  "
      ]
     },
     "execution_count": 17,
     "metadata": {},
     "output_type": "execute_result"
    }
   ],
   "source": [
    "# replay_buffer[(replay_buffer.len_state==2) & (replay_buffer.is_done==True)]\n",
    "# The padding is very weird \n",
    "# What is item 7085 just empy item? Its state representation will have a lot of influence. Why from back to front, this would even increase its\n",
    "# impact, at least for the non attention case base models (so GRU specifically)\n",
    "\n",
    "# If len_state = 2, then 3 items were interacted with! s0->s1->s2->s3 - this refers to a session length of 4. \n",
    "# Inside the training data we still have sessions with 1 or two items - this is removed for the buffer\n",
    "replay_buffer.iloc[12:18, ]"
   ]
  },
  {
   "cell_type": "code",
   "execution_count": 18,
   "metadata": {},
   "outputs": [
    {
     "data": {
      "image/png": "[encoded data removed]",
      "text/plain": [
       "<Figure size 640x480 with 1 Axes>"
      ]
     },
     "metadata": {},
     "output_type": "display_data"
    }
   ],
   "source": [
    "replay_buffer[replay_buffer.is_done==True].len_state.value_counts().sort_index().plot(kind=\"bar\", title=\"len_state in replay buffer\")\n",
    "plt.show()"
   ]
  },
  {
   "cell_type": "code",
   "execution_count": 19,
   "metadata": {},
   "outputs": [
    {
     "data": {
      "text/html": [
       "<div>\n",
       "<style scoped>\n",
       "    .dataframe tbody tr th:only-of-type {\n",
       "        vertical-align: middle;\n",
       "    }\n",
       "\n",
       "    .dataframe tbody tr th {\n",
       "        vertical-align: top;\n",
       "    }\n",
       "\n",
       "    .dataframe thead th {\n",
       "        text-align: right;\n",
       "    }\n",
       "</style>\n",
       "<table border=\"1\" class=\"dataframe\">\n",
       "  <thead>\n",
       "    <tr style=\"text-align: right;\">\n",
       "      <th></th>\n",
       "      <th>state</th>\n",
       "      <th>len_state</th>\n",
       "      <th>action</th>\n",
       "      <th>is_buy</th>\n",
       "      <th>next_state</th>\n",
       "      <th>len_next_states</th>\n",
       "      <th>is_done</th>\n",
       "    </tr>\n",
       "  </thead>\n",
       "  <tbody>\n",
       "    <tr>\n",
       "      <th>187</th>\n",
       "      <td>[69518, 70852, 70852, 70852, 70852, 70852, 708...</td>\n",
       "      <td>1</td>\n",
       "      <td>35035</td>\n",
       "      <td>0</td>\n",
       "      <td>[69518, 35035, 70852, 70852, 70852, 70852, 708...</td>\n",
       "      <td>2</td>\n",
       "      <td>True</td>\n",
       "    </tr>\n",
       "    <tr>\n",
       "      <th>189</th>\n",
       "      <td>[11189, 70852, 70852, 70852, 70852, 70852, 708...</td>\n",
       "      <td>1</td>\n",
       "      <td>11189</td>\n",
       "      <td>0</td>\n",
       "      <td>[11189, 11189, 70852, 70852, 70852, 70852, 708...</td>\n",
       "      <td>2</td>\n",
       "      <td>True</td>\n",
       "    </tr>\n",
       "    <tr>\n",
       "      <th>214</th>\n",
       "      <td>[70852, 70852, 70852, 70852, 70852, 70852, 708...</td>\n",
       "      <td>1</td>\n",
       "      <td>47274</td>\n",
       "      <td>0</td>\n",
       "      <td>[47274, 70852, 70852, 70852, 70852, 70852, 708...</td>\n",
       "      <td>1</td>\n",
       "      <td>True</td>\n",
       "    </tr>\n",
       "    <tr>\n",
       "      <th>711</th>\n",
       "      <td>[15044, 70852, 70852, 70852, 70852, 70852, 708...</td>\n",
       "      <td>1</td>\n",
       "      <td>43797</td>\n",
       "      <td>0</td>\n",
       "      <td>[15044, 43797, 70852, 70852, 70852, 70852, 708...</td>\n",
       "      <td>2</td>\n",
       "      <td>True</td>\n",
       "    </tr>\n",
       "    <tr>\n",
       "      <th>771</th>\n",
       "      <td>[39223, 70852, 70852, 70852, 70852, 70852, 708...</td>\n",
       "      <td>1</td>\n",
       "      <td>18661</td>\n",
       "      <td>0</td>\n",
       "      <td>[39223, 18661, 70852, 70852, 70852, 70852, 708...</td>\n",
       "      <td>2</td>\n",
       "      <td>True</td>\n",
       "    </tr>\n",
       "    <tr>\n",
       "      <th>...</th>\n",
       "      <td>...</td>\n",
       "      <td>...</td>\n",
       "      <td>...</td>\n",
       "      <td>...</td>\n",
       "      <td>...</td>\n",
       "      <td>...</td>\n",
       "      <td>...</td>\n",
       "    </tr>\n",
       "    <tr>\n",
       "      <th>988246</th>\n",
       "      <td>[1270, 70852, 70852, 70852, 70852, 70852, 7085...</td>\n",
       "      <td>1</td>\n",
       "      <td>28426</td>\n",
       "      <td>0</td>\n",
       "      <td>[1270, 28426, 70852, 70852, 70852, 70852, 7085...</td>\n",
       "      <td>2</td>\n",
       "      <td>True</td>\n",
       "    </tr>\n",
       "    <tr>\n",
       "      <th>988302</th>\n",
       "      <td>[31271, 70852, 70852, 70852, 70852, 70852, 708...</td>\n",
       "      <td>1</td>\n",
       "      <td>22678</td>\n",
       "      <td>0</td>\n",
       "      <td>[31271, 22678, 70852, 70852, 70852, 70852, 708...</td>\n",
       "      <td>2</td>\n",
       "      <td>True</td>\n",
       "    </tr>\n",
       "    <tr>\n",
       "      <th>988318</th>\n",
       "      <td>[31091, 70852, 70852, 70852, 70852, 70852, 708...</td>\n",
       "      <td>1</td>\n",
       "      <td>31091</td>\n",
       "      <td>0</td>\n",
       "      <td>[31091, 31091, 70852, 70852, 70852, 70852, 708...</td>\n",
       "      <td>2</td>\n",
       "      <td>True</td>\n",
       "    </tr>\n",
       "    <tr>\n",
       "      <th>988417</th>\n",
       "      <td>[57053, 70852, 70852, 70852, 70852, 70852, 708...</td>\n",
       "      <td>1</td>\n",
       "      <td>28988</td>\n",
       "      <td>0</td>\n",
       "      <td>[57053, 28988, 70852, 70852, 70852, 70852, 708...</td>\n",
       "      <td>2</td>\n",
       "      <td>True</td>\n",
       "    </tr>\n",
       "    <tr>\n",
       "      <th>988653</th>\n",
       "      <td>[28006, 70852, 70852, 70852, 70852, 70852, 708...</td>\n",
       "      <td>1</td>\n",
       "      <td>1322</td>\n",
       "      <td>0</td>\n",
       "      <td>[28006, 1322, 70852, 70852, 70852, 70852, 7085...</td>\n",
       "      <td>2</td>\n",
       "      <td>True</td>\n",
       "    </tr>\n",
       "  </tbody>\n",
       "</table>\n",
       "<p>13088 rows × 7 columns</p>\n",
       "</div>"
      ],
      "text/plain": [
       "                                                    state  len_state  action  \\\n",
       "187     [69518, 70852, 70852, 70852, 70852, 70852, 708...          1   35035   \n",
       "189     [11189, 70852, 70852, 70852, 70852, 70852, 708...          1   11189   \n",
       "214     [70852, 70852, 70852, 70852, 70852, 70852, 708...          1   47274   \n",
       "711     [15044, 70852, 70852, 70852, 70852, 70852, 708...          1   43797   \n",
       "771     [39223, 70852, 70852, 70852, 70852, 70852, 708...          1   18661   \n",
       "...                                                   ...        ...     ...   \n",
       "988246  [1270, 70852, 70852, 70852, 70852, 70852, 7085...          1   28426   \n",
       "988302  [31271, 70852, 70852, 70852, 70852, 70852, 708...          1   22678   \n",
       "988318  [31091, 70852, 70852, 70852, 70852, 70852, 708...          1   31091   \n",
       "988417  [57053, 70852, 70852, 70852, 70852, 70852, 708...          1   28988   \n",
       "988653  [28006, 70852, 70852, 70852, 70852, 70852, 708...          1    1322   \n",
       "\n",
       "        is_buy                                         next_state  \\\n",
       "187          0  [69518, 35035, 70852, 70852, 70852, 70852, 708...   \n",
       "189          0  [11189, 11189, 70852, 70852, 70852, 70852, 708...   \n",
       "214          0  [47274, 70852, 70852, 70852, 70852, 70852, 708...   \n",
       "711          0  [15044, 43797, 70852, 70852, 70852, 70852, 708...   \n",
       "771          0  [39223, 18661, 70852, 70852, 70852, 70852, 708...   \n",
       "...        ...                                                ...   \n",
       "988246       0  [1270, 28426, 70852, 70852, 70852, 70852, 7085...   \n",
       "988302       0  [31271, 22678, 70852, 70852, 70852, 70852, 708...   \n",
       "988318       0  [31091, 31091, 70852, 70852, 70852, 70852, 708...   \n",
       "988417       0  [57053, 28988, 70852, 70852, 70852, 70852, 708...   \n",
       "988653       0  [28006, 1322, 70852, 70852, 70852, 70852, 7085...   \n",
       "\n",
       "        len_next_states  is_done  \n",
       "187                   2     True  \n",
       "189                   2     True  \n",
       "214                   1     True  \n",
       "711                   2     True  \n",
       "771                   2     True  \n",
       "...                 ...      ...  \n",
       "988246                2     True  \n",
       "988302                2     True  \n",
       "988318                2     True  \n",
       "988417                2     True  \n",
       "988653                2     True  \n",
       "\n",
       "[13088 rows x 7 columns]"
      ]
     },
     "execution_count": 19,
     "metadata": {},
     "output_type": "execute_result"
    }
   ],
   "source": [
    "replay_buffer[(replay_buffer.len_state==1) & (replay_buffer.is_done==True)]\n",
    "# replay_buffer.iloc[185:190]\n",
    "\n",
    "# Throw out all session where len_state = 1 and its done immediately? \n",
    "# First try normally so as they have it, it is anyways just 13000/1Mio = <1.5% of all interactions"
   ]
  },
  {
   "cell_type": "code",
   "execution_count": 20,
   "metadata": {},
   "outputs": [],
   "source": [
    "# Read pop dict\n",
    "f = open(\"../data/RetailRocket/pop_dict.txt\", 'r')\n",
    "pop_dict = eval(f.read())\n",
    "f.close()\n",
    "\n",
    "# Pop dict is only used for SA2C to create weights between target and bevavior policy, item pop is b(a|s) and they approximate it with b(a)"
   ]
  },
  {
   "cell_type": "code",
   "execution_count": 21,
   "metadata": {},
   "outputs": [
    {
     "data": {
      "text/html": [
       "<div>\n",
       "<style scoped>\n",
       "    .dataframe tbody tr th:only-of-type {\n",
       "        vertical-align: middle;\n",
       "    }\n",
       "\n",
       "    .dataframe tbody tr th {\n",
       "        vertical-align: top;\n",
       "    }\n",
       "\n",
       "    .dataframe thead th {\n",
       "        text-align: right;\n",
       "    }\n",
       "</style>\n",
       "<table border=\"1\" class=\"dataframe\">\n",
       "  <thead>\n",
       "    <tr style=\"text-align: right;\">\n",
       "      <th></th>\n",
       "      <th>state_size</th>\n",
       "      <th>item_num</th>\n",
       "    </tr>\n",
       "  </thead>\n",
       "  <tbody>\n",
       "    <tr>\n",
       "      <th>0</th>\n",
       "      <td>10</td>\n",
       "      <td>70852</td>\n",
       "    </tr>\n",
       "  </tbody>\n",
       "</table>\n",
       "</div>"
      ],
      "text/plain": [
       "   state_size  item_num\n",
       "0          10     70852"
      ]
     },
     "execution_count": 21,
     "metadata": {},
     "output_type": "execute_result"
    }
   ],
   "source": [
    "# Read data_statis\n",
    "pd.read_pickle(os.path.join(data_directory, 'data_statis.df'))"
   ]
  },
  {
   "cell_type": "code",
   "execution_count": 22,
   "metadata": {},
   "outputs": [
    {
     "data": {
      "text/plain": [
       "array([    0,     1,     2, ..., 70849, 70850, 70851])"
      ]
     },
     "execution_count": 22,
     "metadata": {},
     "output_type": "execute_result"
    }
   ],
   "source": [
    "np.sort(replay_buffer.action.unique())"
   ]
  },
  {
   "cell_type": "code",
   "execution_count": 23,
   "metadata": {},
   "outputs": [
    {
     "data": {
      "text/plain": [
       "(988719, 7)"
      ]
     },
     "execution_count": 23,
     "metadata": {},
     "output_type": "execute_result"
    }
   ],
   "source": [
    "replay_buffer.shape"
   ]
  },
  {
   "attachments": {},
   "cell_type": "markdown",
   "metadata": {},
   "source": [
    "### Questions:\n",
    "1. The padding is weird - What is item 7085 just empy item? Its state representation will have a lot of influence. \n",
    "1. For GRU (and transformer too) we would not need to pad I guess?\n",
    "1. Why from back to front, this would even increase its impact, at least for the non attention case base models (so GRU specifically)\n",
    "1. Why do they use TF1?!"
   ]
  },
  {
   "cell_type": "code",
   "execution_count": 24,
   "metadata": {},
   "outputs": [
    {
     "name": "stdout",
     "output_type": "stream",
     "text": [
      "0.8309526605439513\n",
      "0.6439142598879724\n"
     ]
    }
   ],
   "source": [
    "import numpy as np\n",
    "\n",
    "# Softmax behavior\n",
    "# Using logits to get probs, logit = ln p/(1-p) for 0.5 it is ln(1)=0, for 0.4/0.6 smaller 1 ln(<1)=-X, for ln(0.6)=X\n",
    "# NN will map to logits, high values for > 0, small values for <0! Medium for 0. So will try to take positives high and neg low\n",
    "print(np.exp(3)/(np.exp(1)+np.exp(-1)+np.exp(0)+np.exp(3)))\n",
    "print(np.exp(2)/(np.exp(1)+np.exp(-1)+np.exp(0)+np.exp(2)))"
   ]
  },
  {
   "attachments": {},
   "cell_type": "markdown",
   "metadata": {},
   "source": [
    "### How to load non-image data into pytorch model?"
   ]
  },
  {
   "cell_type": "code",
   "execution_count": 25,
   "metadata": {},
   "outputs": [],
   "source": [
    "import torch \n",
    "import torch.nn as nn\n",
    "from torch.utils.data import Dataset, DataLoader\n",
    "\n",
    "map_rew_cat = np.vectorize(lambda rew_cat: 0 if rew_cat == 0  else 1)\n",
    "\n",
    "class ReplayBuffer(Dataset):\n",
    "    \"\"\"\n",
    "    Custom torch dataset that takes existing replay buffer file\n",
    "    and samples from it during training. \n",
    "\n",
    "    num_items is without padding item. Take not actual number but end \n",
    "    of numeration, so that indexing is the same. \n",
    "\n",
    "    Returns:\n",
    "    s, a, r, s', is_end\n",
    "    \"\"\"\n",
    "    def __init__(self, dir, map_rew_cat_func, num_items, state_name=\"state\", \n",
    "        next_state_name=\"next_state\", action_name=\"action\", end_name=\"is_done\", \n",
    "        reward_cat_name=\"is_buy\"):\n",
    "\n",
    "        super().__init__()\n",
    "        self.dir = dir\n",
    "        self.num_items = num_items\n",
    "        \n",
    "        # Names \n",
    "        self.state_name = state_name  # s\n",
    "        self.next_state_name = next_state_name  # s'\n",
    "        self.action_name = action_name  # a\n",
    "        self.reward_cat_name = reward_cat_name\n",
    "        self.end_name = end_name \n",
    "\n",
    "        # Save function to map reward category to reward \n",
    "        # (assuming reward is categorical)\n",
    "        self.map_rew_func = map_rew_cat_func\n",
    "\n",
    "        # Load data \n",
    "        replay_df = pd.read_pickle(dir)\n",
    "\n",
    "        # Transform each information column to numpy array (indexing is way faster)\n",
    "        self.states = np.array(replay_df[self.state_name].values.tolist())\n",
    "        self.next_states = np.array(replay_df[self.next_state_name].values.tolist())\n",
    "        self.actions = replay_df[action_name].to_numpy()\n",
    "        self.reward = map_rew_cat_func(replay_df[reward_cat_name].to_numpy())  \n",
    "        self.is_end = replay_df[end_name].to_numpy()\n",
    "\n",
    "        # Free memory\n",
    "        del replay_df\n",
    "\n",
    "    def __len__(self):\n",
    "        return len(self.actions)\n",
    "\n",
    "    def __getitem__(self, idx):\n",
    "        return self.states[idx], self.actions[idx], self.reward[idx], self.next_states[idx], self.is_end[idx]\n"
   ]
  },
  {
   "cell_type": "code",
   "execution_count": 26,
   "metadata": {},
   "outputs": [],
   "source": [
    "buffer_set = ReplayBuffer(dir=\"../data/RetailRocket/replay_buffer.df\", map_rew_cat_func=map_rew_cat, num_items=70852)\n",
    "replay_loader = DataLoader(buffer_set, batch_size=2, shuffle=True, drop_last=False)"
   ]
  },
  {
   "cell_type": "code",
   "execution_count": 27,
   "metadata": {},
   "outputs": [
    {
     "name": "stdout",
     "output_type": "stream",
     "text": [
      "[tensor([[39401,  4672, 39401, 30111, 39401, 57788, 70852, 70852, 70852, 70852],\n",
      "        [59728, 70852, 70852, 70852, 70852, 70852, 70852, 70852, 70852, 70852]]), tensor([31725, 14035]), tensor([0, 0]), tensor([[39401,  4672, 39401, 30111, 39401, 57788, 31725, 70852, 70852, 70852],\n",
      "        [59728, 14035, 70852, 70852, 70852, 70852, 70852, 70852, 70852, 70852]]), tensor([ True, False])]\n",
      "False\n",
      "\n",
      "Shape of first tensor (state): torch.Size([2, 10])\n"
     ]
    }
   ],
   "source": [
    "example = next(iter(replay_loader))\n",
    "\n",
    "print(example)\n",
    "print(example[0].requires_grad)\n",
    "\n",
    "print(f\"\\nShape of first tensor (state): {example[0].shape}\")"
   ]
  },
  {
   "cell_type": "code",
   "execution_count": 28,
   "metadata": {},
   "outputs": [
    {
     "data": {
      "text/plain": [
       "torch.Size([2])"
      ]
     },
     "execution_count": 28,
     "metadata": {},
     "output_type": "execute_result"
    }
   ],
   "source": [
    "# Check action tensor (it should be in indexing format for gathering, so (batch_size, 1))\n",
    "example[1].shape"
   ]
  },
  {
   "cell_type": "code",
   "execution_count": 29,
   "metadata": {},
   "outputs": [],
   "source": [
    "# Cross Entropy loss with index\n",
    "loss = nn.CrossEntropyLoss()\n",
    "input = torch.randn(64, 700, requires_grad=True)\n",
    "target = torch.empty(64, dtype=torch.long).random_(5)\n",
    "output = loss(input, target)"
   ]
  },
  {
   "cell_type": "code",
   "execution_count": 30,
   "metadata": {},
   "outputs": [
    {
     "data": {
      "text/plain": [
       "7.125010967254639"
      ]
     },
     "execution_count": 30,
     "metadata": {},
     "output_type": "execute_result"
    }
   ],
   "source": [
    "output.item()"
   ]
  },
  {
   "cell_type": "code",
   "execution_count": 31,
   "metadata": {},
   "outputs": [
    {
     "data": {
      "text/plain": [
       "[tensor([1., 2.], dtype=torch.float64),\n",
       " tensor([ True, False]),\n",
       " [('hi', 'hi'), ('wo', 'wo')]]"
      ]
     },
     "execution_count": 31,
     "metadata": {},
     "output_type": "execute_result"
    }
   ],
   "source": [
    "# There is no difference if packed in tuple or not\n",
    "# You will get list of np.array items \n",
    "class Probe(Dataset):\n",
    "    def __init__(self):\n",
    "        self.hallo = [1.0, 2.0, 3.5]\n",
    "        self.morgen = [True, False, True]\n",
    "        self.hi = [[\"hi\", \"wo\"], [\"hi\", \"wo\"], [\"hi\", \"wo\"]]\n",
    "\n",
    "    def __len__(self):\n",
    "        return len(self.hi)\n",
    "    def __getitem__(self, idx):\n",
    "        return (self.hallo[idx], self.morgen[idx], self.hi[idx])\n",
    "\n",
    "proben = DataLoader(Probe(), batch_size=2, shuffle=True)\n",
    "next(iter(proben))"
   ]
  },
  {
   "cell_type": "code",
   "execution_count": 32,
   "metadata": {},
   "outputs": [
    {
     "name": "stdout",
     "output_type": "stream",
     "text": [
      "Batch shape:      torch.Size([2, 4])\n",
      "Embedding output: torch.Size([2, 4, 3])\n"
     ]
    }
   ],
   "source": [
    "# Embedding example for matrox size\n",
    "\n",
    "embedding = torch.nn.Embedding(10, 3, padding_idx=9)\n",
    "\n",
    "batch = torch.LongTensor([[1,2,4,5],[4,3,2,9]])\n",
    "\n",
    "print(f\"Batch shape:      {batch.shape}\")\n",
    "\n",
    "embed = embedding(batch)\n",
    "\n",
    "print(f\"Embedding output: {embed.shape}\")"
   ]
  },
  {
   "attachments": {},
   "cell_type": "markdown",
   "metadata": {},
   "source": [
    "Embeeding layer of size (n_vocab, dimension) and accepts batches as (batch_size, sentence_length). Batch_size also from dataloader will always be first dimension. "
   ]
  },
  {
   "cell_type": "code",
   "execution_count": 33,
   "metadata": {},
   "outputs": [
    {
     "name": "stdout",
     "output_type": "stream",
     "text": [
      "Parameter containing:\n",
      "tensor([[ 1.6639e-01,  1.2767e-01, -1.3020e+00],\n",
      "        [-4.2997e-01,  2.2181e+00,  1.9095e+00],\n",
      "        [ 9.2314e-01, -6.8438e-01,  8.2680e-01],\n",
      "        [-5.8228e-01, -1.0427e+00,  6.6784e-01],\n",
      "        [ 3.2122e-01,  1.2160e+00,  8.6081e-01],\n",
      "        [ 6.6841e-04, -1.0685e+00,  9.5289e-01],\n",
      "        [ 3.8258e-01, -5.3101e-01,  5.6339e-01],\n",
      "        [-3.3436e-01,  9.2094e-01,  1.1455e+00],\n",
      "        [ 5.8101e-02,  1.6025e+00, -5.4979e-01],\n",
      "        [ 0.0000e+00,  0.0000e+00,  0.0000e+00]], requires_grad=True)\n"
     ]
    },
    {
     "data": {
      "text/plain": [
       "tensor([[ 8.9463,  9.5881,  9.4188],\n",
       "        [10.9236,  9.5142,  9.9879],\n",
       "        [10.4999, 10.4412,  9.2399],\n",
       "        [10.8688,  9.8870, 11.8687],\n",
       "        [10.7176,  9.0481,  9.8133],\n",
       "        [10.9735,  9.8951, 10.1458],\n",
       "        [ 9.4404, 11.0017, 10.1301],\n",
       "        [10.2323,  9.4487,  9.8264],\n",
       "        [ 9.9628,  9.8331, 10.1589],\n",
       "        [10.2575, 11.4833, 10.7608]])"
      ]
     },
     "execution_count": 33,
     "metadata": {},
     "output_type": "execute_result"
    }
   ],
   "source": [
    "print(embedding.weight)\n",
    "embedding.weight.data.normal_(10, 1)"
   ]
  },
  {
   "cell_type": "code",
   "execution_count": 34,
   "metadata": {},
   "outputs": [],
   "source": [
    "# GRU\n",
    "rnn = torch.nn.GRU(input_size=10, hidden_size=20, num_layers=1, batch_first=True)\n",
    "input = torch.randn(5, 3, 10)\n",
    "h0 = torch.randn(2, 3, 20)"
   ]
  },
  {
   "cell_type": "code",
   "execution_count": 35,
   "metadata": {},
   "outputs": [
    {
     "name": "stdout",
     "output_type": "stream",
     "text": [
      "torch.Size([5, 3, 20])\n"
     ]
    },
    {
     "data": {
      "text/plain": [
       "torch.Size([1, 5, 20])"
      ]
     },
     "execution_count": 35,
     "metadata": {},
     "output_type": "execute_result"
    }
   ],
   "source": [
    "output, hn = rnn(input)\n",
    "print(output.shape)\n",
    "\n",
    "hn.shape\n",
    "\n",
    "# Hidden state is hn. output is the hidden state for each of the positions of the sequence and each batch\n",
    "# Hidden state is (layer, batch, dim_hidden)"
   ]
  },
  {
   "cell_type": "code",
   "execution_count": 36,
   "metadata": {},
   "outputs": [],
   "source": [
    "# Softmax\n",
    "m = torch.nn.Softmax(dim=1)\n",
    "input = torch.randn(2, 3)\n",
    "output = m(input)"
   ]
  },
  {
   "cell_type": "code",
   "execution_count": 37,
   "metadata": {},
   "outputs": [
    {
     "name": "stdout",
     "output_type": "stream",
     "text": [
      "tensor([[0.1791, 0.6424, 0.1785],\n",
      "        [0.0832, 0.3632, 0.5536]])\n",
      "tensor([[1],\n",
      "        [2]])\n"
     ]
    }
   ],
   "source": [
    "# Get argmax of output\n",
    "print(output)\n",
    "\n",
    "idx = torch.argmax(output, dim=1, keepdim=True)\n",
    "print(idx)"
   ]
  },
  {
   "cell_type": "code",
   "execution_count": 38,
   "metadata": {},
   "outputs": [
    {
     "data": {
      "text/plain": [
       "tensor([[0.6424],\n",
       "        [0.5536]])"
      ]
     },
     "execution_count": 38,
     "metadata": {},
     "output_type": "execute_result"
    }
   ],
   "source": [
    "output.gather(1, idx)"
   ]
  },
  {
   "cell_type": "code",
   "execution_count": 39,
   "metadata": {},
   "outputs": [
    {
     "data": {
      "text/plain": [
       "tensor([[1],\n",
       "        [2],\n",
       "        [3],\n",
       "        [4]])"
      ]
     },
     "execution_count": 39,
     "metadata": {},
     "output_type": "execute_result"
    }
   ],
   "source": [
    "# Index transform for action value retrieval \n",
    "probe = torch.tensor([1,2,3,4])\n",
    "probe.unsqueeze(dim=1)"
   ]
  },
  {
   "cell_type": "code",
   "execution_count": 40,
   "metadata": {},
   "outputs": [
    {
     "data": {
      "text/plain": [
       "tensor([[0, 0, 0, 1, 0, 0, 0, 0, 0, 0]])"
      ]
     },
     "execution_count": 40,
     "metadata": {},
     "output_type": "execute_result"
    }
   ],
   "source": [
    "class_index = torch.tensor([3])\n",
    "torch.nn.functional.one_hot(class_index, num_classes=10)"
   ]
  },
  {
   "cell_type": "code",
   "execution_count": 41,
   "metadata": {},
   "outputs": [],
   "source": [
    "# Transform actions to One-Hot Vector (more efficient to do it here for each batch,\n",
    "# transforming the whole actions vector took too much memory, crashed, sparse but huge)\n",
    "# If action=10 then one_hot[10]=1\n",
    "# action = nn.functional.one_hot(torch.tensor(self.actions[idx]), num_classes=self.num_items+1)"
   ]
  },
  {
   "cell_type": "code",
   "execution_count": 42,
   "metadata": {},
   "outputs": [
    {
     "data": {
      "text/plain": [
       "3859.375"
      ]
     },
     "execution_count": 42,
     "metadata": {},
     "output_type": "execute_result"
    }
   ],
   "source": [
    "988000/256"
   ]
  },
  {
   "cell_type": "code",
   "execution_count": 43,
   "metadata": {},
   "outputs": [
    {
     "data": {
      "text/plain": [
       "tensor([ 0, 20,  0])"
      ]
     },
     "execution_count": 43,
     "metadata": {},
     "output_type": "execute_result"
    }
   ],
   "source": [
    "# Assign 0 to end states\n",
    "is_end = torch.tensor([True, False, True])\n",
    "vals = torch.tensor([10,20,30])\n",
    "\n",
    "vals[is_end] = 0.0\n",
    "vals"
   ]
  },
  {
   "attachments": {},
   "cell_type": "markdown",
   "metadata": {},
   "source": [
    "## Evaluation method\n",
    "\n",
    "Goal: Dataframe with cols (padded) state, action, reward and number of total actions per action category (customer can click product or purchase it, each own category)\n",
    "\n",
    "**NOTE:** Are we only assessing the interactions with the inspirational feed? So the next one to interact with? So just HR(click/view of IFI)@k? \n",
    "\n",
    "**NOTE 2:** They only use one of the trained networks for evaluation. Could be nice to alternate."
   ]
  },
  {
   "cell_type": "code",
   "execution_count": 44,
   "metadata": {},
   "outputs": [
    {
     "data": {
      "text/plain": [
       "[1, 2, 3, 5]"
      ]
     },
     "execution_count": 44,
     "metadata": {},
     "output_type": "execute_result"
    }
   ],
   "source": [
    "# Padding items are added to right side\n",
    "a = [1,2,3]\n",
    "a.extend([5])\n",
    "a"
   ]
  },
  {
   "cell_type": "code",
   "execution_count": 45,
   "metadata": {},
   "outputs": [
    {
     "data": {
      "text/html": [
       "<div>\n",
       "<style scoped>\n",
       "    .dataframe tbody tr th:only-of-type {\n",
       "        vertical-align: middle;\n",
       "    }\n",
       "\n",
       "    .dataframe tbody tr th {\n",
       "        vertical-align: top;\n",
       "    }\n",
       "\n",
       "    .dataframe thead th {\n",
       "        text-align: right;\n",
       "    }\n",
       "</style>\n",
       "<table border=\"1\" class=\"dataframe\">\n",
       "  <thead>\n",
       "    <tr style=\"text-align: right;\">\n",
       "      <th></th>\n",
       "      <th>timestamp</th>\n",
       "      <th>session_id</th>\n",
       "      <th>item_id</th>\n",
       "      <th>is_buy</th>\n",
       "      <th>n_items_bef</th>\n",
       "    </tr>\n",
       "  </thead>\n",
       "  <tbody>\n",
       "    <tr>\n",
       "      <th>1361687</th>\n",
       "      <td>1442004589439</td>\n",
       "      <td>0</td>\n",
       "      <td>43511</td>\n",
       "      <td>0</td>\n",
       "      <td>0</td>\n",
       "    </tr>\n",
       "    <tr>\n",
       "      <th>1367212</th>\n",
       "      <td>1442004759591</td>\n",
       "      <td>0</td>\n",
       "      <td>54408</td>\n",
       "      <td>0</td>\n",
       "      <td>1</td>\n",
       "    </tr>\n",
       "    <tr>\n",
       "      <th>1367342</th>\n",
       "      <td>1442004917175</td>\n",
       "      <td>0</td>\n",
       "      <td>10006</td>\n",
       "      <td>0</td>\n",
       "      <td>2</td>\n",
       "    </tr>\n",
       "    <tr>\n",
       "      <th>1663634</th>\n",
       "      <td>1431581976753</td>\n",
       "      <td>3</td>\n",
       "      <td>21080</td>\n",
       "      <td>0</td>\n",
       "      <td>0</td>\n",
       "    </tr>\n",
       "    <tr>\n",
       "      <th>1655502</th>\n",
       "      <td>1431582162817</td>\n",
       "      <td>3</td>\n",
       "      <td>24928</td>\n",
       "      <td>0</td>\n",
       "      <td>1</td>\n",
       "    </tr>\n",
       "    <tr>\n",
       "      <th>...</th>\n",
       "      <td>...</td>\n",
       "      <td>...</td>\n",
       "      <td>...</td>\n",
       "      <td>...</td>\n",
       "      <td>...</td>\n",
       "    </tr>\n",
       "    <tr>\n",
       "      <th>337403</th>\n",
       "      <td>1434585232543</td>\n",
       "      <td>195520</td>\n",
       "      <td>12794</td>\n",
       "      <td>0</td>\n",
       "      <td>1</td>\n",
       "    </tr>\n",
       "    <tr>\n",
       "      <th>346677</th>\n",
       "      <td>1434585240943</td>\n",
       "      <td>195520</td>\n",
       "      <td>38719</td>\n",
       "      <td>0</td>\n",
       "      <td>2</td>\n",
       "    </tr>\n",
       "    <tr>\n",
       "      <th>339623</th>\n",
       "      <td>1434585258746</td>\n",
       "      <td>195520</td>\n",
       "      <td>39674</td>\n",
       "      <td>0</td>\n",
       "      <td>3</td>\n",
       "    </tr>\n",
       "    <tr>\n",
       "      <th>346680</th>\n",
       "      <td>1434585284740</td>\n",
       "      <td>195520</td>\n",
       "      <td>38719</td>\n",
       "      <td>0</td>\n",
       "      <td>4</td>\n",
       "    </tr>\n",
       "    <tr>\n",
       "      <th>339600</th>\n",
       "      <td>1434585451071</td>\n",
       "      <td>195520</td>\n",
       "      <td>12794</td>\n",
       "      <td>0</td>\n",
       "      <td>5</td>\n",
       "    </tr>\n",
       "  </tbody>\n",
       "</table>\n",
       "<p>123597 rows × 5 columns</p>\n",
       "</div>"
      ],
      "text/plain": [
       "             timestamp  session_id  item_id  is_buy  n_items_bef\n",
       "1361687  1442004589439           0    43511       0            0\n",
       "1367212  1442004759591           0    54408       0            1\n",
       "1367342  1442004917175           0    10006       0            2\n",
       "1663634  1431581976753           3    21080       0            0\n",
       "1655502  1431582162817           3    24928       0            1\n",
       "...                ...         ...      ...     ...          ...\n",
       "337403   1434585232543      195520    12794       0            1\n",
       "346677   1434585240943      195520    38719       0            2\n",
       "339623   1434585258746      195520    39674       0            3\n",
       "346680   1434585284740      195520    38719       0            4\n",
       "339600   1434585451071      195520    12794       0            5\n",
       "\n",
       "[123597 rows x 5 columns]"
      ]
     },
     "execution_count": 45,
     "metadata": {},
     "output_type": "execute_result"
    }
   ],
   "source": [
    "val[\"n_items_bef\"] = val.groupby(\"session_id\").cumcount()\n",
    "val"
   ]
  },
  {
   "cell_type": "code",
   "execution_count": 46,
   "metadata": {},
   "outputs": [
    {
     "data": {
      "text/html": [
       "<div>\n",
       "<style scoped>\n",
       "    .dataframe tbody tr th:only-of-type {\n",
       "        vertical-align: middle;\n",
       "    }\n",
       "\n",
       "    .dataframe tbody tr th {\n",
       "        vertical-align: top;\n",
       "    }\n",
       "\n",
       "    .dataframe thead th {\n",
       "        text-align: right;\n",
       "    }\n",
       "</style>\n",
       "<table border=\"1\" class=\"dataframe\">\n",
       "  <thead>\n",
       "    <tr style=\"text-align: right;\">\n",
       "      <th></th>\n",
       "      <th>timestamp</th>\n",
       "      <th>session_id</th>\n",
       "      <th>item_id</th>\n",
       "      <th>is_buy</th>\n",
       "      <th>n_items_bef</th>\n",
       "    </tr>\n",
       "  </thead>\n",
       "  <tbody>\n",
       "    <tr>\n",
       "      <th>331264</th>\n",
       "      <td>1434585145087</td>\n",
       "      <td>195520</td>\n",
       "      <td>38719</td>\n",
       "      <td>0</td>\n",
       "      <td>0</td>\n",
       "    </tr>\n",
       "    <tr>\n",
       "      <th>337403</th>\n",
       "      <td>1434585232543</td>\n",
       "      <td>195520</td>\n",
       "      <td>12794</td>\n",
       "      <td>0</td>\n",
       "      <td>1</td>\n",
       "    </tr>\n",
       "    <tr>\n",
       "      <th>346677</th>\n",
       "      <td>1434585240943</td>\n",
       "      <td>195520</td>\n",
       "      <td>38719</td>\n",
       "      <td>0</td>\n",
       "      <td>2</td>\n",
       "    </tr>\n",
       "    <tr>\n",
       "      <th>339623</th>\n",
       "      <td>1434585258746</td>\n",
       "      <td>195520</td>\n",
       "      <td>39674</td>\n",
       "      <td>0</td>\n",
       "      <td>3</td>\n",
       "    </tr>\n",
       "    <tr>\n",
       "      <th>346680</th>\n",
       "      <td>1434585284740</td>\n",
       "      <td>195520</td>\n",
       "      <td>38719</td>\n",
       "      <td>0</td>\n",
       "      <td>4</td>\n",
       "    </tr>\n",
       "    <tr>\n",
       "      <th>339600</th>\n",
       "      <td>1434585451071</td>\n",
       "      <td>195520</td>\n",
       "      <td>12794</td>\n",
       "      <td>0</td>\n",
       "      <td>5</td>\n",
       "    </tr>\n",
       "  </tbody>\n",
       "</table>\n",
       "</div>"
      ],
      "text/plain": [
       "            timestamp  session_id  item_id  is_buy  n_items_bef\n",
       "331264  1434585145087      195520    38719       0            0\n",
       "337403  1434585232543      195520    12794       0            1\n",
       "346677  1434585240943      195520    38719       0            2\n",
       "339623  1434585258746      195520    39674       0            3\n",
       "346680  1434585284740      195520    38719       0            4\n",
       "339600  1434585451071      195520    12794       0            5"
      ]
     },
     "execution_count": 46,
     "metadata": {},
     "output_type": "execute_result"
    }
   ],
   "source": [
    "examp = val[val.session_id==195520]\n",
    "examp"
   ]
  },
  {
   "cell_type": "code",
   "execution_count": 47,
   "metadata": {},
   "outputs": [],
   "source": [
    "def get_state(n_items_bef, item_hist, state_len, pad_id):\n",
    "    \"\"\"\n",
    "    Function to retrieve colum of states given a groups n_items_bef column.\n",
    "    To keep in line with the paper's implementation, the returned seqs are\n",
    "    of form [oldest, ..., newest, pad, ..., pad].\n",
    "    \"\"\"\n",
    "    if n_items_bef >= state_len:  # We have enough experience to fill state without padding\n",
    "        return item_hist[n_items_bef-state_len:n_items_bef]  # Return state_len actions before (history - not including current action)\n",
    "    else:  # Padding needed\n",
    "        n_pad = state_len - n_items_bef\n",
    "        pad_list = [pad_id] * n_pad\n",
    "        return np.pad(item_hist[:n_items_bef], pad_width=(0, n_pad), mode=\"constant\", constant_values=pad_id)\n",
    "\n",
    "\n",
    "def get_state_col(group_df, pad_id, state_len, item_before_col=\"n_items_bef\", item_id_col=\"item_id\"):\n",
    "    \"\"\"\n",
    "    Take group_df and return column with (padded) states. \n",
    "    \"\"\"\n",
    "    item_hist = group_df[item_id_col].values\n",
    "\n",
    "    session_states = group_df[item_before_col].apply(get_state, 1, item_hist=item_hist, state_len=state_len, pad_id=pad_id)\n",
    "\n",
    "    return session_states"
   ]
  },
  {
   "cell_type": "code",
   "execution_count": 48,
   "metadata": {},
   "outputs": [
    {
     "data": {
      "text/html": [
       "<div>\n",
       "<style scoped>\n",
       "    .dataframe tbody tr th:only-of-type {\n",
       "        vertical-align: middle;\n",
       "    }\n",
       "\n",
       "    .dataframe tbody tr th {\n",
       "        vertical-align: top;\n",
       "    }\n",
       "\n",
       "    .dataframe thead th {\n",
       "        text-align: right;\n",
       "    }\n",
       "</style>\n",
       "<table border=\"1\" class=\"dataframe\">\n",
       "  <thead>\n",
       "    <tr style=\"text-align: right;\">\n",
       "      <th></th>\n",
       "      <th>timestamp</th>\n",
       "      <th>session_id</th>\n",
       "      <th>item_id</th>\n",
       "      <th>is_buy</th>\n",
       "      <th>n_items_bef</th>\n",
       "      <th>state</th>\n",
       "    </tr>\n",
       "  </thead>\n",
       "  <tbody>\n",
       "    <tr>\n",
       "      <th>1361687</th>\n",
       "      <td>1442004589439</td>\n",
       "      <td>0</td>\n",
       "      <td>43511</td>\n",
       "      <td>0</td>\n",
       "      <td>0</td>\n",
       "      <td>[70852, 70852]</td>\n",
       "    </tr>\n",
       "    <tr>\n",
       "      <th>1367212</th>\n",
       "      <td>1442004759591</td>\n",
       "      <td>0</td>\n",
       "      <td>54408</td>\n",
       "      <td>0</td>\n",
       "      <td>1</td>\n",
       "      <td>[43511, 70852]</td>\n",
       "    </tr>\n",
       "    <tr>\n",
       "      <th>1367342</th>\n",
       "      <td>1442004917175</td>\n",
       "      <td>0</td>\n",
       "      <td>10006</td>\n",
       "      <td>0</td>\n",
       "      <td>2</td>\n",
       "      <td>[43511, 54408]</td>\n",
       "    </tr>\n",
       "    <tr>\n",
       "      <th>1663634</th>\n",
       "      <td>1431581976753</td>\n",
       "      <td>3</td>\n",
       "      <td>21080</td>\n",
       "      <td>0</td>\n",
       "      <td>0</td>\n",
       "      <td>[70852, 70852]</td>\n",
       "    </tr>\n",
       "    <tr>\n",
       "      <th>1655502</th>\n",
       "      <td>1431582162817</td>\n",
       "      <td>3</td>\n",
       "      <td>24928</td>\n",
       "      <td>0</td>\n",
       "      <td>1</td>\n",
       "      <td>[21080, 70852]</td>\n",
       "    </tr>\n",
       "    <tr>\n",
       "      <th>...</th>\n",
       "      <td>...</td>\n",
       "      <td>...</td>\n",
       "      <td>...</td>\n",
       "      <td>...</td>\n",
       "      <td>...</td>\n",
       "      <td>...</td>\n",
       "    </tr>\n",
       "    <tr>\n",
       "      <th>337403</th>\n",
       "      <td>1434585232543</td>\n",
       "      <td>195520</td>\n",
       "      <td>12794</td>\n",
       "      <td>0</td>\n",
       "      <td>1</td>\n",
       "      <td>[38719, 70852]</td>\n",
       "    </tr>\n",
       "    <tr>\n",
       "      <th>346677</th>\n",
       "      <td>1434585240943</td>\n",
       "      <td>195520</td>\n",
       "      <td>38719</td>\n",
       "      <td>0</td>\n",
       "      <td>2</td>\n",
       "      <td>[38719, 12794]</td>\n",
       "    </tr>\n",
       "    <tr>\n",
       "      <th>339623</th>\n",
       "      <td>1434585258746</td>\n",
       "      <td>195520</td>\n",
       "      <td>39674</td>\n",
       "      <td>0</td>\n",
       "      <td>3</td>\n",
       "      <td>[12794, 38719]</td>\n",
       "    </tr>\n",
       "    <tr>\n",
       "      <th>346680</th>\n",
       "      <td>1434585284740</td>\n",
       "      <td>195520</td>\n",
       "      <td>38719</td>\n",
       "      <td>0</td>\n",
       "      <td>4</td>\n",
       "      <td>[38719, 39674]</td>\n",
       "    </tr>\n",
       "    <tr>\n",
       "      <th>339600</th>\n",
       "      <td>1434585451071</td>\n",
       "      <td>195520</td>\n",
       "      <td>12794</td>\n",
       "      <td>0</td>\n",
       "      <td>5</td>\n",
       "      <td>[39674, 38719]</td>\n",
       "    </tr>\n",
       "  </tbody>\n",
       "</table>\n",
       "<p>123597 rows × 6 columns</p>\n",
       "</div>"
      ],
      "text/plain": [
       "             timestamp  session_id  item_id  is_buy  n_items_bef  \\\n",
       "1361687  1442004589439           0    43511       0            0   \n",
       "1367212  1442004759591           0    54408       0            1   \n",
       "1367342  1442004917175           0    10006       0            2   \n",
       "1663634  1431581976753           3    21080       0            0   \n",
       "1655502  1431582162817           3    24928       0            1   \n",
       "...                ...         ...      ...     ...          ...   \n",
       "337403   1434585232543      195520    12794       0            1   \n",
       "346677   1434585240943      195520    38719       0            2   \n",
       "339623   1434585258746      195520    39674       0            3   \n",
       "346680   1434585284740      195520    38719       0            4   \n",
       "339600   1434585451071      195520    12794       0            5   \n",
       "\n",
       "                  state  \n",
       "1361687  [70852, 70852]  \n",
       "1367212  [43511, 70852]  \n",
       "1367342  [43511, 54408]  \n",
       "1663634  [70852, 70852]  \n",
       "1655502  [21080, 70852]  \n",
       "...                 ...  \n",
       "337403   [38719, 70852]  \n",
       "346677   [38719, 12794]  \n",
       "339623   [12794, 38719]  \n",
       "346680   [38719, 39674]  \n",
       "339600   [39674, 38719]  \n",
       "\n",
       "[123597 rows x 6 columns]"
      ]
     },
     "execution_count": 48,
     "metadata": {},
     "output_type": "execute_result"
    }
   ],
   "source": [
    "# Transform them into states\n",
    "\n",
    "val[\"state\"] = val.groupby(\"session_id\", group_keys=False).apply(get_state_col, pad_id=70852, state_len=2)\n",
    "val"
   ]
  },
  {
   "cell_type": "code",
   "execution_count": 49,
   "metadata": {},
   "outputs": [
    {
     "data": {
      "text/plain": [
       "2722159    2\n",
       "2734128    2\n",
       "2728505    2\n",
       "Name: state, dtype: int64"
      ]
     },
     "execution_count": 49,
     "metadata": {},
     "output_type": "execute_result"
    }
   ],
   "source": [
    "val[val.session_id==195505].state.apply(lambda x: len(x))"
   ]
  },
  {
   "cell_type": "code",
   "execution_count": 31,
   "metadata": {},
   "outputs": [
    {
     "ename": "NameError",
     "evalue": "name 'val' is not defined",
     "output_type": "error",
     "traceback": [
      "\u001b[0;31m---------------------------------------------------------------------------\u001b[0m",
      "\u001b[0;31mNameError\u001b[0m                                 Traceback (most recent call last)",
      "Cell \u001b[0;32mIn[31], line 8\u001b[0m\n\u001b[1;32m      4\u001b[0m     \u001b[39mreturn\u001b[39;00m a_to_r_dict[action_type]\n\u001b[1;32m      6\u001b[0m a_to_r_dict \u001b[39m=\u001b[39m {\u001b[39m0\u001b[39m:\u001b[39m0.2\u001b[39m, \u001b[39m1\u001b[39m:\u001b[39m1\u001b[39m}  \u001b[39m# Here just buy:1, click:0.2\u001b[39;00m\n\u001b[0;32m----> 8\u001b[0m val[\u001b[39m\"\u001b[39m\u001b[39mreward\u001b[39m\u001b[39m\"\u001b[39m] \u001b[39m=\u001b[39m val\u001b[39m.\u001b[39mis_buy\u001b[39m.\u001b[39mapply(action_to_reward, \u001b[39m1\u001b[39m, a_to_r_dict\u001b[39m=\u001b[39ma_to_r_dict)\n",
      "\u001b[0;31mNameError\u001b[0m: name 'val' is not defined"
     ]
    }
   ],
   "source": [
    "# Reward mapping\n",
    "\n",
    "def action_to_reward(action_type, a_to_r_dict):\n",
    "    return a_to_r_dict[action_type]\n",
    "\n",
    "a_to_r_dict = {0:0.2, 1:1}  # Here just buy:1, click:0.2\n",
    "\n",
    "val[\"reward\"] = val.is_buy.apply(action_to_reward, 1, a_to_r_dict=a_to_r_dict)"
   ]
  },
  {
   "cell_type": "code",
   "execution_count": 51,
   "metadata": {},
   "outputs": [
    {
     "data": {
      "text/plain": [
       "0    118306\n",
       "1      5291\n",
       "Name: is_buy, dtype: int64"
      ]
     },
     "execution_count": 51,
     "metadata": {},
     "output_type": "execute_result"
    }
   ],
   "source": [
    "def get_total_actions(df, action_type_col=\"is_buy\"):\n",
    "    return df[action_type_col].value_counts()\n",
    "\n",
    "get_total_actions(val)"
   ]
  },
  {
   "cell_type": "code",
   "execution_count": 52,
   "metadata": {},
   "outputs": [
    {
     "data": {
      "text/plain": [
       "torch.Size([100, 2])"
      ]
     },
     "execution_count": 52,
     "metadata": {},
     "output_type": "execute_result"
    }
   ],
   "source": [
    "batch = torch.tensor(np.array(val.state.sample(100).to_list()))\n",
    "batch.shape"
   ]
  },
  {
   "cell_type": "code",
   "execution_count": 53,
   "metadata": {},
   "outputs": [],
   "source": [
    "# Pack it in dataset and dataloader to only make changes once \n",
    "# and stores the big dataset on local memory to then send the \n",
    "# batches to GPU\n",
    "\n",
    "from torch.utils.data import Dataset, DataLoader\n",
    "\n",
    "class EvaluationDataset(Dataset):\n",
    "    \"\"\"\n",
    "    Custom torch dataset that takes existing val/test file,\n",
    "    transforms it and samples from it during training. \n",
    "\n",
    "    Returns:\n",
    "    s, a, r\n",
    "    \"\"\"\n",
    "    def __init__(self, dir, padding_id, \n",
    "            state_len, action_to_reward_dict, action_type_name=\"is_buy\", \n",
    "            session_id_name=\"session_id\", action_name=\"item_id\", item_id_name=\"item_id\"):\n",
    "\n",
    "        super().__init__()\n",
    "\n",
    "        eval_df = pd.read_pickle(dir)\n",
    "        self.pad_id = padding_id\n",
    "        self.state_len = state_len\n",
    "        self.a_to_r = action_to_reward_dict\n",
    "\n",
    "        # Add column with number of items before in the session\n",
    "        eval_df[\"n_items_bef\"] = eval_df.groupby(session_id_name).cumcount()\n",
    "\n",
    "        # Add column for (padded) state representation\n",
    "        eval_df[\"state\"] = eval_df.groupby(session_id_name, group_keys=False).apply(get_state_col, pad_id=self.pad_id, state_len=self.state_len, item_id_col=item_id_name)\n",
    "\n",
    "        # Add reward column \n",
    "        eval_df[\"reward\"] = eval_df[action_type_name].apply(action_to_reward, 1, a_to_r_dict=self.a_to_r)\n",
    "\n",
    "        eval_df = eval_df.iloc[:10000,:]\n",
    "\n",
    "        # Transform each information column to numpy array (indexing is way faster)\n",
    "        self.states = np.array(eval_df[\"state\"].values.tolist())\n",
    "        self.actions = eval_df[action_name].to_numpy()\n",
    "        self.reward = eval_df[\"reward\"].to_numpy()\n",
    "        self.action_type = eval_df[action_type_name].to_numpy()\n",
    "\n",
    "        # Free memory\n",
    "        del eval_df\n",
    "        \n",
    "    def __len__(self):\n",
    "        return len(self.actions)\n",
    "    \n",
    "    def __getitem__(self, idx):\n",
    "        return self.states[idx], self.actions[idx], self.reward[idx], self.action_type[idx]"
   ]
  },
  {
   "cell_type": "code",
   "execution_count": 85,
   "metadata": {},
   "outputs": [
    {
     "name": "stdout",
     "output_type": "stream",
     "text": [
      "[tensor([[70852, 70852, 70852, 70852, 70852, 70852, 70852, 70852, 70852, 70852],\n",
      "        [49432, 70852, 70852, 70852, 70852, 70852, 70852, 70852, 70852, 70852],\n",
      "        [49432, 49432, 70852, 70852, 70852, 70852, 70852, 70852, 70852, 70852],\n",
      "        [49432, 49432, 39563, 70852, 70852, 70852, 70852, 70852, 70852, 70852]]), tensor([49432, 49432, 39563, 32776]), tensor([0.2000, 0.2000, 0.2000, 0.2000], dtype=torch.float64), tensor([0, 0, 0, 0])]\n",
      "\n",
      "Shape of first tensor (state): torch.Size([4, 10])\n"
     ]
    }
   ],
   "source": [
    "from recommenders.SQN.evaluation import EvaluationDataset\n",
    "\n",
    "\n",
    "val_set = EvaluationDataset(dir=\"../data/RetailRocket/sampled_train.df\", padding_id=70852, state_len=10, action_to_reward_dict=a_to_r_dict)\n",
    "val_loader = DataLoader(val_set, batch_size=4, shuffle=False, drop_last=False)\n",
    "\n",
    "example = next(iter(val_loader))\n",
    "\n",
    "print(example)\n",
    "\n",
    "print(f\"\\nShape of first tensor (state): {example[0].shape}\")"
   ]
  },
  {
   "cell_type": "code",
   "execution_count": 55,
   "metadata": {},
   "outputs": [
    {
     "data": {
      "text/html": [
       "<div>\n",
       "<style scoped>\n",
       "    .dataframe tbody tr th:only-of-type {\n",
       "        vertical-align: middle;\n",
       "    }\n",
       "\n",
       "    .dataframe tbody tr th {\n",
       "        vertical-align: top;\n",
       "    }\n",
       "\n",
       "    .dataframe thead th {\n",
       "        text-align: right;\n",
       "    }\n",
       "</style>\n",
       "<table border=\"1\" class=\"dataframe\">\n",
       "  <thead>\n",
       "    <tr style=\"text-align: right;\">\n",
       "      <th></th>\n",
       "      <th>timestamp</th>\n",
       "      <th>session_id</th>\n",
       "      <th>item_id</th>\n",
       "      <th>is_buy</th>\n",
       "      <th>n_items_bef</th>\n",
       "      <th>state</th>\n",
       "      <th>reward</th>\n",
       "    </tr>\n",
       "  </thead>\n",
       "  <tbody>\n",
       "    <tr>\n",
       "      <th>1361687</th>\n",
       "      <td>1442004589439</td>\n",
       "      <td>0</td>\n",
       "      <td>43511</td>\n",
       "      <td>0</td>\n",
       "      <td>0</td>\n",
       "      <td>[70852, 70852]</td>\n",
       "      <td>0.2</td>\n",
       "    </tr>\n",
       "    <tr>\n",
       "      <th>1367212</th>\n",
       "      <td>1442004759591</td>\n",
       "      <td>0</td>\n",
       "      <td>54408</td>\n",
       "      <td>0</td>\n",
       "      <td>1</td>\n",
       "      <td>[43511, 70852]</td>\n",
       "      <td>0.2</td>\n",
       "    </tr>\n",
       "    <tr>\n",
       "      <th>1367342</th>\n",
       "      <td>1442004917175</td>\n",
       "      <td>0</td>\n",
       "      <td>10006</td>\n",
       "      <td>0</td>\n",
       "      <td>2</td>\n",
       "      <td>[43511, 54408]</td>\n",
       "      <td>0.2</td>\n",
       "    </tr>\n",
       "    <tr>\n",
       "      <th>1663634</th>\n",
       "      <td>1431581976753</td>\n",
       "      <td>3</td>\n",
       "      <td>21080</td>\n",
       "      <td>0</td>\n",
       "      <td>0</td>\n",
       "      <td>[70852, 70852]</td>\n",
       "      <td>0.2</td>\n",
       "    </tr>\n",
       "    <tr>\n",
       "      <th>1655502</th>\n",
       "      <td>1431582162817</td>\n",
       "      <td>3</td>\n",
       "      <td>24928</td>\n",
       "      <td>0</td>\n",
       "      <td>1</td>\n",
       "      <td>[21080, 70852]</td>\n",
       "      <td>0.2</td>\n",
       "    </tr>\n",
       "    <tr>\n",
       "      <th>...</th>\n",
       "      <td>...</td>\n",
       "      <td>...</td>\n",
       "      <td>...</td>\n",
       "      <td>...</td>\n",
       "      <td>...</td>\n",
       "      <td>...</td>\n",
       "      <td>...</td>\n",
       "    </tr>\n",
       "    <tr>\n",
       "      <th>337403</th>\n",
       "      <td>1434585232543</td>\n",
       "      <td>195520</td>\n",
       "      <td>12794</td>\n",
       "      <td>0</td>\n",
       "      <td>1</td>\n",
       "      <td>[38719, 70852]</td>\n",
       "      <td>0.2</td>\n",
       "    </tr>\n",
       "    <tr>\n",
       "      <th>346677</th>\n",
       "      <td>1434585240943</td>\n",
       "      <td>195520</td>\n",
       "      <td>38719</td>\n",
       "      <td>0</td>\n",
       "      <td>2</td>\n",
       "      <td>[38719, 12794]</td>\n",
       "      <td>0.2</td>\n",
       "    </tr>\n",
       "    <tr>\n",
       "      <th>339623</th>\n",
       "      <td>1434585258746</td>\n",
       "      <td>195520</td>\n",
       "      <td>39674</td>\n",
       "      <td>0</td>\n",
       "      <td>3</td>\n",
       "      <td>[12794, 38719]</td>\n",
       "      <td>0.2</td>\n",
       "    </tr>\n",
       "    <tr>\n",
       "      <th>346680</th>\n",
       "      <td>1434585284740</td>\n",
       "      <td>195520</td>\n",
       "      <td>38719</td>\n",
       "      <td>0</td>\n",
       "      <td>4</td>\n",
       "      <td>[38719, 39674]</td>\n",
       "      <td>0.2</td>\n",
       "    </tr>\n",
       "    <tr>\n",
       "      <th>339600</th>\n",
       "      <td>1434585451071</td>\n",
       "      <td>195520</td>\n",
       "      <td>12794</td>\n",
       "      <td>0</td>\n",
       "      <td>5</td>\n",
       "      <td>[39674, 38719]</td>\n",
       "      <td>0.2</td>\n",
       "    </tr>\n",
       "  </tbody>\n",
       "</table>\n",
       "<p>123597 rows × 7 columns</p>\n",
       "</div>"
      ],
      "text/plain": [
       "             timestamp  session_id  item_id  is_buy  n_items_bef  \\\n",
       "1361687  1442004589439           0    43511       0            0   \n",
       "1367212  1442004759591           0    54408       0            1   \n",
       "1367342  1442004917175           0    10006       0            2   \n",
       "1663634  1431581976753           3    21080       0            0   \n",
       "1655502  1431582162817           3    24928       0            1   \n",
       "...                ...         ...      ...     ...          ...   \n",
       "337403   1434585232543      195520    12794       0            1   \n",
       "346677   1434585240943      195520    38719       0            2   \n",
       "339623   1434585258746      195520    39674       0            3   \n",
       "346680   1434585284740      195520    38719       0            4   \n",
       "339600   1434585451071      195520    12794       0            5   \n",
       "\n",
       "                  state  reward  \n",
       "1361687  [70852, 70852]     0.2  \n",
       "1367212  [43511, 70852]     0.2  \n",
       "1367342  [43511, 54408]     0.2  \n",
       "1663634  [70852, 70852]     0.2  \n",
       "1655502  [21080, 70852]     0.2  \n",
       "...                 ...     ...  \n",
       "337403   [38719, 70852]     0.2  \n",
       "346677   [38719, 12794]     0.2  \n",
       "339623   [12794, 38719]     0.2  \n",
       "346680   [38719, 39674]     0.2  \n",
       "339600   [39674, 38719]     0.2  \n",
       "\n",
       "[123597 rows x 7 columns]"
      ]
     },
     "execution_count": 55,
     "metadata": {},
     "output_type": "execute_result"
    }
   ],
   "source": [
    "# Note: Looks good. But in general, what happens if we are in first state with 0 information? We should start a bit later? I dont know\n",
    "val"
   ]
  },
  {
   "cell_type": "code",
   "execution_count": 1,
   "metadata": {},
   "outputs": [
    {
     "ename": "NameError",
     "evalue": "name 'batch' is not defined",
     "output_type": "error",
     "traceback": [
      "\u001b[0;31m---------------------------------------------------------------------------\u001b[0m",
      "\u001b[0;31mNameError\u001b[0m                                 Traceback (most recent call last)",
      "Cell \u001b[0;32mIn[1], line 20\u001b[0m\n\u001b[1;32m     17\u001b[0m \u001b[39m# Send to device\u001b[39;00m\n\u001b[1;32m     18\u001b[0m sqn\u001b[39m.\u001b[39msend_to_device()\n\u001b[0;32m---> 20\u001b[0m sup_pred, q_pred \u001b[39m=\u001b[39m sqn\u001b[39m.\u001b[39mDQN_1(batch)\n",
      "\u001b[0;31mNameError\u001b[0m: name 'batch' is not defined"
     ]
    }
   ],
   "source": [
    "# After that we get predictions\n",
    "\n",
    "from recommenders.SQN.model import SQN\n",
    "\n",
    "sqn = SQN(\n",
    "        hidden_dim=10, \n",
    "        embedding_dim=10,\n",
    "        learning_rate=0.01, \n",
    "        item_num=70852,\n",
    "        state_size=10,\n",
    "        action_dim=70852,\n",
    "        gamma=0.5, \n",
    "        device=\"cpu\",\n",
    "        action_types=[0,1],\n",
    "        action_types_dict={0:\"click\", 1:\"purchase\"})\n",
    "    \n",
    "# Send to device\n",
    "sqn.send_to_device()\n",
    "\n",
    "sup_pred, q_pred = sqn.DQN_1(batch)"
   ]
  },
  {
   "cell_type": "code",
   "execution_count": 57,
   "metadata": {},
   "outputs": [
    {
     "data": {
      "text/plain": [
       "{0: 'click', 1: 'purchase'}"
      ]
     },
     "execution_count": 57,
     "metadata": {},
     "output_type": "execute_result"
    }
   ],
   "source": [
    "sqn.action_types_dict"
   ]
  },
  {
   "cell_type": "code",
   "execution_count": 58,
   "metadata": {},
   "outputs": [
    {
     "data": {
      "text/plain": [
       "torch.Size([100, 70852])"
      ]
     },
     "execution_count": 58,
     "metadata": {},
     "output_type": "execute_result"
    }
   ],
   "source": [
    "sup_pred.shape"
   ]
  },
  {
   "cell_type": "code",
   "execution_count": 59,
   "metadata": {},
   "outputs": [
    {
     "data": {
      "text/plain": [
       "tensor([58370, 58370, 58370, 58370, 58370, 58370, 58370, 58370, 58370, 58370,\n",
       "        58370, 58370, 58370, 58370, 58370, 58370, 58370, 58370, 58370, 58370,\n",
       "        58370, 58370, 58370, 58370, 58370, 58370, 58370, 58370, 58370, 58370,\n",
       "        58370, 58370, 58370, 58370, 58370, 58370, 58370, 58370, 58370, 58370,\n",
       "        58370, 58370, 58370, 58370, 58370, 58370, 58370, 58370, 58370, 58370,\n",
       "        58370, 58370, 58370, 58370, 58370, 58370, 58370, 58370, 58370, 58370,\n",
       "        58370, 58370, 58370, 58370, 58370, 58370, 58370, 58370, 58370, 58370,\n",
       "        58370, 58370, 58370, 20073, 58370, 58370, 58370, 58370, 58370, 58370,\n",
       "        58370, 58370, 58370, 58370, 58370, 20073, 58370, 58370, 58370, 58370,\n",
       "        58370, 58370, 58370, 58370, 58370, 58370, 58370, 20073, 58370, 58370])"
      ]
     },
     "execution_count": 59,
     "metadata": {},
     "output_type": "execute_result"
    }
   ],
   "source": [
    "torch.argmax(sup_pred, dim=1)"
   ]
  },
  {
   "cell_type": "code",
   "execution_count": 60,
   "metadata": {},
   "outputs": [
    {
     "name": "stdout",
     "output_type": "stream",
     "text": [
      "tensor(-0.3306, grad_fn=<SelectBackward0>)\n"
     ]
    },
    {
     "data": {
      "text/plain": [
       "tensor(0.5643, grad_fn=<UnbindBackward0>)"
      ]
     },
     "execution_count": 60,
     "metadata": {},
     "output_type": "execute_result"
    }
   ],
   "source": [
    "print(sup_pred[0, 63564])\n",
    "\n",
    "max(sup_pred[0,:])"
   ]
  },
  {
   "cell_type": "code",
   "execution_count": 61,
   "metadata": {},
   "outputs": [
    {
     "name": "stdout",
     "output_type": "stream",
     "text": [
      "107 ms ± 4.02 ms per loop (mean ± std. dev. of 7 runs, 10 loops each)\n"
     ]
    }
   ],
   "source": [
    "%%timeit\n",
    "torch.argsort(sup_pred)"
   ]
  },
  {
   "cell_type": "code",
   "execution_count": 62,
   "metadata": {},
   "outputs": [
    {
     "name": "stdout",
     "output_type": "stream",
     "text": [
      "2.78 ms ± 130 µs per loop (mean ± std. dev. of 7 runs, 100 loops each)\n"
     ]
    }
   ],
   "source": [
    "%%timeit\n",
    "_ , idx = torch.topk(sup_pred, k=10)\n",
    "\n",
    "# A lot faster to use argpartition/topk!!"
   ]
  },
  {
   "cell_type": "code",
   "execution_count": 63,
   "metadata": {},
   "outputs": [
    {
     "name": "stdout",
     "output_type": "stream",
     "text": [
      "tensor([[ 1,  5,  7, 19,  4,  3,  2,  4, 10],\n",
      "        [10, 11, 12, 13,  4,  3,  2,  4,  0]])\n",
      "tensor([[3, 8, 2],\n",
      "        [3, 2, 1]])\n"
     ]
    }
   ],
   "source": [
    "a = torch.tensor([[1,5,7,19, 4, 3, 2, 4, 10], [10,11,12,13, 4, 3, 2, 4, 0]])\n",
    "\n",
    "print(a)\n",
    "\n",
    "vals, idx = torch.topk(a, k=3)\n",
    "vals\n",
    "print(idx)"
   ]
  },
  {
   "cell_type": "code",
   "execution_count": 64,
   "metadata": {},
   "outputs": [
    {
     "name": "stdout",
     "output_type": "stream",
     "text": [
      "True\n"
     ]
    },
    {
     "data": {
      "text/plain": [
       "array([False,  True])"
      ]
     },
     "execution_count": 64,
     "metadata": {},
     "output_type": "execute_result"
    }
   ],
   "source": [
    "# Check if in tensor \n",
    "print(1 in idx)\n",
    "\n",
    "np_idx = idx.numpy()\n",
    "np.apply_along_axis(lambda x: 1 in x, 1, np_idx)"
   ]
  },
  {
   "cell_type": "code",
   "execution_count": 65,
   "metadata": {},
   "outputs": [
    {
     "data": {
      "text/plain": [
       "array([[1, 2, 3],\n",
       "       [4, 5, 6]])"
      ]
     },
     "execution_count": 65,
     "metadata": {},
     "output_type": "execute_result"
    }
   ],
   "source": [
    "val_arr = np.array([[1,2,3], [4,5,6]])\n",
    "check = np.array([[1], [2]])\n",
    "\n",
    "val_arr"
   ]
  },
  {
   "cell_type": "code",
   "execution_count": 66,
   "metadata": {},
   "outputs": [
    {
     "name": "stdout",
     "output_type": "stream",
     "text": [
      "a  1\n",
      "b  3\n",
      "a  1\n",
      "b  3\n",
      "a  2\n",
      "b  3\n",
      "a  3\n",
      "b  3\n",
      "a  10\n",
      "b  10\n",
      "a  20\n",
      "b  10\n",
      "a  30\n",
      "b  10\n"
     ]
    },
    {
     "data": {
      "text/plain": [
       "array([[False, False,  True],\n",
       "       [ True, False, False]])"
      ]
     },
     "execution_count": 66,
     "metadata": {},
     "output_type": "execute_result"
    }
   ],
   "source": [
    "def is_in(a, b):\n",
    "    print(\"a \", a)\n",
    "    print(\"b \", b)\n",
    "    return b ==a\n",
    "vectorized_isin = np.vectorize(is_in)\n",
    "\n",
    "vectorized_isin(np.array([[1,2,3],[10,20,30]]), np.array([[3],[10]]))\n",
    "\n",
    "# This only works if b has one element in each! Not of multiple only then exactly same shape!!!"
   ]
  },
  {
   "cell_type": "code",
   "execution_count": 67,
   "metadata": {},
   "outputs": [
    {
     "name": "stdout",
     "output_type": "stream",
     "text": [
      "[[ 1  2  3]\n",
      " [10 20 30]]\n",
      "[[ 3]\n",
      " [10]]\n",
      "[[False False  True]\n",
      " [ True False False]]\n"
     ]
    }
   ],
   "source": [
    "# Write custom vectorized function\n",
    "\n",
    "check = np.array([[1,2,3],[10,20,30]])\n",
    "val_arr = np.array([[3],[10]])\n",
    "\n",
    "@np.vectorize\n",
    "def compare_elements(array_to_check, vals_to_find):\n",
    "    \"\"\"\n",
    "    array_to_check contains rows with labels and \n",
    "    check for each row if vals_to_find in this row\n",
    "    is in the according row of array_to_check.\n",
    "    \"\"\"\n",
    "    return array_to_check==vals_to_find\n",
    "\n",
    "# Vectorizing will apply the function to each element in \n",
    "# array_to_check and compare it to the according value in\n",
    "# the row of vals_to_find\n",
    "\n",
    "print(check)\n",
    "print(val_arr)\n",
    "print(compare_elements(check, val_arr))"
   ]
  },
  {
   "cell_type": "code",
   "execution_count": 68,
   "metadata": {},
   "outputs": [
    {
     "data": {
      "text/plain": [
       "array([ True,  True])"
      ]
     },
     "execution_count": 68,
     "metadata": {},
     "output_type": "execute_result"
    }
   ],
   "source": [
    "# Now on top define funciton that returns any() of each row to get desired output per row\n",
    "\n",
    "def is_in(array_to_check, vals_to_find):\n",
    "    \"\"\"\n",
    "    Apply the vectorized compare_element function and\n",
    "    squeeze output for each row to True if one of the \n",
    "    elements was the same as the value to compare, False\n",
    "    respectively. \n",
    "    \"\"\"\n",
    "    return compare_elements(array_to_check, vals_to_find).any(1)\n",
    "\n",
    "is_in(check, val_arr)"
   ]
  },
  {
   "cell_type": "code",
   "execution_count": 69,
   "metadata": {},
   "outputs": [
    {
     "data": {
      "text/plain": [
       "[0, 0, 0]"
      ]
     },
     "execution_count": 69,
     "metadata": {},
     "output_type": "execute_result"
    }
   ],
   "source": [
    "top_k = [5, 10, 20]\n",
    "max_k = max(top_k)\n",
    "\n",
    "# True idx of action\n",
    "true_idx = torch.tensor(63564).repeat(100)\n",
    "\n",
    "# Idx has size (batch, maxk) so top max_k preds\n",
    "_ , idx = torch.topk(sup_pred, k=max_k)\n",
    "\n",
    "# Transform to numpy \n",
    "idx = idx.numpy()\n",
    "true_idx = true_idx.unsqueeze(1).numpy()\n",
    "\n",
    "hit_list = []\n",
    "for k in top_k:\n",
    "    # Check if true_idx is in top-k (:k!) predictions and sum for how many rows this is true\n",
    "    hits_k = is_in(idx[:,:k], true_idx).sum()\n",
    "    #hits_k = np.apply_along_axis(lambda top_idx_row: true_idx in top_idx_row[:,:k], 1, idx).sum()a\n",
    "    hit_list.append(hits_k)\n",
    "\n",
    "hit_list"
   ]
  },
  {
   "cell_type": "code",
   "execution_count": 70,
   "metadata": {},
   "outputs": [
    {
     "data": {
      "text/plain": [
       "(100, 20)"
      ]
     },
     "execution_count": 70,
     "metadata": {},
     "output_type": "execute_result"
    }
   ],
   "source": [
    "idx.shape"
   ]
  },
  {
   "cell_type": "code",
   "execution_count": 71,
   "metadata": {},
   "outputs": [
    {
     "data": {
      "text/plain": [
       "device(type='mps', index=0)"
      ]
     },
     "execution_count": 71,
     "metadata": {},
     "output_type": "execute_result"
    }
   ],
   "source": [
    "# Important to save it!!!\n",
    "a = torch.tensor([1,2,3], requires_grad=False)\n",
    "a.device\n",
    "a = a.to(\"mps\")\n",
    "a.device"
   ]
  },
  {
   "cell_type": "code",
   "execution_count": 72,
   "metadata": {},
   "outputs": [
    {
     "data": {
      "text/plain": [
       "SQN_Network(\n",
       "  (embedding): Embedding(70853, 10, padding_idx=70852)\n",
       "  (base_model): GRU(10, 10, batch_first=True)\n",
       "  (sup_head_output): Linear(in_features=10, out_features=70852, bias=True)\n",
       "  (q_head_output): Linear(in_features=10, out_features=70852, bias=True)\n",
       ")"
      ]
     },
     "execution_count": 72,
     "metadata": {},
     "output_type": "execute_result"
    }
   ],
   "source": [
    "sqn.DQN_1\n",
    "#sqn.to(\"mps\")"
   ]
  },
  {
   "cell_type": "code",
   "execution_count": 73,
   "metadata": {},
   "outputs": [],
   "source": [
    "# from recommenders.SQN.evaluation import EvaluationDataset\n",
    "\n",
    "val_set = EvaluationDataset(dir=\"../data/RetailRocket/sampled_val.df\", padding_id=70852, state_len=10, action_to_reward_dict=a_to_r_dict, action_name=\"item_id\")\n",
    "val_loader = DataLoader(val_set, batch_size=250, shuffle=False, drop_last=False, prefetch_factor=2)"
   ]
  },
  {
   "cell_type": "code",
   "execution_count": 74,
   "metadata": {},
   "outputs": [],
   "source": [
    "sqn = SQN(\n",
    "        hidden_dim=10, \n",
    "        embedding_dim=10,\n",
    "        learning_rate=0.01, \n",
    "        item_num=70852,\n",
    "        state_size=10,\n",
    "        action_dim=70852,\n",
    "        gamma=0.5, \n",
    "        device=\"cpu\",\n",
    "        action_types=[0,1],\n",
    "        action_types_dict={0:\"click\", 1:\"purchase\"})\n",
    "    \n",
    "# Send to device\n",
    "sqn.send_to_device()"
   ]
  },
  {
   "cell_type": "code",
   "execution_count": 78,
   "metadata": {},
   "outputs": [
    {
     "data": {
      "text/plain": [
       "(tensor(11.1976),\n",
       " {'click': tensor([0.0001, 0.0001], dtype=torch.float64),\n",
       "  'purchase': tensor([0., 0.], dtype=torch.float64),\n",
       "  'total': tensor([1.0000e-04, 1.0000e-04], dtype=torch.float64)},\n",
       " {'click': tensor([6.5185e-05, 6.5185e-05], dtype=torch.float64),\n",
       "  'purchase': tensor([0., 0.], dtype=torch.float64),\n",
       "  'total': tensor([6.3093e-05, 6.3093e-05], dtype=torch.float64)})"
      ]
     },
     "execution_count": 78,
     "metadata": {},
     "output_type": "execute_result"
    }
   ],
   "source": [
    "from recommenders.SQN.evaluation import evaluate\n",
    "\n",
    "evaluate(val_loader, sqn.DQN_1, device=sqn.device, top_k=[5,10], action_types=sqn.action_types, action_types_dict=sqn.action_types_dict, head=\"sup_head\", loss_function=sqn.cross_entropy_loss)"
   ]
  },
  {
   "cell_type": "code",
   "execution_count": null,
   "metadata": {},
   "outputs": [
    {
     "ename": "ImportError",
     "evalue": "cannot import name 'compute_HR' from 'src.SQN.evaluation' (/Users/patrickhiemsch/Documents/Python_projects/Recomender-Models/src/SQN/evaluation.py)",
     "output_type": "error",
     "traceback": [
      "\u001b[0;31m---------------------------------------------------------------------------\u001b[0m",
      "\u001b[0;31mImportError\u001b[0m                               Traceback (most recent call last)",
      "Cell \u001b[0;32mIn[78], line 1\u001b[0m\n\u001b[0;32m----> 1\u001b[0m \u001b[39mfrom\u001b[39;00m \u001b[39msrc\u001b[39;00m\u001b[39m.\u001b[39;00m\u001b[39mSQN\u001b[39;00m\u001b[39m.\u001b[39;00m\u001b[39mevaluation\u001b[39;00m \u001b[39mimport\u001b[39;00m compute_HR\n\u001b[1;32m      2\u001b[0m \u001b[39mimport\u001b[39;00m \u001b[39mcProfile\u001b[39;00m\n\u001b[1;32m      3\u001b[0m \u001b[39mimport\u001b[39;00m \u001b[39mpstats\u001b[39;00m \n",
      "\u001b[0;31mImportError\u001b[0m: cannot import name 'compute_HR' from 'src.SQN.evaluation' (/Users/patrickhiemsch/Documents/Python_projects/Recomender-Models/src/SQN/evaluation.py)"
     ]
    }
   ],
   "source": [
    "from recommenders.SQN.evaluation import compute_HR\n",
    "import cProfile\n",
    "import pstats \n",
    "\n",
    "with cProfile.Profile() as prof:\n",
    "    compute_HR(val_loader, sqn.DQN_1, device=sqn.device, top_k=[5,10], action_types=sqn.action_types, action_types_dict=sqn.action_types_dict, head=\"sup_head\")\n",
    "\n",
    "pstats.Stats(prof).strip_dirs().sort_stats('cumulative').print_stats(10)\n",
    "\n",
    "# prof.print_stats()"
   ]
  },
  {
   "cell_type": "code",
   "execution_count": null,
   "metadata": {},
   "outputs": [
    {
     "ename": "NameError",
     "evalue": "name 'compute_HR' is not defined",
     "output_type": "error",
     "traceback": [
      "\u001b[0;31m---------------------------------------------------------------------------\u001b[0m",
      "\u001b[0;31mNameError\u001b[0m                                 Traceback (most recent call last)",
      "Cell \u001b[0;32mIn[79], line 1\u001b[0m\n\u001b[0;32m----> 1\u001b[0m compute_HR(val_loader, sqn\u001b[39m.\u001b[39mDQN_1, device\u001b[39m=\u001b[39msqn\u001b[39m.\u001b[39mdevice, top_k\u001b[39m=\u001b[39m[\u001b[39m5\u001b[39m,\u001b[39m10\u001b[39m], action_types\u001b[39m=\u001b[39msqn\u001b[39m.\u001b[39maction_types, action_types_dict\u001b[39m=\u001b[39msqn\u001b[39m.\u001b[39maction_types_dict, head\u001b[39m=\u001b[39m\u001b[39m\"\u001b[39m\u001b[39msup_head\u001b[39m\u001b[39m\"\u001b[39m)\n",
      "\u001b[0;31mNameError\u001b[0m: name 'compute_HR' is not defined"
     ]
    }
   ],
   "source": [
    "compute_HR(val_loader, sqn.DQN_1, device=sqn.device, top_k=[5,10], action_types=sqn.action_types, action_types_dict=sqn.action_types_dict, head=\"sup_head\")"
   ]
  },
  {
   "attachments": {},
   "cell_type": "markdown",
   "metadata": {},
   "source": [
    "#### NDCG"
   ]
  },
  {
   "cell_type": "code",
   "execution_count": 79,
   "metadata": {},
   "outputs": [
    {
     "name": "stdout",
     "output_type": "stream",
     "text": [
      "Rank 1: 1.00\n",
      "Rank 2: 0.63\n",
      "Rank 3: 0.50\n",
      "Rank 5: 0.39\n",
      "Rank 10: 0.29\n",
      "Rank 20: 0.23\n"
     ]
    }
   ],
   "source": [
    "# 1/log2(rank+1)\n",
    "print(f\"Rank 1: {1/np.log2(1+1):.2f}\")\n",
    "print(f\"Rank 2: {1/np.log2(2+1):.2f}\")\n",
    "print(f\"Rank 3: {1/np.log2(3+1):.2f}\")\n",
    "print(f\"Rank 5: {1/np.log2(5+1):.2f}\")\n",
    "print(f\"Rank 10: {1/np.log2(10+1):.2f}\")\n",
    "print(f\"Rank 20: {1/np.log2(20+1):.2f}\")\n",
    "\n",
    "# At first fast decay, then slower! 1 vs 5 is big difference, but 10 vs. 20 less important!"
   ]
  },
  {
   "cell_type": "code",
   "execution_count": 80,
   "metadata": {},
   "outputs": [
    {
     "data": {
      "text/plain": [
       "(array([ True, False,  True, False]), array([2., 0., 3., 0.]))"
      ]
     },
     "execution_count": 80,
     "metadata": {},
     "output_type": "execute_result"
    }
   ],
   "source": [
    "# Replicate forevaluation funciton \n",
    "\n",
    "@np.vectorize\n",
    "def compare_elements(array_to_check, vals_to_find):\n",
    "    \"\"\"\n",
    "    array_to_check contains rows with labels and \n",
    "    check for each row if vals_to_find in this row\n",
    "    is in the according row of array_to_check.\n",
    "\n",
    "    Vectorizing will apply the function to each element in \n",
    "    array_to_check and compare it to the according value in\n",
    "    the row of vals_to_find.\n",
    "    \"\"\"\n",
    "    return array_to_check==vals_to_find\n",
    "\n",
    "\n",
    "\n",
    "def check_existence_and_rank(array_to_check, vals_to_find):\n",
    "    \"\"\"\n",
    "    Apply the vectorized compare_element function and\n",
    "    squeeze output for each row to True if one of the \n",
    "    elements was the same as the value to compare, False\n",
    "    respectively into a mask. \n",
    "    \n",
    "    Init result array with 0,\n",
    "    0 means true value not included in top-k result. \n",
    "\n",
    "    Apply mask to result array, if mask=True, value is \n",
    "    included in top-k preds. Then get argmax of respective\n",
    "    row, which produces index/rank, since max. one  True \n",
    "    element per row. \n",
    "\n",
    "    Note: If true label is top-1 pred, will also produce 0. That\n",
    "    is why 1 is added to all indexes. This way 0:Not included, >=1:Rank.\n",
    "\n",
    "    NDCG expects rank (=index+1) anyways.\n",
    " \n",
    "    array_to_check: (batch_size, k) - Top-k prediction indexes (taken from topk applied on forward pass)\n",
    "    vals_to_find: (batch_size) - True action taken by user/ True index of action/item in output vector of NN\n",
    "    \"\"\"\n",
    "\n",
    "    # Get bool array (batch_size, k) for matching of values rowwise\n",
    "    element_wise_comp_array = compare_elements(array_to_check, vals_to_find)\n",
    "\n",
    "    # Get mask to check which rows contain true label\n",
    "    mask = element_wise_comp_array.any(1)\n",
    "\n",
    "    rank_result = np.zeros(shape=len(vals_to_find))\n",
    "    rank_result[mask] = np.argmax(element_wise_comp_array[mask], axis=1) + 1  \n",
    "\n",
    "    return mask, rank_result\n",
    "\n",
    "preds = torch.tensor([[1,2,3], [4,5,6], [7,8,9], [100,11,12]])\n",
    "vals, idx = torch.topk(preds, k=3)\n",
    "vals, idx = vals.numpy(), idx.numpy()\n",
    "\n",
    "true_labs = np.array([[2], [21], [7], [21]])\n",
    "\n",
    "check_existence_and_rank(vals, true_labs)\n"
   ]
  },
  {
   "cell_type": "code",
   "execution_count": 81,
   "metadata": {},
   "outputs": [
    {
     "data": {
      "text/plain": [
       "(array([0]),)"
      ]
     },
     "execution_count": 81,
     "metadata": {},
     "output_type": "execute_result"
    }
   ],
   "source": [
    "np.where(true_labs in vals)"
   ]
  },
  {
   "cell_type": "code",
   "execution_count": 82,
   "metadata": {},
   "outputs": [
    {
     "data": {
      "text/plain": [
       "array([1., 1., 0.])"
      ]
     },
     "execution_count": 82,
     "metadata": {},
     "output_type": "execute_result"
    }
   ],
   "source": [
    "a = np.array([1.0,2,3])\n",
    "b = np.array([1.0,2,0])\n",
    "\n",
    "np.divide(a, b, out=np.zeros_like(a), where=b!=0)"
   ]
  },
  {
   "cell_type": "code",
   "execution_count": 83,
   "metadata": {},
   "outputs": [
    {
     "name": "stdout",
     "output_type": "stream",
     "text": [
      "{'1': 23}\n"
     ]
    }
   ],
   "source": [
    "# Update global dict \n",
    "Test = {\"1\":\"2\"}\n",
    "def Teser(t):\n",
    "    # you can still reference t values, if needed \n",
    "    global Test  # while not necessary, it clarifies which variable scope is used \n",
    "    Test['1'] = 23\n",
    "Teser(Test)\n",
    "print(Test)"
   ]
  },
  {
   "attachments": {},
   "cell_type": "markdown",
   "metadata": {},
   "source": [
    "#### Evaluation metric test"
   ]
  },
  {
   "cell_type": "code",
   "execution_count": 84,
   "metadata": {},
   "outputs": [
    {
     "data": {
      "text/plain": [
       "{'click': array([0., 0., 0.]),\n",
       " 'buy': array([0., 0., 0.]),\n",
       " 'total': array([0., 0., 0.])}"
      ]
     },
     "execution_count": 84,
     "metadata": {},
     "output_type": "execute_result"
    }
   ],
   "source": [
    "# Test the actual evaluation implementations\n",
    "from recommenders.SQN.evaluation import create_metric_dicts, get_hits_for_batch\n",
    "\n",
    "action_types = [0,1]\n",
    "action_types_dict = {0:\"click\", 1:\"buy\"}\n",
    "top_k = [1,2,10]\n",
    "\n",
    "# Initialize result dicts for hr/ndcg/action-type-count\n",
    "action_types_hit_dict, action_types_ndcg_dict, action_types_count = create_metric_dicts(action_types, action_types_dict, top_k)\n",
    "action_types_hit_dict \n",
    "\n",
    "# For each action type (+ total) we have a numpy array for counts based on top-k"
   ]
  },
  {
   "cell_type": "code",
   "execution_count": 85,
   "metadata": {},
   "outputs": [
    {
     "name": "stdout",
     "output_type": "stream",
     "text": [
      "{'click': tensor([0.5000, 0.6667, 1.0000], dtype=torch.float64), 'buy': tensor([0.6667, 1.0000, 1.0000], dtype=torch.float64), 'total': tensor([0.5556, 0.7778, 1.0000], dtype=torch.float64)}\n",
      "\n",
      "{'click': tensor([0.5000, 0.6052, 0.7055], dtype=torch.float64), 'buy': tensor([0.6667, 0.8770, 0.8770], dtype=torch.float64), 'total': tensor([0.5556, 0.6958, 0.7627], dtype=torch.float64)}\n"
     ]
    }
   ],
   "source": [
    "# Set batch\n",
    "a_type = torch.tensor([0,0,0,0,0,0,1,1,1])\n",
    "a = torch.tensor([9,0,2,1,1,1,9,0,1])  # top 1: rrrwww rrw, top 2: rrrwrw rrr, top 10: rrrrrrrrr\n",
    "\n",
    "# Set preds: (batch, num_actions)\n",
    "preds = torch.tensor([[1,2,3,4,5,6,7,8,9,10],  # 9 c\n",
    "                      [10,9,8,7,6,5,4,3,2,1],  # 0 c\n",
    "                      [1,2,100,2,2,2,2,2,2,2], # 2 c\n",
    "                      [1,2,3,4,5,6,7,8,9,10],  # 9 c\n",
    "                      [10,9,8,7,6,5,4,3,2,1],  # 0 c\n",
    "                      [1,1,100,2,2,2,2,2,2,2], # 2 c\n",
    "                      [1,2,3,4,5,6,7,8,9,10],  # 9 b\n",
    "                      [10,9,8,7,6,5,4,3,2,1],  # 0 b\n",
    "                      [1,3,100,2,2,2,2,2,2,2]  # 2 b\n",
    "                      ])\n",
    "\n",
    "# Expected result for k= 1,2,10\n",
    "# HIT-RATIO: clicks: 0.5, 2/3, 1         | buys: 2/3, 1, 1           | total: 0.5556, 0.7778, 1.0000\n",
    "# NDCG:      clicks: 0.5, 0.6051, 0.7055 | buys: 2/3, 0.8767, 0.8767 | total: 0.5556, 0.6958, 0.7627\n",
    "# NDCG treats worse rankings lower, so a mdoel with higher ranking true labels will be better!\n",
    "\n",
    "# Calc examples: 1+1+1+1/np.log2(2+1)=0.6051\n",
    "# For total: 6/9 * 0.5 + 3/9 * 0.6667 = 0.5556\n",
    "\n",
    "\n",
    "for curr_type in action_types:\n",
    "\n",
    "    # Get mask of where tensor a_type matches current action \n",
    "    mask = a_type==curr_type\n",
    "\n",
    "    # Jump to next action, if empty\n",
    "    if mask.sum()==0:\n",
    "        continue\n",
    "\n",
    "    # Get number of hits in action-batch for each k\n",
    "    total_hits_per_k, total_ndcg_per_k = get_hits_for_batch(predictions=preds[mask], true_idx=a[mask], top_k=top_k)\n",
    "\n",
    "    # Add k-hits numpy array to current array to accumulate over batches\n",
    "    action_types_hit_dict[action_types_dict[curr_type]] += total_hits_per_k\n",
    "    action_types_hit_dict[\"total\"] += total_hits_per_k\n",
    "\n",
    "    # Add k-ndcg numpy array to current array to accumulate over batches\n",
    "    action_types_ndcg_dict[action_types_dict[curr_type]] += total_ndcg_per_k\n",
    "    action_types_ndcg_dict[\"total\"] += total_ndcg_per_k\n",
    "\n",
    "    # Add number of examples to total count\n",
    "    n_act = mask.sum()\n",
    "    action_types_count[action_types_dict[curr_type]] += n_act\n",
    "    action_types_count[\"total\"] += n_act\n",
    "\n",
    "# Calculate hit ratio \n",
    "for key, val in action_types_hit_dict.items():\n",
    "    action_types_hit_dict[key] = val / action_types_count[key]\n",
    "\n",
    "# Calculate ndcg ratio \n",
    "for key, val in action_types_ndcg_dict.items():\n",
    "    action_types_ndcg_dict[key] = val / action_types_count[key]\n",
    "\n",
    "print(action_types_hit_dict)\n",
    "print(\"\")\n",
    "print(action_types_ndcg_dict)\n",
    "                                                                            "
   ]
  },
  {
   "cell_type": "code",
   "execution_count": 87,
   "metadata": {},
   "outputs": [],
   "source": [
    "a = pd.DataFrame({\"item_id\":[10,20,30,40,50,60,70],\n",
    "             \"n_items_bef\":[0,1,2,3,4,5,6]})\n",
    "\n",
    "b = pd.DataFrame({\"State\":[[999,999,999],\n",
    "[10,999,999],\n",
    "[10,20,999],\n",
    "[10,20,30],\n",
    "[20,30,40],\n",
    "[30,40,50],\n",
    "[40,50,60]]})\n",
    "def get_state_col(group_df, pad_id, state_len, item_before_col=\"n_items_bef\", action_name=\"item_id\"):\n",
    "    \"\"\"\n",
    "    Take group_df and return column with (padded) states. \n",
    "\n",
    "    action_name: Column name for actions taken \n",
    "    \"\"\"\n",
    "    item_hist = group_df[action_name].values\n",
    "\n",
    "    session_states = group_df[item_before_col].apply(get_state, 1, item_hist=item_hist, state_len=state_len, pad_id=pad_id)\n",
    "\n",
    "    return session_states\n",
    "\n",
    "res = get_state_col(a, 999,3,)\n",
    "\n",
    "\n",
    "ass = True\n",
    "for i in range(len(res)):\n",
    "    if not (res.iloc[i]==b.iloc[i,0]).all():\n",
    "        ass = False"
   ]
  },
  {
   "cell_type": "code",
   "execution_count": 99,
   "metadata": {},
   "outputs": [
    {
     "data": {
      "text/plain": [
       "True"
      ]
     },
     "execution_count": 99,
     "metadata": {},
     "output_type": "execute_result"
    }
   ],
   "source": [
    "from recommenders.SQN.evaluation import action_to_reward\n",
    "a_to_r_dict = {0: 10, 1:100, 2:200}\n",
    "test_df = pd.DataFrame({\"Action_type\":[0,0,0,1,2,2], \n",
    "                        \"Other_col\":[1,2,3,4,5,6]})\n",
    "\n",
    "# As in evaluation framework, apply along to col \n",
    "np.equal(test_df.Action_type.apply(action_to_reward, 1, a_to_r_dict=a_to_r_dict).values, [10,10,10,100,200,200]).all()"
   ]
  },
  {
   "cell_type": "code",
   "execution_count": 17,
   "metadata": {},
   "outputs": [
    {
     "data": {
      "text/html": [
       "<div>\n",
       "<style scoped>\n",
       "    .dataframe tbody tr th:only-of-type {\n",
       "        vertical-align: middle;\n",
       "    }\n",
       "\n",
       "    .dataframe tbody tr th {\n",
       "        vertical-align: top;\n",
       "    }\n",
       "\n",
       "    .dataframe thead th {\n",
       "        text-align: right;\n",
       "    }\n",
       "</style>\n",
       "<table border=\"1\" class=\"dataframe\">\n",
       "  <thead>\n",
       "    <tr style=\"text-align: right;\">\n",
       "      <th></th>\n",
       "      <th>SessionID</th>\n",
       "      <th>Item</th>\n",
       "      <th>ActionType</th>\n",
       "    </tr>\n",
       "  </thead>\n",
       "  <tbody>\n",
       "    <tr>\n",
       "      <th>0</th>\n",
       "      <td>11</td>\n",
       "      <td>1</td>\n",
       "      <td>0</td>\n",
       "    </tr>\n",
       "    <tr>\n",
       "      <th>1</th>\n",
       "      <td>11</td>\n",
       "      <td>2</td>\n",
       "      <td>0</td>\n",
       "    </tr>\n",
       "    <tr>\n",
       "      <th>2</th>\n",
       "      <td>11</td>\n",
       "      <td>3</td>\n",
       "      <td>0</td>\n",
       "    </tr>\n",
       "    <tr>\n",
       "      <th>3</th>\n",
       "      <td>11</td>\n",
       "      <td>4</td>\n",
       "      <td>1</td>\n",
       "    </tr>\n",
       "    <tr>\n",
       "      <th>4</th>\n",
       "      <td>22</td>\n",
       "      <td>6</td>\n",
       "      <td>0</td>\n",
       "    </tr>\n",
       "    <tr>\n",
       "      <th>5</th>\n",
       "      <td>22</td>\n",
       "      <td>7</td>\n",
       "      <td>0</td>\n",
       "    </tr>\n",
       "    <tr>\n",
       "      <th>6</th>\n",
       "      <td>22</td>\n",
       "      <td>8</td>\n",
       "      <td>1</td>\n",
       "    </tr>\n",
       "    <tr>\n",
       "      <th>7</th>\n",
       "      <td>22</td>\n",
       "      <td>9</td>\n",
       "      <td>0</td>\n",
       "    </tr>\n",
       "    <tr>\n",
       "      <th>8</th>\n",
       "      <td>22</td>\n",
       "      <td>10</td>\n",
       "      <td>0</td>\n",
       "    </tr>\n",
       "    <tr>\n",
       "      <th>9</th>\n",
       "      <td>22</td>\n",
       "      <td>11</td>\n",
       "      <td>0</td>\n",
       "    </tr>\n",
       "    <tr>\n",
       "      <th>10</th>\n",
       "      <td>33</td>\n",
       "      <td>100</td>\n",
       "      <td>1</td>\n",
       "    </tr>\n",
       "    <tr>\n",
       "      <th>11</th>\n",
       "      <td>33</td>\n",
       "      <td>101</td>\n",
       "      <td>1</td>\n",
       "    </tr>\n",
       "  </tbody>\n",
       "</table>\n",
       "</div>"
      ],
      "text/plain": [
       "    SessionID  Item  ActionType\n",
       "0          11     1           0\n",
       "1          11     2           0\n",
       "2          11     3           0\n",
       "3          11     4           1\n",
       "4          22     6           0\n",
       "5          22     7           0\n",
       "6          22     8           1\n",
       "7          22     9           0\n",
       "8          22    10           0\n",
       "9          22    11           0\n",
       "10         33   100           1\n",
       "11         33   101           1"
      ]
     },
     "execution_count": 17,
     "metadata": {},
     "output_type": "execute_result"
    }
   ],
   "source": [
    "# Create example pickle file \n",
    "from recommenders.SQN.evaluation import EvaluationDataset\n",
    "sessions = [11, 11, 11, 11, 22, 22, 22, 22, 22, 22, 33, 33]\n",
    "items  = [1,2,3,4,6,7,8,9,10,11,100,101]\n",
    "act_types = [0,0,0,1,0,0,1,0,0,0,1,1]\n",
    "\n",
    "data = {\"SessionID\":sessions,\n",
    "        \"Item\": items,\n",
    "        \"ActionType\": act_types}\n",
    "pd_data = pd.DataFrame(data)\n",
    "\n",
    "# Save as pickle\n",
    "# pd_data.to_pickle(\"../test/eval_data_transform_test.df\")\n",
    "\n",
    "load_examp = EvaluationDataset(dir=\"../test/data_transform_test.df\", \n",
    "                        padding_id=999, state_len=3, \n",
    "                        action_to_reward_dict={0:10, 1:50}, \n",
    "                        pad_pos=\"beg\",\n",
    "                        action_type_name=\"ActionType\",\n",
    "                        session_id_name=\"SessionID\",\n",
    "                        action_name=\"Item\")\n",
    "pd_data"
   ]
  },
  {
   "cell_type": "code",
   "execution_count": 23,
   "metadata": {},
   "outputs": [
    {
     "name": "stdout",
     "output_type": "stream",
     "text": [
      "[[999 999 999]\n",
      " [999 999   1]\n",
      " [999   2   1]\n",
      " [  3   2   1]\n",
      " [999 999 999]\n",
      " [999 999   6]\n",
      " [999   7   6]\n",
      " [  8   7   6]\n",
      " [  9   8   7]\n",
      " [ 10   9   8]\n",
      " [999 999 999]\n",
      " [999 999 100]]\n"
     ]
    },
    {
     "data": {
      "text/plain": [
       "array([[999, 999, 999],\n",
       "       [999, 999,   1],\n",
       "       [999,   1,   2],\n",
       "       [  1,   2,   3],\n",
       "       [999, 999, 999],\n",
       "       [999, 999,   6],\n",
       "       [999,   6,   7],\n",
       "       [  6,   7,   8],\n",
       "       [  7,   8,   9],\n",
       "       [  8,   9,  10],\n",
       "       [999, 999, 999],\n",
       "       [999, 999, 100]])"
      ]
     },
     "execution_count": 23,
     "metadata": {},
     "output_type": "execute_result"
    }
   ],
   "source": [
    "# Truth\n",
    "truth = np.array([[999, 999, 999],\n",
    "            [  1, 999, 999],\n",
    "            [  1,   2, 999],\n",
    "            [  1,   2,   3],\n",
    "            [999, 999, 999],\n",
    "            [  6, 999, 999],\n",
    "            [  6,   7, 999],\n",
    "            [  6,   7,   8],\n",
    "            [  7,   8,   9],\n",
    "            [  8,   9,  10],\n",
    "            [999, 999, 999],\n",
    "            [100, 999, 999]])"
   ]
  },
  {
   "cell_type": "code",
   "execution_count": 4,
   "metadata": {},
   "outputs": [],
   "source": [
    "import torch\n",
    "from torch.utils.tensorboard import SummaryWriter\n",
    "from torch.utils.tensorboard.summary import hparams\n",
    "class CorrectedSummaryWriter(SummaryWriter):\n",
    "    def add_hparams(self, hparam_dict, metric_dict):\n",
    "        torch._C._log_api_usage_once(\"tensorboard.logging.add_hparams\")\n",
    "        if type(hparam_dict) is not dict or type(metric_dict) is not dict:\n",
    "            raise TypeError('hparam_dict and metric_dict should be dictionary.')\n",
    "        exp, ssi, sei = hparams(hparam_dict, metric_dict)\n",
    "        \n",
    "        self.file_writer.add_summary(exp)\n",
    "        self.file_writer.add_summary(ssi)\n",
    "        self.file_writer.add_summary(sei)\n",
    "        for k, v in metric_dict.items():\n",
    "            self.add_scalar(k, v)"
   ]
  },
  {
   "cell_type": "code",
   "execution_count": 6,
   "metadata": {},
   "outputs": [],
   "source": [
    "from torch.utils.tensorboard import SummaryWriter\n",
    "import numpy as np\n",
    "import matplotlib.pyplot as plt\n",
    "# Tensorboard:\n",
    "# Setup tensorboard logging\n",
    "writer = CorrectedSummaryWriter(f'TENSORB/Exp_3'  , )\n",
    "\n",
    "\n",
    "# Log to Tensorboard\n",
    "for i in range(1,101):\n",
    "    writer.add_scalar('loss_train', np.log(i)*np.random.uniform(), i)\n",
    "    writer.add_scalar('lr', 1, i)\n",
    "    #writer.add_scalars(\"LvsA\", {\"L\":np.random.uniform(), \"A\":np.random.uniform()*10}, i)\n",
    "# writer.add_scalar('Q-Modification-Signal', train_q_losses[epoch], epoch)\n",
    "# writer.add_scalar('Supervised Validation Loss', val_loss, epoch)\n",
    "# writer.add_scalar('Supervised loss: Training', train_sup_losses[epoch], epoch)\n",
    "#plt.figure(figsize=(4,2), dpi=300)\n",
    "#plt.plot(np.log(range(1,101)), range(1,101))\n",
    "#plt.title(\"Morgen\")\n",
    "# writer.add_figure(\"Komt der weihanchtsmann\", plt.gcf())\n",
    "writer.add_hparams({\"lr\":0.001}, {\"Acc\":0.099})\n",
    "writer.flush()\n",
    "writer.close()"
   ]
  },
  {
   "cell_type": "code",
   "execution_count": null,
   "metadata": {},
   "outputs": [],
   "source": [
    "layout = {\n",
    "    \"Train/Val\": {\n",
    "        \"Loss 1\": [\"Multiline\", [\"loss_train\", \"loss_validation\"]],\n",
    "        \"Loss 2\": [\"Multiline\", [\"accuracy_train\", \"accuracy_validation\"]],\n",
    "    },\n",
    "}\n",
    "\n",
    "writer.add_custom_scalars(layout)"
   ]
  },
  {
   "cell_type": "code",
   "execution_count": null,
   "metadata": {},
   "outputs": [],
   "source": [
    "# Backup tconfig \n",
    "config={\"seed_torch\":1,\n",
    "                \"learning_rate\": LR,\n",
    "                \"base_model\": BASE_MODEL,\n",
    "                \"dataset\": TRAIN_DIR,\n",
    "                \"epochs\": N_EPOCHS,\n",
    "                \"train_batch_size\": BATCH_SIZE,\n",
    "                \"val_batch_size\": VAL_BATCH_SIZE,\n",
    "                \"state_size\": STATE_SIZE,\n",
    "                \"embedding_size\": EMBEDDING_SIZE,\n",
    "                \"hidden_state_size\": HIDDEN_STATE_SIZE,\n",
    "                \"gamma\": GAMMA, \n",
    "                \"padding_id\": PADDING_ID,\n",
    "                \"padding_pos\":PADDING_POS,\n",
    "                \"top_k\": TOP_K,\n",
    "                \"num_items\": NUM_ITEMS,\n",
    "                \"device\":DEVICE,\n",
    "                \"action_types:\":ACTION_TYPES,\n",
    "                \"action_types_dict\":ACTION_TYPES_DICT,\n",
    "                \"action_to_reward\":ACTION_TO_REW_DICT},"
   ]
  },
  {
   "cell_type": "code",
   "execution_count": 52,
   "metadata": {},
   "outputs": [
    {
     "data": {
      "text/html": [
       "<div>\n",
       "<style scoped>\n",
       "    .dataframe tbody tr th:only-of-type {\n",
       "        vertical-align: middle;\n",
       "    }\n",
       "\n",
       "    .dataframe tbody tr th {\n",
       "        vertical-align: top;\n",
       "    }\n",
       "\n",
       "    .dataframe thead th {\n",
       "        text-align: right;\n",
       "    }\n",
       "</style>\n",
       "<table border=\"1\" class=\"dataframe\">\n",
       "  <thead>\n",
       "    <tr style=\"text-align: right;\">\n",
       "      <th></th>\n",
       "      <th>ab</th>\n",
       "      <th>cd</th>\n",
       "      <th>before</th>\n",
       "      <th>is_end</th>\n",
       "    </tr>\n",
       "  </thead>\n",
       "  <tbody>\n",
       "    <tr>\n",
       "      <th>0</th>\n",
       "      <td>1</td>\n",
       "      <td>5</td>\n",
       "      <td>0</td>\n",
       "      <td>0</td>\n",
       "    </tr>\n",
       "    <tr>\n",
       "      <th>1</th>\n",
       "      <td>1</td>\n",
       "      <td>6</td>\n",
       "      <td>1</td>\n",
       "      <td>0</td>\n",
       "    </tr>\n",
       "    <tr>\n",
       "      <th>2</th>\n",
       "      <td>1</td>\n",
       "      <td>7</td>\n",
       "      <td>2</td>\n",
       "      <td>1</td>\n",
       "    </tr>\n",
       "    <tr>\n",
       "      <th>3</th>\n",
       "      <td>2</td>\n",
       "      <td>8</td>\n",
       "      <td>0</td>\n",
       "      <td>0</td>\n",
       "    </tr>\n",
       "    <tr>\n",
       "      <th>4</th>\n",
       "      <td>2</td>\n",
       "      <td>9</td>\n",
       "      <td>1</td>\n",
       "      <td>0</td>\n",
       "    </tr>\n",
       "    <tr>\n",
       "      <th>5</th>\n",
       "      <td>2</td>\n",
       "      <td>10</td>\n",
       "      <td>2</td>\n",
       "      <td>1</td>\n",
       "    </tr>\n",
       "  </tbody>\n",
       "</table>\n",
       "</div>"
      ],
      "text/plain": [
       "   ab  cd  before  is_end\n",
       "0   1   5       0       0\n",
       "1   1   6       1       0\n",
       "2   1   7       2       1\n",
       "3   2   8       0       0\n",
       "4   2   9       1       0\n",
       "5   2  10       2       1"
      ]
     },
     "execution_count": 52,
     "metadata": {},
     "output_type": "execute_result"
    }
   ],
   "source": [
    "a = pd.DataFrame({\"ab\":[1,1,1,2,2,2], \"cd\":[5,6,7,8,9,10]})\n",
    "a[\"before\"] = a.groupby(\"ab\").cumcount()\n",
    "\n",
    "a[\"is_end\"] = (a.groupby(\"ab\").before.transform(\"last\") == a.before).astype(int)\n",
    "a"
   ]
  },
  {
   "cell_type": "code",
   "execution_count": 72,
   "metadata": {},
   "outputs": [],
   "source": [
    "from recommenders.data_utils.preprocessing import preprocess_train_data\n",
    "buf = preprocess_train_data(dir=\"../data/RetailRocket/sampled_train.df\", \n",
    "                      padding_id=70852,\n",
    "                      pad_pos=\"end\",\n",
    "                      action_to_reward_dict={0:0.2, 1:1},\n",
    "                      state_len=10)"
   ]
  },
  {
   "cell_type": "code",
   "execution_count": 73,
   "metadata": {},
   "outputs": [
    {
     "data": {
      "text/html": [
       "<div>\n",
       "<style scoped>\n",
       "    .dataframe tbody tr th:only-of-type {\n",
       "        vertical-align: middle;\n",
       "    }\n",
       "\n",
       "    .dataframe tbody tr th {\n",
       "        vertical-align: top;\n",
       "    }\n",
       "\n",
       "    .dataframe thead th {\n",
       "        text-align: right;\n",
       "    }\n",
       "</style>\n",
       "<table border=\"1\" class=\"dataframe\">\n",
       "  <thead>\n",
       "    <tr style=\"text-align: right;\">\n",
       "      <th></th>\n",
       "      <th>state</th>\n",
       "      <th>action</th>\n",
       "      <th>next_state</th>\n",
       "      <th>action_type</th>\n",
       "      <th>is_end</th>\n",
       "    </tr>\n",
       "  </thead>\n",
       "  <tbody>\n",
       "    <tr>\n",
       "      <th>742616</th>\n",
       "      <td>[70852, 70852, 70852, 70852, 70852, 70852, 708...</td>\n",
       "      <td>49432</td>\n",
       "      <td>[49432, 70852, 70852, 70852, 70852, 70852, 708...</td>\n",
       "      <td>0</td>\n",
       "      <td>False</td>\n",
       "    </tr>\n",
       "    <tr>\n",
       "      <th>735273</th>\n",
       "      <td>[49432, 70852, 70852, 70852, 70852, 70852, 708...</td>\n",
       "      <td>49432</td>\n",
       "      <td>[49432, 49432, 70852, 70852, 70852, 70852, 708...</td>\n",
       "      <td>0</td>\n",
       "      <td>False</td>\n",
       "    </tr>\n",
       "    <tr>\n",
       "      <th>737711</th>\n",
       "      <td>[49432, 49432, 70852, 70852, 70852, 70852, 708...</td>\n",
       "      <td>39563</td>\n",
       "      <td>[49432, 49432, 39563, 70852, 70852, 70852, 708...</td>\n",
       "      <td>0</td>\n",
       "      <td>False</td>\n",
       "    </tr>\n",
       "    <tr>\n",
       "      <th>726292</th>\n",
       "      <td>[49432, 49432, 39563, 70852, 70852, 70852, 708...</td>\n",
       "      <td>32776</td>\n",
       "      <td>[49432, 49432, 39563, 32776, 70852, 70852, 708...</td>\n",
       "      <td>0</td>\n",
       "      <td>False</td>\n",
       "    </tr>\n",
       "    <tr>\n",
       "      <th>737615</th>\n",
       "      <td>[49432, 49432, 39563, 32776, 70852, 70852, 708...</td>\n",
       "      <td>52161</td>\n",
       "      <td>[49432, 49432, 39563, 32776, 52161, 70852, 708...</td>\n",
       "      <td>0</td>\n",
       "      <td>False</td>\n",
       "    </tr>\n",
       "    <tr>\n",
       "      <th>...</th>\n",
       "      <td>...</td>\n",
       "      <td>...</td>\n",
       "      <td>...</td>\n",
       "      <td>...</td>\n",
       "      <td>...</td>\n",
       "    </tr>\n",
       "    <tr>\n",
       "      <th>2642325</th>\n",
       "      <td>[2023, 35206, 17613, 70852, 70852, 70852, 7085...</td>\n",
       "      <td>8618</td>\n",
       "      <td>[2023, 35206, 17613, 8618, 70852, 70852, 70852...</td>\n",
       "      <td>0</td>\n",
       "      <td>False</td>\n",
       "    </tr>\n",
       "    <tr>\n",
       "      <th>2755781</th>\n",
       "      <td>[2023, 35206, 17613, 8618, 70852, 70852, 70852...</td>\n",
       "      <td>55283</td>\n",
       "      <td>[2023, 35206, 17613, 8618, 55283, 70852, 70852...</td>\n",
       "      <td>0</td>\n",
       "      <td>False</td>\n",
       "    </tr>\n",
       "    <tr>\n",
       "      <th>2742528</th>\n",
       "      <td>[2023, 35206, 17613, 8618, 55283, 70852, 70852...</td>\n",
       "      <td>70386</td>\n",
       "      <td>[2023, 35206, 17613, 8618, 55283, 70386, 70852...</td>\n",
       "      <td>0</td>\n",
       "      <td>False</td>\n",
       "    </tr>\n",
       "    <tr>\n",
       "      <th>656195</th>\n",
       "      <td>[2023, 35206, 17613, 8618, 55283, 70386, 70852...</td>\n",
       "      <td>12338</td>\n",
       "      <td>[2023, 35206, 17613, 8618, 55283, 70386, 12338...</td>\n",
       "      <td>0</td>\n",
       "      <td>False</td>\n",
       "    </tr>\n",
       "    <tr>\n",
       "      <th>645052</th>\n",
       "      <td>[2023, 35206, 17613, 8618, 55283, 70386, 12338...</td>\n",
       "      <td>12338</td>\n",
       "      <td>[2023, 35206, 17613, 8618, 55283, 70386, 12338...</td>\n",
       "      <td>0</td>\n",
       "      <td>True</td>\n",
       "    </tr>\n",
       "  </tbody>\n",
       "</table>\n",
       "<p>988719 rows × 5 columns</p>\n",
       "</div>"
      ],
      "text/plain": [
       "                                                     state  action  \\\n",
       "742616   [70852, 70852, 70852, 70852, 70852, 70852, 708...   49432   \n",
       "735273   [49432, 70852, 70852, 70852, 70852, 70852, 708...   49432   \n",
       "737711   [49432, 49432, 70852, 70852, 70852, 70852, 708...   39563   \n",
       "726292   [49432, 49432, 39563, 70852, 70852, 70852, 708...   32776   \n",
       "737615   [49432, 49432, 39563, 32776, 70852, 70852, 708...   52161   \n",
       "...                                                    ...     ...   \n",
       "2642325  [2023, 35206, 17613, 70852, 70852, 70852, 7085...    8618   \n",
       "2755781  [2023, 35206, 17613, 8618, 70852, 70852, 70852...   55283   \n",
       "2742528  [2023, 35206, 17613, 8618, 55283, 70852, 70852...   70386   \n",
       "656195   [2023, 35206, 17613, 8618, 55283, 70386, 70852...   12338   \n",
       "645052   [2023, 35206, 17613, 8618, 55283, 70386, 12338...   12338   \n",
       "\n",
       "                                                next_state  action_type  \\\n",
       "742616   [49432, 70852, 70852, 70852, 70852, 70852, 708...            0   \n",
       "735273   [49432, 49432, 70852, 70852, 70852, 70852, 708...            0   \n",
       "737711   [49432, 49432, 39563, 70852, 70852, 70852, 708...            0   \n",
       "726292   [49432, 49432, 39563, 32776, 70852, 70852, 708...            0   \n",
       "737615   [49432, 49432, 39563, 32776, 52161, 70852, 708...            0   \n",
       "...                                                    ...          ...   \n",
       "2642325  [2023, 35206, 17613, 8618, 70852, 70852, 70852...            0   \n",
       "2755781  [2023, 35206, 17613, 8618, 55283, 70852, 70852...            0   \n",
       "2742528  [2023, 35206, 17613, 8618, 55283, 70386, 70852...            0   \n",
       "656195   [2023, 35206, 17613, 8618, 55283, 70386, 12338...            0   \n",
       "645052   [2023, 35206, 17613, 8618, 55283, 70386, 12338...            0   \n",
       "\n",
       "         is_end  \n",
       "742616    False  \n",
       "735273    False  \n",
       "737711    False  \n",
       "726292    False  \n",
       "737615    False  \n",
       "...         ...  \n",
       "2642325   False  \n",
       "2755781   False  \n",
       "2742528   False  \n",
       "656195    False  \n",
       "645052     True  \n",
       "\n",
       "[988719 rows x 5 columns]"
      ]
     },
     "execution_count": 73,
     "metadata": {},
     "output_type": "execute_result"
    }
   ],
   "source": [
    "buf"
   ]
  },
  {
   "cell_type": "code",
   "execution_count": 74,
   "metadata": {},
   "outputs": [
    {
     "ename": "NameError",
     "evalue": "name 'replay_buffer' is not defined",
     "output_type": "error",
     "traceback": [
      "\u001b[0;31m---------------------------------------------------------------------------\u001b[0m",
      "\u001b[0;31mNameError\u001b[0m                                 Traceback (most recent call last)",
      "Cell \u001b[0;32mIn[74], line 1\u001b[0m\n\u001b[0;32m----> 1\u001b[0m replay_buffer\u001b[39m.\u001b[39mlen_state\n",
      "\u001b[0;31mNameError\u001b[0m: name 'replay_buffer' is not defined"
     ]
    }
   ],
   "source": [
    "replay_buffer\n",
    "\n",
    "# Works like a charm "
   ]
  },
  {
   "cell_type": "code",
   "execution_count": 91,
   "metadata": {},
   "outputs": [
    {
     "data": {
      "text/html": [
       "<div>\n",
       "<style scoped>\n",
       "    .dataframe tbody tr th:only-of-type {\n",
       "        vertical-align: middle;\n",
       "    }\n",
       "\n",
       "    .dataframe tbody tr th {\n",
       "        vertical-align: top;\n",
       "    }\n",
       "\n",
       "    .dataframe thead th {\n",
       "        text-align: right;\n",
       "    }\n",
       "</style>\n",
       "<table border=\"1\" class=\"dataframe\">\n",
       "  <thead>\n",
       "    <tr style=\"text-align: right;\">\n",
       "      <th></th>\n",
       "      <th>state</th>\n",
       "      <th>action</th>\n",
       "      <th>reward</th>\n",
       "      <th>next_state</th>\n",
       "      <th>action_type</th>\n",
       "      <th>is_end</th>\n",
       "    </tr>\n",
       "  </thead>\n",
       "  <tbody>\n",
       "    <tr>\n",
       "      <th>0</th>\n",
       "      <td>[999, 999, 999]</td>\n",
       "      <td>1</td>\n",
       "      <td>10</td>\n",
       "      <td>[999, 999, 1]</td>\n",
       "      <td>0</td>\n",
       "      <td>False</td>\n",
       "    </tr>\n",
       "    <tr>\n",
       "      <th>1</th>\n",
       "      <td>[999, 999, 1]</td>\n",
       "      <td>2</td>\n",
       "      <td>10</td>\n",
       "      <td>[999, 1, 2]</td>\n",
       "      <td>0</td>\n",
       "      <td>False</td>\n",
       "    </tr>\n",
       "    <tr>\n",
       "      <th>2</th>\n",
       "      <td>[999, 1, 2]</td>\n",
       "      <td>3</td>\n",
       "      <td>10</td>\n",
       "      <td>[1, 2, 3]</td>\n",
       "      <td>0</td>\n",
       "      <td>False</td>\n",
       "    </tr>\n",
       "    <tr>\n",
       "      <th>3</th>\n",
       "      <td>[1, 2, 3]</td>\n",
       "      <td>4</td>\n",
       "      <td>50</td>\n",
       "      <td>[2, 3, 4]</td>\n",
       "      <td>1</td>\n",
       "      <td>True</td>\n",
       "    </tr>\n",
       "    <tr>\n",
       "      <th>4</th>\n",
       "      <td>[999, 999, 999]</td>\n",
       "      <td>6</td>\n",
       "      <td>10</td>\n",
       "      <td>[999, 999, 6]</td>\n",
       "      <td>0</td>\n",
       "      <td>False</td>\n",
       "    </tr>\n",
       "    <tr>\n",
       "      <th>5</th>\n",
       "      <td>[999, 999, 6]</td>\n",
       "      <td>7</td>\n",
       "      <td>10</td>\n",
       "      <td>[999, 6, 7]</td>\n",
       "      <td>0</td>\n",
       "      <td>False</td>\n",
       "    </tr>\n",
       "    <tr>\n",
       "      <th>6</th>\n",
       "      <td>[999, 6, 7]</td>\n",
       "      <td>8</td>\n",
       "      <td>50</td>\n",
       "      <td>[6, 7, 8]</td>\n",
       "      <td>1</td>\n",
       "      <td>False</td>\n",
       "    </tr>\n",
       "    <tr>\n",
       "      <th>7</th>\n",
       "      <td>[6, 7, 8]</td>\n",
       "      <td>9</td>\n",
       "      <td>10</td>\n",
       "      <td>[7, 8, 9]</td>\n",
       "      <td>0</td>\n",
       "      <td>False</td>\n",
       "    </tr>\n",
       "    <tr>\n",
       "      <th>8</th>\n",
       "      <td>[7, 8, 9]</td>\n",
       "      <td>10</td>\n",
       "      <td>10</td>\n",
       "      <td>[8, 9, 10]</td>\n",
       "      <td>0</td>\n",
       "      <td>False</td>\n",
       "    </tr>\n",
       "    <tr>\n",
       "      <th>9</th>\n",
       "      <td>[8, 9, 10]</td>\n",
       "      <td>11</td>\n",
       "      <td>10</td>\n",
       "      <td>[9, 10, 11]</td>\n",
       "      <td>0</td>\n",
       "      <td>True</td>\n",
       "    </tr>\n",
       "    <tr>\n",
       "      <th>10</th>\n",
       "      <td>[999, 999, 999]</td>\n",
       "      <td>100</td>\n",
       "      <td>50</td>\n",
       "      <td>[999, 999, 100]</td>\n",
       "      <td>1</td>\n",
       "      <td>False</td>\n",
       "    </tr>\n",
       "    <tr>\n",
       "      <th>11</th>\n",
       "      <td>[999, 999, 100]</td>\n",
       "      <td>101</td>\n",
       "      <td>50</td>\n",
       "      <td>[999, 100, 101]</td>\n",
       "      <td>1</td>\n",
       "      <td>True</td>\n",
       "    </tr>\n",
       "  </tbody>\n",
       "</table>\n",
       "</div>"
      ],
      "text/plain": [
       "              state  action  reward       next_state  action_type  is_end\n",
       "0   [999, 999, 999]       1      10    [999, 999, 1]            0   False\n",
       "1     [999, 999, 1]       2      10      [999, 1, 2]            0   False\n",
       "2       [999, 1, 2]       3      10        [1, 2, 3]            0   False\n",
       "3         [1, 2, 3]       4      50        [2, 3, 4]            1    True\n",
       "4   [999, 999, 999]       6      10    [999, 999, 6]            0   False\n",
       "5     [999, 999, 6]       7      10      [999, 6, 7]            0   False\n",
       "6       [999, 6, 7]       8      50        [6, 7, 8]            1   False\n",
       "7         [6, 7, 8]       9      10        [7, 8, 9]            0   False\n",
       "8         [7, 8, 9]      10      10       [8, 9, 10]            0   False\n",
       "9        [8, 9, 10]      11      10      [9, 10, 11]            0    True\n",
       "10  [999, 999, 999]     100      50  [999, 999, 100]            1   False\n",
       "11  [999, 999, 100]     101      50  [999, 100, 101]            1    True"
      ]
     },
     "execution_count": 91,
     "metadata": {},
     "output_type": "execute_result"
    }
   ],
   "source": [
    "from recommenders.data_utils.preprocessing import preprocess_train_data\n",
    "train_beg_pad = preprocess_train_data(dir=\"../test/data_transform_test.df\", \n",
    "                      padding_id=999,\n",
    "        state_len=3,\n",
    "        action_to_reward_dict={0: 10, 1: 50},\n",
    "        pad_pos=\"beg\",\n",
    "        action_type_name=\"ActionType\",\n",
    "        session_id_name=\"SessionID\",\n",
    "        action_name=\"Item\",)\n",
    "train_beg_pad"
   ]
  },
  {
   "cell_type": "code",
   "execution_count": 18,
   "metadata": {},
   "outputs": [
    {
     "name": "stderr",
     "output_type": "stream",
     "text": [
      "Epoch 0: 100%|██████████| 100/100 [00:01<00:00, 81.63batch/s]\n",
      "Epoch 1: 100%|██████████| 100/100 [00:01<00:00, 82.55batch/s]\n",
      "Epoch 2: 100%|██████████| 100/100 [00:01<00:00, 81.90batch/s]\n",
      "Epoch 3: 100%|██████████| 100/100 [00:01<00:00, 81.41batch/s]\n"
     ]
    }
   ],
   "source": [
    "# GPU: 6.6GB for 1000 and 5000\n",
    "# Progress bar\n",
    "from tqdm import tqdm\n",
    "from time import sleep\n",
    "\n",
    "data_loader = list(range(100))\n",
    "\n",
    "for epoch in range(4):\n",
    "    for i, j in enumerate(tqdm(data_loader, desc=f\"Epoch {epoch}\", unit=\"batch\")):\n",
    "        sleep(0.01)"
   ]
  },
  {
   "cell_type": "code",
   "execution_count": 21,
   "metadata": {},
   "outputs": [],
   "source": [
    "import csv\n",
    "a = {\"hallo\":13,\n",
    " \"morgen\":10}\n",
    "\n",
    "def dict_to_csv(top_k_dict, topk, dir, csv_name):\n",
    "    csv_path = os.path.join(dir, csv_name)\n",
    "    with open(csv_path, 'w') as csvfile:\n",
    "        writer = csv.DictWriter(csvfile, fieldnames=dict.keys())\n",
    "        writer.writeheader()\n",
    "        writer.writerow(dict)"
   ]
  },
  {
   "cell_type": "code",
   "execution_count": 53,
   "metadata": {},
   "outputs": [],
   "source": [
    "import numpy as np\n",
    "import os\n",
    "top_k = [5,10,20]\n",
    "a = {\"click\":np.array([1,2,3]), \"buy\":np.array([5,5,5])}\n",
    "csv_path = os.path.join(\".\", \"Names.csv\")\n",
    "with open(csv_path, 'w') as csvfile:\n",
    "    writer = csv.writer(csvfile)\n",
    "    writer.writerow([\"k\"]+list(a.keys()))\n",
    "    writer.writerows(zip(top_k, *a.values()))"
   ]
  },
  {
   "cell_type": "code",
   "execution_count": 54,
   "metadata": {},
   "outputs": [
    {
     "data": {
      "text/html": [
       "<div>\n",
       "<style scoped>\n",
       "    .dataframe tbody tr th:only-of-type {\n",
       "        vertical-align: middle;\n",
       "    }\n",
       "\n",
       "    .dataframe tbody tr th {\n",
       "        vertical-align: top;\n",
       "    }\n",
       "\n",
       "    .dataframe thead th {\n",
       "        text-align: right;\n",
       "    }\n",
       "</style>\n",
       "<table border=\"1\" class=\"dataframe\">\n",
       "  <thead>\n",
       "    <tr style=\"text-align: right;\">\n",
       "      <th></th>\n",
       "      <th>k</th>\n",
       "      <th>click</th>\n",
       "      <th>buy</th>\n",
       "    </tr>\n",
       "  </thead>\n",
       "  <tbody>\n",
       "    <tr>\n",
       "      <th>0</th>\n",
       "      <td>5</td>\n",
       "      <td>1</td>\n",
       "      <td>5</td>\n",
       "    </tr>\n",
       "    <tr>\n",
       "      <th>1</th>\n",
       "      <td>10</td>\n",
       "      <td>2</td>\n",
       "      <td>5</td>\n",
       "    </tr>\n",
       "    <tr>\n",
       "      <th>2</th>\n",
       "      <td>20</td>\n",
       "      <td>3</td>\n",
       "      <td>5</td>\n",
       "    </tr>\n",
       "  </tbody>\n",
       "</table>\n",
       "</div>"
      ],
      "text/plain": [
       "    k  click  buy\n",
       "0   5      1    5\n",
       "1  10      2    5\n",
       "2  20      3    5"
      ]
     },
     "execution_count": 54,
     "metadata": {},
     "output_type": "execute_result"
    }
   ],
   "source": [
    "pd.read_csv(\"./Names.csv\")"
   ]
  },
  {
   "cell_type": "code",
   "execution_count": 58,
   "metadata": {},
   "outputs": [
    {
     "data": {
      "text/plain": [
       "{'Train_HR@10[Click]': 20,\n",
       " 'Train_NDCG@10[Click]': 20,\n",
       " 'Val_HR@10[Click]': 20,\n",
       " 'Val_NDCG@10[Click]': 20,\n",
       " 'Train_HR@10[Purch]': 200,\n",
       " 'Train_NDCG@10[Purch]': 200,\n",
       " 'Val_HR@10[Purch]': 200,\n",
       " 'Val_NDCG@10[Purch]': 200,\n",
       " 'Train_HR@10[Total]': 400,\n",
       " 'Train_NDCG@10[Total]': 400,\n",
       " 'Val_HR@10[Total]': 400,\n",
       " 'Val_NDCG@10[Total]': 400}"
      ]
     },
     "execution_count": 58,
     "metadata": {},
     "output_type": "execute_result"
    }
   ],
   "source": [
    "def get_logging_dict(top_k, action_types_names, train_hit_ratio, train_ndcg, val_hit_ratio, val_ndcg):\n",
    "    \"\"\"\n",
    "    Get dictionary with all metrics for the evaluation\n",
    "    metrics, for each action and k:\n",
    "    - HR@k-Action\n",
    "    - NDCG@k-Action\n",
    "    \"\"\"\n",
    "    for i, k in enumerate(top_k):\n",
    "        epoch_log_res = {}\n",
    "        for a_t in list(action_types_names) + [\"total\"]:\n",
    "            type_desc = a_t.capitalize()\n",
    "            epoch_log_res[\n",
    "                f\"Train_HR@{k}[{type_desc}]\"\n",
    "            ] = train_hit_ratio[a_t][i]\n",
    "            epoch_log_res[\n",
    "                f\"Train_NDCG@{k}[{type_desc}]\"\n",
    "            ] = train_ndcg[a_t][i]\n",
    "            epoch_log_res[f\"Val_HR@{k}[{type_desc}]\"] = val_hit_ratio[a_t][i]\n",
    "            epoch_log_res[f\"Val_NDCG@{k}[{type_desc}]\"] = val_ndcg[a_t][i]\n",
    "\n",
    "    return epoch_log_res\n",
    "\n",
    "get_logging_dict([5,10], [\"click\", \"purch\"], {\"click\":[10,20], \"purch\":[100,200], \"total\":[300,400]}, \n",
    "{\"click\":[10,20], \"purch\":[100,200], \"total\":[300,400]}, {\"click\":[10,20], \"purch\":[100,200], \"total\":[300,400]}, {\"click\":[10,20], \"purch\":[100,200], \"total\":[300,400]})"
   ]
  },
  {
   "cell_type": "code",
   "execution_count": null,
   "metadata": {},
   "outputs": [],
   "source": [
    "# The actions must be ordered, from 0 to max_action! For the predicitons and comps to make sense!\n",
    "# Also loss computations, here Q/Action is picked from this index so no 1, 100, 123432, - 0,1,2,...,max"
   ]
  }
 ],
 "metadata": {
  "kernelspec": {
   "display_name": "RecommenderModels",
   "language": "python",
   "name": "python3"
  },
  "language_info": {
   "codemirror_mode": {
    "name": "ipython",
    "version": 3
   },
   "file_extension": ".py",
   "mimetype": "text/x-python",
   "name": "python",
   "nbconvert_exporter": "python",
   "pygments_lexer": "ipython3",
   "version": "3.9.15"
  },
  "orig_nbformat": 4,
  "vscode": {
   "interpreter": {
    "hash": "7d88d4b03a2ecce5ef9fa6e2b4fba24fc59644f272c7aa6cbff04d59cd6dbfc5"
   }
  }
 },
 "nbformat": 4,
 "nbformat_minor": 2
}
